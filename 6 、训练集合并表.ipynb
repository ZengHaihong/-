{
 "cells": [
  {
   "cell_type": "code",
   "execution_count": 1,
   "metadata": {
    "collapsed": true
   },
   "outputs": [],
   "source": [
    "import pandas as pd\n",
    "import numpy as np\n",
    "import os\n",
    "import re\n",
    "import warnings\n",
    "import pickle\n",
    "import os.path\n",
    "import seaborn\n",
    "import pickle\n",
    "import os.path\n",
    "from numpy import linalg\n",
    "import matplotlib.pyplot as plt\n",
    "import matplotlib as mpl\n",
    "import seaborn as sns\n",
    "import jieba\n",
    "\n",
    "\n",
    "mpl.rcParams.update({'font.size': 30})\n",
    "\n",
    "mpl.rcParams['font.sans-serif'] = ['SimHei']\n",
    "mpl.rcParams['font.serif'] = ['SimHei']\n",
    "\n",
    "import seaborn as sns\n",
    "#sns.set_style('whitegrid',{'font.sans-serif':['simhei','Arial']})\n",
    "sns.set_style(\"darkgrid\",{\"font.sans-serif\":['simhei', 'Arial']})\n",
    "#plt.style.use('ggplot')\n",
    "mpl.rc('xtick', labelsize=20) \n",
    "mpl.rc('ytick', labelsize=20) \n",
    "%matplotlib inline"
   ]
  },
  {
   "cell_type": "code",
   "execution_count": 2,
   "metadata": {
    "collapsed": false
   },
   "outputs": [
    {
     "data": {
      "text/plain": [
       "['总表v2.pickle',\n",
       " '金额特征.pickle',\n",
       " '金额细节.pickle',\n",
       " '出院诊断病种分词将结果.pickle',\n",
       " '医院个数.pickle',\n",
       " '出院诊断病种的个数.pickle',\n",
       " '周索引.pickle',\n",
       " '总表v1.pickle',\n",
       " '天索引.pickle',\n",
       " '交易间隔.pickle',\n",
       " '交易次数.pickle']"
      ]
     },
     "execution_count": 2,
     "metadata": {},
     "output_type": "execute_result"
    }
   ],
   "source": [
    "os.chdir(\"/home/zhh/文档/阿里巴巴/data/6.合表/\")\n",
    "os.listdir()"
   ]
  },
  {
   "cell_type": "code",
   "execution_count": 3,
   "metadata": {
    "collapsed": true
   },
   "outputs": [],
   "source": [
    "fee_feature = pd.read_pickle(\"金额特征.pickle\")"
   ]
  },
  {
   "cell_type": "code",
   "execution_count": 4,
   "metadata": {
    "collapsed": false
   },
   "outputs": [],
   "source": [
    "fee_detail = pd.read_pickle(\"金额细节.pickle\")\n",
    "\n",
    "# 修改一下fee_detail的总价和三目统计项目\n",
    "fee_detail = fee_detail.rename(columns = {\"总价\":\"三目项目总价\",\"三目统计项目\":\"三目统计项目总计和\"})"
   ]
  },
  {
   "cell_type": "code",
   "execution_count": 5,
   "metadata": {
    "collapsed": false
   },
   "outputs": [],
   "source": [
    "# 金额特征和金额细节合并成fee表\n",
    "fee = pd.merge(fee_feature,fee_detail,how='left',left_on=['个人编码','标签'],right_on=['个人编码','标签'])"
   ]
  },
  {
   "cell_type": "code",
   "execution_count": 6,
   "metadata": {
    "collapsed": false
   },
   "outputs": [],
   "source": [
    "# 删除金额特征和金额特征\n",
    "del fee_detail\n",
    "del fee_feature"
   ]
  },
  {
   "cell_type": "code",
   "execution_count": 7,
   "metadata": {
    "collapsed": false
   },
   "outputs": [],
   "source": [
    "cyzd = pd.read_pickle(\"出院诊断病种分词将结果.pickle\")\n",
    "cyzd.head()\n",
    "cyzd[\"标签\"] = cyzd[\"标签\"].map(lambda x:1 if x>0 else 0)"
   ]
  },
  {
   "cell_type": "code",
   "execution_count": 8,
   "metadata": {
    "collapsed": false
   },
   "outputs": [],
   "source": [
    "cyzd.columns=['个人编码','挂号次数和','空值次数和','肾病次数和','门特次数和','心血管病次数和',\n",
    " '脑血管病次数和','癌症次数和','肺病次数和','糖尿病次数和','神经病次数和','精神病次数和','高血压次数和',\n",
    " '病变次数和','偏瘫次数和','心脏病次数和','肺心病次数和', '肾性次数和','合并次数和','肾病1次数和','其他次数和', '标签']"
   ]
  },
  {
   "cell_type": "code",
   "execution_count": 9,
   "metadata": {
    "collapsed": false
   },
   "outputs": [],
   "source": [
    "# 合并出院诊断病种\n",
    "fee_cyzd = pd.merge(fee,cyzd,how='left')"
   ]
  },
  {
   "cell_type": "code",
   "execution_count": 10,
   "metadata": {
    "collapsed": false
   },
   "outputs": [],
   "source": [
    "# 删除fee和cyzd表\n",
    "del fee\n",
    "del cyzd"
   ]
  },
  {
   "cell_type": "code",
   "execution_count": 11,
   "metadata": {
    "collapsed": true
   },
   "outputs": [],
   "source": [
    "hs_cont = pd.read_pickle(\"出院诊断病种的个数.pickle\")"
   ]
  },
  {
   "cell_type": "code",
   "execution_count": 12,
   "metadata": {
    "collapsed": false
   },
   "outputs": [],
   "source": [
    "#合并出院诊断病种个数\n",
    "fee_hs_cyzd=pd.merge(fee_cyzd,hs_cont,how ='left')"
   ]
  },
  {
   "cell_type": "code",
   "execution_count": 13,
   "metadata": {
    "collapsed": false
   },
   "outputs": [],
   "source": [
    "zhou = pd.read_pickle('周索引.pickle')\n",
    "tian = pd.read_pickle('天索引.pickle')\n",
    "jyjg=pd.read_pickle('交易间隔.pickle')\n",
    "jycs = pd.read_pickle('交易次数.pickle')"
   ]
  },
  {
   "cell_type": "code",
   "execution_count": 14,
   "metadata": {
    "collapsed": false
   },
   "outputs": [],
   "source": [
    "data0 = pd.merge(fee_hs_cyzd,zhou,how='left')\n",
    "\n",
    "data1 =pd.merge(data0,tian[[\"个人编码\",\"标签\",\"上中下旬\"]],how = 'left')\n",
    "\n",
    "data2 = pd.merge(data1,jyjg,how='left')\n",
    "\n",
    "data3 = pd.merge(data2,jycs,how='left')\n",
    "\n",
    "data3.to_pickle(\"总表v1.pickle\")"
   ]
  },
  {
   "cell_type": "code",
   "execution_count": 19,
   "metadata": {
    "collapsed": false
   },
   "outputs": [
    {
     "data": {
      "text/plain": [
       "(15960, 60)"
      ]
     },
     "execution_count": 19,
     "metadata": {},
     "output_type": "execute_result"
    }
   ],
   "source": [
    "data3.shape"
   ]
  },
  {
   "cell_type": "code",
   "execution_count": 21,
   "metadata": {
    "collapsed": false
   },
   "outputs": [],
   "source": [
    "hs_count=pd.read_pickle(\"医院个数.pickle\")"
   ]
  },
  {
   "cell_type": "code",
   "execution_count": 24,
   "metadata": {
    "collapsed": false
   },
   "outputs": [],
   "source": [
    "data4 = pd.merge(data3,hs_count,how='left')"
   ]
  },
  {
   "cell_type": "code",
   "execution_count": 25,
   "metadata": {
    "collapsed": true
   },
   "outputs": [],
   "source": [
    "data4.to_pickle(\"总表v2.pickle\")"
   ]
  },
  {
   "cell_type": "code",
   "execution_count": 3,
   "metadata": {
    "collapsed": true
   },
   "outputs": [],
   "source": [
    "new_week = pd.read_pickle(\"/home/zhh/文档/阿里巴巴/data/6.合表/新周索引.pickle\")\n",
    "data4 = pd.read_pickle(\"/home/zhh/文档/阿里巴巴/data/6.合表/总表v2.pickle\")"
   ]
  },
  {
   "cell_type": "code",
   "execution_count": 4,
   "metadata": {
    "collapsed": true
   },
   "outputs": [],
   "source": [
    "data4.drop([\"一周星期几\"],axis=1,inplace=True)"
   ]
  },
  {
   "cell_type": "code",
   "execution_count": 6,
   "metadata": {
    "collapsed": false
   },
   "outputs": [],
   "source": [
    "data5 = pd.merge(data4,new_week,how='left')"
   ]
  },
  {
   "cell_type": "code",
   "execution_count": 7,
   "metadata": {
    "collapsed": true
   },
   "outputs": [],
   "source": [
    "data5.head()\n",
    "data5.to_pickle(\"/home/zhh/文档/阿里巴巴/data/6.合表/训练集总表v3.pickle\")"
   ]
  },
  {
   "cell_type": "code",
   "execution_count": 8,
   "metadata": {
    "collapsed": false
   },
   "outputs": [
    {
     "data": {
      "text/html": [
       "<div>\n",
       "<table border=\"1\" class=\"dataframe\">\n",
       "  <thead>\n",
       "    <tr style=\"text-align: right;\">\n",
       "      <th></th>\n",
       "      <th>个人编码</th>\n",
       "      <th>药品费发生金额</th>\n",
       "      <th>贵重药品发生金额</th>\n",
       "      <th>中成药费发生金额</th>\n",
       "      <th>中草药费发生金额</th>\n",
       "      <th>药品费自费金额</th>\n",
       "      <th>药品费申报金额</th>\n",
       "      <th>检查费发生金额</th>\n",
       "      <th>检查费申报金额</th>\n",
       "      <th>治疗费发生金额</th>\n",
       "      <th>...</th>\n",
       "      <th>交易间隔最大值</th>\n",
       "      <th>交易次数</th>\n",
       "      <th>医院个数</th>\n",
       "      <th>一周星期几_Friday</th>\n",
       "      <th>一周星期几_Monday</th>\n",
       "      <th>一周星期几_Saturday</th>\n",
       "      <th>一周星期几_Sunday</th>\n",
       "      <th>一周星期几_Thursday</th>\n",
       "      <th>一周星期几_Tuesday</th>\n",
       "      <th>一周星期几_Wednesday</th>\n",
       "    </tr>\n",
       "  </thead>\n",
       "  <tbody>\n",
       "    <tr>\n",
       "      <th>0</th>\n",
       "      <td>352120000000231</td>\n",
       "      <td>9.208056</td>\n",
       "      <td>6.900025</td>\n",
       "      <td>7.980256</td>\n",
       "      <td>-13.815511</td>\n",
       "      <td>3.068983</td>\n",
       "      <td>9.192798</td>\n",
       "      <td>5.192957</td>\n",
       "      <td>5.192957</td>\n",
       "      <td>4.060443</td>\n",
       "      <td>...</td>\n",
       "      <td>2.639058</td>\n",
       "      <td>19</td>\n",
       "      <td>38</td>\n",
       "      <td>4</td>\n",
       "      <td>1</td>\n",
       "      <td>2</td>\n",
       "      <td>0</td>\n",
       "      <td>2</td>\n",
       "      <td>8</td>\n",
       "      <td>2</td>\n",
       "    </tr>\n",
       "    <tr>\n",
       "      <th>1</th>\n",
       "      <td>352120000000386</td>\n",
       "      <td>8.842352</td>\n",
       "      <td>7.457194</td>\n",
       "      <td>6.613760</td>\n",
       "      <td>-13.815511</td>\n",
       "      <td>2.916689</td>\n",
       "      <td>8.816529</td>\n",
       "      <td>5.164786</td>\n",
       "      <td>5.164786</td>\n",
       "      <td>4.110874</td>\n",
       "      <td>...</td>\n",
       "      <td>2.708051</td>\n",
       "      <td>9</td>\n",
       "      <td>38</td>\n",
       "      <td>0</td>\n",
       "      <td>1</td>\n",
       "      <td>0</td>\n",
       "      <td>0</td>\n",
       "      <td>0</td>\n",
       "      <td>7</td>\n",
       "      <td>1</td>\n",
       "    </tr>\n",
       "    <tr>\n",
       "      <th>2</th>\n",
       "      <td>352120000000408</td>\n",
       "      <td>8.757120</td>\n",
       "      <td>-13.815511</td>\n",
       "      <td>7.207934</td>\n",
       "      <td>-13.815511</td>\n",
       "      <td>-2.525716</td>\n",
       "      <td>8.741202</td>\n",
       "      <td>-13.815511</td>\n",
       "      <td>-13.815511</td>\n",
       "      <td>7.307873</td>\n",
       "      <td>...</td>\n",
       "      <td>2.564950</td>\n",
       "      <td>23</td>\n",
       "      <td>55</td>\n",
       "      <td>0</td>\n",
       "      <td>10</td>\n",
       "      <td>0</td>\n",
       "      <td>0</td>\n",
       "      <td>1</td>\n",
       "      <td>9</td>\n",
       "      <td>3</td>\n",
       "    </tr>\n",
       "    <tr>\n",
       "      <th>3</th>\n",
       "      <td>352120000000409</td>\n",
       "      <td>8.231839</td>\n",
       "      <td>-13.815511</td>\n",
       "      <td>8.132516</td>\n",
       "      <td>-13.815511</td>\n",
       "      <td>-13.815511</td>\n",
       "      <td>8.231839</td>\n",
       "      <td>-13.815511</td>\n",
       "      <td>-13.815511</td>\n",
       "      <td>8.284757</td>\n",
       "      <td>...</td>\n",
       "      <td>2.708051</td>\n",
       "      <td>14</td>\n",
       "      <td>35</td>\n",
       "      <td>8</td>\n",
       "      <td>2</td>\n",
       "      <td>1</td>\n",
       "      <td>0</td>\n",
       "      <td>1</td>\n",
       "      <td>2</td>\n",
       "      <td>0</td>\n",
       "    </tr>\n",
       "    <tr>\n",
       "      <th>4</th>\n",
       "      <td>352120000000511</td>\n",
       "      <td>9.060940</td>\n",
       "      <td>7.236498</td>\n",
       "      <td>7.731527</td>\n",
       "      <td>-13.815511</td>\n",
       "      <td>-0.328503</td>\n",
       "      <td>9.052959</td>\n",
       "      <td>-13.815511</td>\n",
       "      <td>-13.815511</td>\n",
       "      <td>4.941642</td>\n",
       "      <td>...</td>\n",
       "      <td>2.944440</td>\n",
       "      <td>15</td>\n",
       "      <td>39</td>\n",
       "      <td>3</td>\n",
       "      <td>0</td>\n",
       "      <td>1</td>\n",
       "      <td>1</td>\n",
       "      <td>4</td>\n",
       "      <td>2</td>\n",
       "      <td>4</td>\n",
       "    </tr>\n",
       "  </tbody>\n",
       "</table>\n",
       "<p>5 rows × 67 columns</p>\n",
       "</div>"
      ],
      "text/plain": [
       "              个人编码   药品费发生金额   贵重药品发生金额  中成药费发生金额   中草药费发生金额    药品费自费金额  \\\n",
       "0  352120000000231  9.208056   6.900025  7.980256 -13.815511   3.068983   \n",
       "1  352120000000386  8.842352   7.457194  6.613760 -13.815511   2.916689   \n",
       "2  352120000000408  8.757120 -13.815511  7.207934 -13.815511  -2.525716   \n",
       "3  352120000000409  8.231839 -13.815511  8.132516 -13.815511 -13.815511   \n",
       "4  352120000000511  9.060940   7.236498  7.731527 -13.815511  -0.328503   \n",
       "\n",
       "    药品费申报金额    检查费发生金额    检查费申报金额   治疗费发生金额       ...          交易间隔最大值  交易次数  \\\n",
       "0  9.192798   5.192957   5.192957  4.060443       ...         2.639058    19   \n",
       "1  8.816529   5.164786   5.164786  4.110874       ...         2.708051     9   \n",
       "2  8.741202 -13.815511 -13.815511  7.307873       ...         2.564950    23   \n",
       "3  8.231839 -13.815511 -13.815511  8.284757       ...         2.708051    14   \n",
       "4  9.052959 -13.815511 -13.815511  4.941642       ...         2.944440    15   \n",
       "\n",
       "   医院个数  一周星期几_Friday  一周星期几_Monday  一周星期几_Saturday  一周星期几_Sunday  \\\n",
       "0    38             4             1               2             0   \n",
       "1    38             0             1               0             0   \n",
       "2    55             0            10               0             0   \n",
       "3    35             8             2               1             0   \n",
       "4    39             3             0               1             1   \n",
       "\n",
       "   一周星期几_Thursday  一周星期几_Tuesday  一周星期几_Wednesday  \n",
       "0               2              8                2  \n",
       "1               0              7                1  \n",
       "2               1              9                3  \n",
       "3               1              2                0  \n",
       "4               4              2                4  \n",
       "\n",
       "[5 rows x 67 columns]"
      ]
     },
     "execution_count": 8,
     "metadata": {},
     "output_type": "execute_result"
    }
   ],
   "source": [
    "data5.head()"
   ]
  },
  {
   "cell_type": "code",
   "execution_count": null,
   "metadata": {
    "collapsed": true
   },
   "outputs": [],
   "source": []
  }
 ],
 "metadata": {
  "kernelspec": {
   "display_name": "Python 3",
   "language": "python",
   "name": "python3"
  },
  "language_info": {
   "codemirror_mode": {
    "name": "ipython",
    "version": 3
   },
   "file_extension": ".py",
   "mimetype": "text/x-python",
   "name": "python",
   "nbconvert_exporter": "python",
   "pygments_lexer": "ipython3",
   "version": "3.6.0"
  }
 },
 "nbformat": 4,
 "nbformat_minor": 2
}
