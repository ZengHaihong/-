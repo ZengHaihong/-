{
 "cells": [
  {
   "cell_type": "code",
   "execution_count": 74,
   "metadata": {
    "collapsed": false
   },
   "outputs": [],
   "source": [
    "import pandas as pd\n",
    "import sklearn\n",
    "import numpy as np\n",
    "import matplotlib.pyplot as plt\n",
    "from sklearn.ensemble import RandomForestClassifier \n",
    "from sklearn.cross_validation import KFold, cross_val_score,train_test_split\n",
    "from sklearn.metrics import classification_report, accuracy_score, confusion_matrix\n",
    "from sklearn.metrics import confusion_matrix\n",
    "import matplotlib as mpl\n",
    "mpl.rc('xtick', labelsize=25) \n",
    "mpl.rc('ytick', labelsize=25)\n",
    "import itertools\n",
    "\n",
    "from sklearn.externals import joblib\n",
    "from collections import Counter\n",
    "from sklearn.model_selection import learning_curve\n",
    "from sklearn.model_selection import StratifiedKFold\n",
    "import warnings\n",
    "warnings.filterwarnings('ignore')\n",
    "from sklearn.utils import shuffle\n",
    "from sklearn import svm\n",
    "from sklearn.pipeline import Pipeline\n",
    "from sklearn.grid_search import GridSearchCV\n",
    "from sklearn.preprocessing import StandardScaler\n",
    "#特征选择 \n",
    "%matplotlib inline"
   ]
  },
  {
   "cell_type": "code",
   "execution_count": 96,
   "metadata": {
    "collapsed": false
   },
   "outputs": [],
   "source": [
    "# 导入数据\n",
    "train = pd.read_pickle(\"/home/zhh/文档/阿里巴巴/data/6.合表/训练集总表08131042.pickle\")\n",
    "train.columns\n",
    "X = train.drop([\"标签\"],axis = 1)\n",
    "y = train[\"标签\"].map(lambda x:-1 if x==1 else 1)"
   ]
  },
  {
   "cell_type": "code",
   "execution_count": 97,
   "metadata": {
    "collapsed": false
   },
   "outputs": [
    {
     "data": {
      "text/plain": [
       " 1    0.950564\n",
       "-1    0.049436\n",
       "Name: 标签, dtype: float64"
      ]
     },
     "execution_count": 97,
     "metadata": {},
     "output_type": "execute_result"
    }
   ],
   "source": [
    "#*************y的骗保和不偏保的比例\n",
    "y.value_counts()/y.shape[0]"
   ]
  },
  {
   "cell_type": "code",
   "execution_count": 98,
   "metadata": {
    "collapsed": false
   },
   "outputs": [],
   "source": [
    "#*******************数据进行归一化******************************\n",
    "X_train,X_test,y_train,y_test = train_test_split(X,y,test_size = 0.2)\n",
    "scaler = StandardScaler()\n",
    "scaler.fit(X_train)\n",
    "new_X_train = scaler.fit_transform(X_train)\n",
    "new_X_test = scaler.transform(X_test)"
   ]
  },
  {
   "cell_type": "code",
   "execution_count": 101,
   "metadata": {
    "collapsed": false
   },
   "outputs": [
    {
     "data": {
      "text/plain": [
       "OneClassSVM(cache_size=200, coef0=0.0, degree=3, gamma=5e-05, kernel='rbf',\n",
       "      max_iter=-1, nu=0.04, random_state=None, shrinking=True, tol=0.001,\n",
       "      verbose=False)"
      ]
     },
     "execution_count": 101,
     "metadata": {},
     "output_type": "execute_result"
    }
   ],
   "source": [
    "nu = 0.04\n",
    "model = svm.OneClassSVM(nu=nu,kernel='rbf', gamma=0.00005) \n",
    "model.fit(new_X_train)"
   ]
  },
  {
   "cell_type": "code",
   "execution_count": 102,
   "metadata": {
    "collapsed": false
   },
   "outputs": [
    {
     "name": "stdout",
     "output_type": "stream",
     "text": [
      "             precision    recall  f1-score   support\n",
      "\n",
      "         -1       0.29      0.19      0.23       150\n",
      "          1       0.96      0.98      0.97      3042\n",
      "\n",
      "avg / total       0.93      0.94      0.93      3192\n",
      "\n"
     ]
    }
   ],
   "source": [
    "\n",
    "from sklearn import metrics  \n",
    "preds = model.predict(new_X_test)  \n",
    "targs = y_test\n",
    "print(classification_report(targs,preds))"
   ]
  },
  {
   "cell_type": "markdown",
   "metadata": {},
   "source": [
    " # part 孤立森林"
   ]
  },
  {
   "cell_type": "code",
   "execution_count": 103,
   "metadata": {
    "collapsed": true
   },
   "outputs": [],
   "source": [
    "from sklearn.ensemble import IsolationForest"
   ]
  },
  {
   "cell_type": "code",
   "execution_count": 112,
   "metadata": {
    "collapsed": true
   },
   "outputs": [],
   "source": [
    "# 导入数据\n",
    "train = pd.read_pickle(\"/home/zhh/文档/阿里巴巴/data/6.合表/训练集总表08131042.pickle\")\n",
    "train.columns\n",
    "X = train.drop([\"标签\"],axis = 1)\n",
    "y = train[\"标签\"].map(lambda x:-1 if x==1 else 1)"
   ]
  },
  {
   "cell_type": "code",
   "execution_count": 129,
   "metadata": {
    "collapsed": true
   },
   "outputs": [],
   "source": [
    "X_train,X_test,y_train,y_test = train_test_split(X,y,test_size = 0.3)\n",
    "scaler = StandardScaler()\n",
    "scaler.fit(X_train)\n",
    "new_X_train = scaler.fit_transform(X_train)\n",
    "new_X_test = scaler.transform(X_test)"
   ]
  },
  {
   "cell_type": "code",
   "execution_count": 136,
   "metadata": {
    "collapsed": false
   },
   "outputs": [
    {
     "data": {
      "text/plain": [
       "IsolationForest(bootstrap=True, contamination=0.1, max_features=0.3,\n",
       "        max_samples='auto', n_estimators=1500, n_jobs=1, random_state=None,\n",
       "        verbose=0)"
      ]
     },
     "execution_count": 136,
     "metadata": {},
     "output_type": "execute_result"
    }
   ],
   "source": [
    "itree = IsolationForest(bootstrap=True,n_estimators=1500,max_features=.3)\n",
    "itree.fit(new_X_train)"
   ]
  },
  {
   "cell_type": "code",
   "execution_count": 137,
   "metadata": {
    "collapsed": false
   },
   "outputs": [
    {
     "name": "stdout",
     "output_type": "stream",
     "text": [
      "             precision    recall  f1-score   support\n",
      "\n",
      "         -1       0.17      0.39      0.24       217\n",
      "          1       0.97      0.91      0.94      4571\n",
      "\n",
      "avg / total       0.93      0.89      0.91      4788\n",
      "\n"
     ]
    }
   ],
   "source": [
    "preds = itree.predict(new_X_test)\n",
    "print(classification_report(y_test,preds))"
   ]
  },
  {
   "cell_type": "code",
   "execution_count": null,
   "metadata": {
    "collapsed": true
   },
   "outputs": [],
   "source": []
  }
 ],
 "metadata": {
  "kernelspec": {
   "display_name": "Python 3",
   "language": "python",
   "name": "python3"
  },
  "language_info": {
   "codemirror_mode": {
    "name": "ipython",
    "version": 3
   },
   "file_extension": ".py",
   "mimetype": "text/x-python",
   "name": "python",
   "nbconvert_exporter": "python",
   "pygments_lexer": "ipython3",
   "version": "3.6.0"
  }
 },
 "nbformat": 4,
 "nbformat_minor": 2
}
