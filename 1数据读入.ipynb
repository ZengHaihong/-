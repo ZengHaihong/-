{
 "cells": [
  {
   "cell_type": "code",
   "execution_count": 1,
   "metadata": {
    "collapsed": false
   },
   "outputs": [],
   "source": [
    "import pandas as pd\n",
    "import numpy as np\n",
    "import os\n",
    "import warnings\n",
    "import pickle\n",
    "import os.path\n",
    "import seaborn\n",
    "import pickle\n",
    "import os.path"
   ]
  },
  {
   "cell_type": "code",
   "execution_count": 2,
   "metadata": {
    "collapsed": false
   },
   "outputs": [
    {
     "data": {
      "text/plain": [
       "True"
      ]
     },
     "execution_count": 2,
     "metadata": {},
     "output_type": "execute_result"
    }
   ],
   "source": [
    "data_path = '/home/zhh/文档/阿里巴巴/data'\n",
    "os.chdir(data_path)\n",
    "os.path.exists('/home/zhh/文档/阿里巴巴/data')"
   ]
  },
  {
   "cell_type": "code",
   "execution_count": 3,
   "metadata": {
    "collapsed": false
   },
   "outputs": [
    {
     "data": {
      "text/plain": [
       "['2联表',\n",
       " 'fee_detail.csv',\n",
       " '3.分析train和train_id',\n",
       " 'df_test.csv',\n",
       " 'df_id_train.csv',\n",
       " 'df_train.csv',\n",
       " '1数据读入',\n",
       " '6.合表',\n",
       " 'df_id_test.csv',\n",
       " '.~lock.df_train.csv#',\n",
       " '4.分析fee_detail',\n",
       " '.~lock.df_test.csv#',\n",
       " '精准社保各数据集字段']"
      ]
     },
     "execution_count": 3,
     "metadata": {},
     "output_type": "execute_result"
    }
   ],
   "source": [
    "os.listdir()"
   ]
  },
  {
   "cell_type": "code",
   "execution_count": 4,
   "metadata": {
    "collapsed": false
   },
   "outputs": [
    {
     "name": "stderr",
     "output_type": "stream",
     "text": [
      "/home/zhh/anaconda3/lib/python3.6/site-packages/IPython/core/interactiveshell.py:2717: DtypeWarning: Columns (56,58,59) have mixed types. Specify dtype option on import or set low_memory=False.\n",
      "  interactivity=interactivity, compiler=compiler, result=result)\n"
     ]
    }
   ],
   "source": [
    "#读取df_train数据集\n",
    "train = pd.read_csv('df_train.csv',index_col=None)"
   ]
  },
  {
   "cell_type": "code",
   "execution_count": 5,
   "metadata": {
    "collapsed": false,
    "scrolled": false
   },
   "outputs": [
    {
     "data": {
      "text/plain": [
       "15961"
      ]
     },
     "execution_count": 5,
     "metadata": {},
     "output_type": "execute_result"
    }
   ],
   "source": [
    "#得到train表中所有字段的类型\n",
    "len(train['个人编码'])"
   ]
  },
  {
   "cell_type": "code",
   "execution_count": 81,
   "metadata": {
    "collapsed": false
   },
   "outputs": [
    {
     "data": {
      "text/html": [
       "<div>\n",
       "<table border=\"1\" class=\"dataframe\">\n",
       "  <thead>\n",
       "    <tr style=\"text-align: right;\">\n",
       "      <th></th>\n",
       "      <th>顺序号</th>\n",
       "      <th>个人编码</th>\n",
       "      <th>医院编码</th>\n",
       "      <th>药品费发生金额</th>\n",
       "      <th>贵重药品发生金额</th>\n",
       "      <th>中成药费发生金额</th>\n",
       "      <th>中草药费发生金额</th>\n",
       "      <th>药品费自费金额</th>\n",
       "      <th>药品费拒付金额</th>\n",
       "      <th>药品费申报金额</th>\n",
       "      <th>...</th>\n",
       "      <th>出院诊断病种名称</th>\n",
       "      <th>本次审批金额</th>\n",
       "      <th>补助审批金额</th>\n",
       "      <th>医疗救助医院申请</th>\n",
       "      <th>残疾军人医疗补助基金支付金额</th>\n",
       "      <th>民政救助补助金额</th>\n",
       "      <th>城乡优抚补助金额</th>\n",
       "      <th>非典补助补助金额</th>\n",
       "      <th>家床起付线剩余</th>\n",
       "      <th>操作时间</th>\n",
       "    </tr>\n",
       "  </thead>\n",
       "  <tbody>\n",
       "    <tr>\n",
       "      <th>0</th>\n",
       "      <td>MT01801607015822812</td>\n",
       "      <td>352120001523108</td>\n",
       "      <td>180</td>\n",
       "      <td>0.0</td>\n",
       "      <td>0.0</td>\n",
       "      <td>0.0</td>\n",
       "      <td>0.0</td>\n",
       "      <td>0.0</td>\n",
       "      <td>0.0</td>\n",
       "      <td>0.0</td>\n",
       "      <td>...</td>\n",
       "      <td>挂号</td>\n",
       "      <td>3.0</td>\n",
       "      <td>0.6</td>\n",
       "      <td>0.0</td>\n",
       "      <td>NaN</td>\n",
       "      <td>0.48</td>\n",
       "      <td>0.0</td>\n",
       "      <td>0.0</td>\n",
       "      <td>0.0</td>\n",
       "      <td>01-7月 -16</td>\n",
       "    </tr>\n",
       "    <tr>\n",
       "      <th>1</th>\n",
       "      <td>MT01431607015822815</td>\n",
       "      <td>352120001475556</td>\n",
       "      <td>143</td>\n",
       "      <td>0.0</td>\n",
       "      <td>0.0</td>\n",
       "      <td>0.0</td>\n",
       "      <td>0.0</td>\n",
       "      <td>0.0</td>\n",
       "      <td>0.0</td>\n",
       "      <td>0.0</td>\n",
       "      <td>...</td>\n",
       "      <td>挂号</td>\n",
       "      <td>12.5</td>\n",
       "      <td>NaN</td>\n",
       "      <td>0.0</td>\n",
       "      <td>NaN</td>\n",
       "      <td>0.00</td>\n",
       "      <td>0.0</td>\n",
       "      <td>0.0</td>\n",
       "      <td>0.0</td>\n",
       "      <td>01-7月 -16</td>\n",
       "    </tr>\n",
       "    <tr>\n",
       "      <th>2</th>\n",
       "      <td>MT01101607015822817</td>\n",
       "      <td>352120003484886</td>\n",
       "      <td>110</td>\n",
       "      <td>0.0</td>\n",
       "      <td>0.0</td>\n",
       "      <td>0.0</td>\n",
       "      <td>0.0</td>\n",
       "      <td>0.0</td>\n",
       "      <td>0.0</td>\n",
       "      <td>0.0</td>\n",
       "      <td>...</td>\n",
       "      <td>挂号</td>\n",
       "      <td>2.5</td>\n",
       "      <td>NaN</td>\n",
       "      <td>0.0</td>\n",
       "      <td>NaN</td>\n",
       "      <td>0.00</td>\n",
       "      <td>0.0</td>\n",
       "      <td>0.0</td>\n",
       "      <td>0.0</td>\n",
       "      <td>01-7月 -16</td>\n",
       "    </tr>\n",
       "    <tr>\n",
       "      <th>3</th>\n",
       "      <td>MT01101607015822838</td>\n",
       "      <td>352120002750505</td>\n",
       "      <td>110</td>\n",
       "      <td>0.0</td>\n",
       "      <td>0.0</td>\n",
       "      <td>0.0</td>\n",
       "      <td>0.0</td>\n",
       "      <td>0.0</td>\n",
       "      <td>0.0</td>\n",
       "      <td>0.0</td>\n",
       "      <td>...</td>\n",
       "      <td>挂号</td>\n",
       "      <td>15.0</td>\n",
       "      <td>NaN</td>\n",
       "      <td>0.0</td>\n",
       "      <td>NaN</td>\n",
       "      <td>0.00</td>\n",
       "      <td>0.0</td>\n",
       "      <td>0.0</td>\n",
       "      <td>0.0</td>\n",
       "      <td>01-7月 -16</td>\n",
       "    </tr>\n",
       "    <tr>\n",
       "      <th>4</th>\n",
       "      <td>MT01101607015822840</td>\n",
       "      <td>352120001556755</td>\n",
       "      <td>110</td>\n",
       "      <td>0.0</td>\n",
       "      <td>0.0</td>\n",
       "      <td>0.0</td>\n",
       "      <td>0.0</td>\n",
       "      <td>0.0</td>\n",
       "      <td>0.0</td>\n",
       "      <td>0.0</td>\n",
       "      <td>...</td>\n",
       "      <td>挂号</td>\n",
       "      <td>2.5</td>\n",
       "      <td>NaN</td>\n",
       "      <td>0.0</td>\n",
       "      <td>NaN</td>\n",
       "      <td>0.00</td>\n",
       "      <td>0.0</td>\n",
       "      <td>0.0</td>\n",
       "      <td>0.0</td>\n",
       "      <td>01-7月 -16</td>\n",
       "    </tr>\n",
       "  </tbody>\n",
       "</table>\n",
       "<p>5 rows × 69 columns</p>\n",
       "</div>"
      ],
      "text/plain": [
       "                   顺序号             个人编码 医院编码  药品费发生金额  贵重药品发生金额  中成药费发生金额  \\\n",
       "0  MT01801607015822812  352120001523108  180      0.0       0.0       0.0   \n",
       "1  MT01431607015822815  352120001475556  143      0.0       0.0       0.0   \n",
       "2  MT01101607015822817  352120003484886  110      0.0       0.0       0.0   \n",
       "3  MT01101607015822838  352120002750505  110      0.0       0.0       0.0   \n",
       "4  MT01101607015822840  352120001556755  110      0.0       0.0       0.0   \n",
       "\n",
       "   中草药费发生金额  药品费自费金额  药品费拒付金额  药品费申报金额    ...      出院诊断病种名称  本次审批金额  补助审批金额  \\\n",
       "0       0.0      0.0      0.0      0.0    ...            挂号     3.0     0.6   \n",
       "1       0.0      0.0      0.0      0.0    ...            挂号    12.5     NaN   \n",
       "2       0.0      0.0      0.0      0.0    ...            挂号     2.5     NaN   \n",
       "3       0.0      0.0      0.0      0.0    ...            挂号    15.0     NaN   \n",
       "4       0.0      0.0      0.0      0.0    ...            挂号     2.5     NaN   \n",
       "\n",
       "   医疗救助医院申请  残疾军人医疗补助基金支付金额  民政救助补助金额  城乡优抚补助金额  非典补助补助金额  家床起付线剩余       操作时间  \n",
       "0       0.0             NaN      0.48       0.0       0.0      0.0  01-7月 -16  \n",
       "1       0.0             NaN      0.00       0.0       0.0      0.0  01-7月 -16  \n",
       "2       0.0             NaN      0.00       0.0       0.0      0.0  01-7月 -16  \n",
       "3       0.0             NaN      0.00       0.0       0.0      0.0  01-7月 -16  \n",
       "4       0.0             NaN      0.00       0.0       0.0      0.0  01-7月 -16  \n",
       "\n",
       "[5 rows x 69 columns]"
      ]
     },
     "execution_count": 81,
     "metadata": {},
     "output_type": "execute_result"
    }
   ],
   "source": [
    "#字段类型\n",
    "train.个人编码 = train.个人编码.map(lambda x:str(x).split('.')[0])\n",
    "train.医院编码 = train.医院编码.map(lambda x:str(x).split('.')[0])\n",
    "train.双笔退费标识 = train.双笔退费标识.map(lambda x:str(x).split('.')[0])\n",
    "train.head()"
   ]
  },
  {
   "cell_type": "code",
   "execution_count": 14,
   "metadata": {
    "collapsed": false
   },
   "outputs": [
    {
     "name": "stdout",
     "output_type": "stream",
     "text": [
      "原数据有895421行，69列\n",
      "字段如下\t:\n",
      "\t 顺序号\n",
      "\t 个人编码\n",
      "\t 医院编码\n",
      "\t 药品费发生金额\n",
      "\t 贵重药品发生金额\n",
      "\t 中成药费发生金额\n",
      "\t 中草药费发生金额\n",
      "\t 药品费自费金额\n",
      "\t 药品费拒付金额\n",
      "\t 药品费申报金额\n",
      "\t 检查费发生金额\n",
      "\t 贵重检查费金额\n",
      "\t 检查费自费金额\n",
      "\t 检查费拒付金额\n",
      "\t 检查费申报金额\n",
      "\t 治疗费发生金额\n",
      "\t 治疗费自费金额\n",
      "\t 治疗费拒付金额\n",
      "\t 治疗费申报金额\n",
      "\t 手术费发生金额\n",
      "\t 手术费自费金额\n",
      "\t 手术费拒付金额\n",
      "\t 手术费申报金额\n",
      "\t 床位费发生金额\n",
      "\t 床位费拒付金额\n",
      "\t 床位费申报金额\n",
      "\t 医用材料发生金额\n",
      "\t 高价材料发生金额\n",
      "\t 医用材料费自费金额\n",
      "\t 医用材料费拒付金额\n",
      "\t 输全血申报金额\n",
      "\t 成分输血自费金额\n",
      "\t 成分输血拒付金额\n",
      "\t 成分输血申报金额\n",
      "\t 其它发生金额\n",
      "\t 其它拒付金额\n",
      "\t 其它申报金额\n",
      "\t 一次性医用材料自费金额\n",
      "\t 一次性医用材料拒付金额\n",
      "\t 一次性医用材料申报金额\n",
      "\t 输全血按比例自负金额\n",
      "\t 起付线标准金额\n",
      "\t 起付标准以上自负比例金额\n",
      "\t 医疗救助个人按比例负担金额\n",
      "\t 最高限额以上金额\n",
      "\t 统筹拒付金额\n",
      "\t 基本医疗保险统筹基金支付金额\n",
      "\t 交易时间\n",
      "\t 农民工医疗救助计算金额\n",
      "\t 公务员医疗补助基金支付金额\n",
      "\t 城乡救助补助金额\n",
      "\t 可用账户报销金额\n",
      "\t 基本医疗保险个人账户支付金额\n",
      "\t 非账户支付金额\n",
      "\t 双笔退费标识\n",
      "\t 住院开始时间\n",
      "\t 住院终止时间\n",
      "\t 住院天数\n",
      "\t 申报受理时间\n",
      "\t 出院诊断病种名称\n",
      "\t 本次审批金额\n",
      "\t 补助审批金额\n",
      "\t 医疗救助医院申请\n",
      "\t 残疾军人医疗补助基金支付金额\n",
      "\t 民政救助补助金额\n",
      "\t 城乡优抚补助金额\n",
      "\t 非典补助补助金额\n",
      "\t 家床起付线剩余\n",
      "\t 操作时间\n",
      "****************************\n",
      "**********数据类型******************\n",
      "顺序号                object\n",
      "个人编码               object\n",
      "医院编码               object\n",
      "药品费发生金额           float64\n",
      "贵重药品发生金额          float64\n",
      "中成药费发生金额          float64\n",
      "中草药费发生金额          float64\n",
      "药品费自费金额           float64\n",
      "药品费拒付金额           float64\n",
      "药品费申报金额           float64\n",
      "检查费发生金额           float64\n",
      "贵重检查费金额           float64\n",
      "检查费自费金额           float64\n",
      "检查费拒付金额           float64\n",
      "检查费申报金额           float64\n",
      "治疗费发生金额           float64\n",
      "治疗费自费金额           float64\n",
      "治疗费拒付金额           float64\n",
      "治疗费申报金额           float64\n",
      "手术费发生金额           float64\n",
      "手术费自费金额           float64\n",
      "手术费拒付金额           float64\n",
      "手术费申报金额           float64\n",
      "床位费发生金额           float64\n",
      "床位费拒付金额           float64\n",
      "床位费申报金额           float64\n",
      "医用材料发生金额          float64\n",
      "高价材料发生金额          float64\n",
      "医用材料费自费金额         float64\n",
      "医用材料费拒付金额         float64\n",
      "                   ...   \n",
      "一次性医用材料申报金额       float64\n",
      "输全血按比例自负金额        float64\n",
      "起付线标准金额           float64\n",
      "起付标准以上自负比例金额      float64\n",
      "医疗救助个人按比例负担金额     float64\n",
      "最高限额以上金额          float64\n",
      "统筹拒付金额            float64\n",
      "基本医疗保险统筹基金支付金额    float64\n",
      "交易时间               object\n",
      "农民工医疗救助计算金额       float64\n",
      "公务员医疗补助基金支付金额     float64\n",
      "城乡救助补助金额          float64\n",
      "可用账户报销金额          float64\n",
      "基本医疗保险个人账户支付金额    float64\n",
      "非账户支付金额           float64\n",
      "双笔退费标识            float64\n",
      "住院开始时间             object\n",
      "住院终止时间             object\n",
      "住院天数              float64\n",
      "申报受理时间             object\n",
      "出院诊断病种名称           object\n",
      "本次审批金额            float64\n",
      "补助审批金额            float64\n",
      "医疗救助医院申请          float64\n",
      "残疾军人医疗补助基金支付金额    float64\n",
      "民政救助补助金额          float64\n",
      "城乡优抚补助金额          float64\n",
      "非典补助补助金额          float64\n",
      "家床起付线剩余           float64\n",
      "操作时间               object\n",
      "dtype: object\n"
     ]
    }
   ],
   "source": [
    "#查看数据的整体概况\n",
    "print('原数据有{0}行，{1}列'.format(train.shape[0],train.shape[1]))\n",
    "print('字段如下\\t:')\n",
    "for i in train.columns:\n",
    "    print('\\t',i)\n",
    "print('****************************')\n",
    "\n",
    "print('**********数据类型******************')\n",
    "print(train.dtypes)"
   ]
  },
  {
   "cell_type": "code",
   "execution_count": 15,
   "metadata": {
    "collapsed": false
   },
   "outputs": [
    {
     "name": "stdout",
     "output_type": "stream",
     "text": [
      "<class 'pandas.core.frame.DataFrame'>\n",
      "RangeIndex: 895421 entries, 0 to 895420\n",
      "Data columns (total 69 columns):\n",
      "顺序号               895421 non-null object\n",
      "个人编码              895421 non-null object\n",
      "医院编码              895421 non-null object\n",
      "药品费发生金额           895420 non-null float64\n",
      "贵重药品发生金额          895420 non-null float64\n",
      "中成药费发生金额          895420 non-null float64\n",
      "中草药费发生金额          895420 non-null float64\n",
      "药品费自费金额           895420 non-null float64\n",
      "药品费拒付金额           895420 non-null float64\n",
      "药品费申报金额           895420 non-null float64\n",
      "检查费发生金额           895420 non-null float64\n",
      "贵重检查费金额           895420 non-null float64\n",
      "检查费自费金额           895420 non-null float64\n",
      "检查费拒付金额           895420 non-null float64\n",
      "检查费申报金额           895420 non-null float64\n",
      "治疗费发生金额           895420 non-null float64\n",
      "治疗费自费金额           895420 non-null float64\n",
      "治疗费拒付金额           895420 non-null float64\n",
      "治疗费申报金额           895420 non-null float64\n",
      "手术费发生金额           895420 non-null float64\n",
      "手术费自费金额           895420 non-null float64\n",
      "手术费拒付金额           895420 non-null float64\n",
      "手术费申报金额           895420 non-null float64\n",
      "床位费发生金额           895420 non-null float64\n",
      "床位费拒付金额           895420 non-null float64\n",
      "床位费申报金额           895420 non-null float64\n",
      "医用材料发生金额          895420 non-null float64\n",
      "高价材料发生金额          895420 non-null float64\n",
      "医用材料费自费金额         895420 non-null float64\n",
      "医用材料费拒付金额         895420 non-null float64\n",
      "输全血申报金额           895420 non-null float64\n",
      "成分输血自费金额          895420 non-null float64\n",
      "成分输血拒付金额          895420 non-null float64\n",
      "成分输血申报金额          895420 non-null float64\n",
      "其它发生金额            895420 non-null float64\n",
      "其它拒付金额            895420 non-null float64\n",
      "其它申报金额            895420 non-null float64\n",
      "一次性医用材料自费金额       276929 non-null float64\n",
      "一次性医用材料拒付金额       0 non-null float64\n",
      "一次性医用材料申报金额       276929 non-null float64\n",
      "输全血按比例自负金额        895420 non-null float64\n",
      "起付线标准金额           895420 non-null float64\n",
      "起付标准以上自负比例金额      895420 non-null float64\n",
      "医疗救助个人按比例负担金额     895420 non-null float64\n",
      "最高限额以上金额          895420 non-null float64\n",
      "统筹拒付金额            895420 non-null float64\n",
      "基本医疗保险统筹基金支付金额    895420 non-null float64\n",
      "交易时间              895420 non-null object\n",
      "农民工医疗救助计算金额       0 non-null float64\n",
      "公务员医疗补助基金支付金额     17772 non-null float64\n",
      "城乡救助补助金额          158626 non-null float64\n",
      "可用账户报销金额          895420 non-null float64\n",
      "基本医疗保险个人账户支付金额    895420 non-null float64\n",
      "非账户支付金额           895420 non-null float64\n",
      "双笔退费标识            895420 non-null float64\n",
      "住院开始时间            895420 non-null object\n",
      "住院终止时间            226586 non-null object\n",
      "住院天数              895420 non-null float64\n",
      "申报受理时间            226586 non-null object\n",
      "出院诊断病种名称          225488 non-null object\n",
      "本次审批金额            894623 non-null float64\n",
      "补助审批金额            158469 non-null float64\n",
      "医疗救助医院申请          894623 non-null float64\n",
      "残疾军人医疗补助基金支付金额    257 non-null float64\n",
      "民政救助补助金额          894619 non-null float64\n",
      "城乡优抚补助金额          894623 non-null float64\n",
      "非典补助补助金额          894623 non-null float64\n",
      "家床起付线剩余           225790 non-null float64\n",
      "操作时间              894623 non-null object\n",
      "dtypes: float64(60), object(9)\n",
      "memory usage: 471.4+ MB\n"
     ]
    }
   ],
   "source": [
    "train.info()"
   ]
  },
  {
   "cell_type": "code",
   "execution_count": 44,
   "metadata": {
    "collapsed": false
   },
   "outputs": [
    {
     "data": {
      "text/html": [
       "<div>\n",
       "<table border=\"1\" class=\"dataframe\">\n",
       "  <thead>\n",
       "    <tr style=\"text-align: right;\">\n",
       "      <th></th>\n",
       "      <th>个人编码</th>\n",
       "      <th>医院编码</th>\n",
       "      <th>药品费发生金额</th>\n",
       "      <th>贵重药品发生金额</th>\n",
       "      <th>中成药费发生金额</th>\n",
       "      <th>中草药费发生金额</th>\n",
       "      <th>药品费自费金额</th>\n",
       "      <th>药品费拒付金额</th>\n",
       "      <th>药品费申报金额</th>\n",
       "      <th>检查费发生金额</th>\n",
       "      <th>...</th>\n",
       "      <th>双笔退费标识</th>\n",
       "      <th>住院天数</th>\n",
       "      <th>本次审批金额</th>\n",
       "      <th>补助审批金额</th>\n",
       "      <th>医疗救助医院申请</th>\n",
       "      <th>残疾军人医疗补助基金支付金额</th>\n",
       "      <th>民政救助补助金额</th>\n",
       "      <th>城乡优抚补助金额</th>\n",
       "      <th>非典补助补助金额</th>\n",
       "      <th>家床起付线剩余</th>\n",
       "    </tr>\n",
       "  </thead>\n",
       "  <tbody>\n",
       "    <tr>\n",
       "      <th>count</th>\n",
       "      <td>8.954200e+05</td>\n",
       "      <td>895420.000000</td>\n",
       "      <td>895420.000000</td>\n",
       "      <td>895420.000000</td>\n",
       "      <td>895420.000000</td>\n",
       "      <td>895420.000000</td>\n",
       "      <td>895420.000000</td>\n",
       "      <td>895420.0</td>\n",
       "      <td>895420.000000</td>\n",
       "      <td>895420.000000</td>\n",
       "      <td>...</td>\n",
       "      <td>895420.0</td>\n",
       "      <td>895420.0</td>\n",
       "      <td>894623.000000</td>\n",
       "      <td>158469.000000</td>\n",
       "      <td>894623.000000</td>\n",
       "      <td>257.000000</td>\n",
       "      <td>894619.000000</td>\n",
       "      <td>894623.000000</td>\n",
       "      <td>894623.0</td>\n",
       "      <td>225790.0</td>\n",
       "    </tr>\n",
       "    <tr>\n",
       "      <th>mean</th>\n",
       "      <td>3.521202e+14</td>\n",
       "      <td>338.580059</td>\n",
       "      <td>166.186030</td>\n",
       "      <td>28.962263</td>\n",
       "      <td>36.822063</td>\n",
       "      <td>26.433363</td>\n",
       "      <td>0.788062</td>\n",
       "      <td>0.0</td>\n",
       "      <td>163.598836</td>\n",
       "      <td>6.756894</td>\n",
       "      <td>...</td>\n",
       "      <td>0.0</td>\n",
       "      <td>0.0</td>\n",
       "      <td>198.294283</td>\n",
       "      <td>33.173890</td>\n",
       "      <td>2.072563</td>\n",
       "      <td>115.886770</td>\n",
       "      <td>3.776899</td>\n",
       "      <td>0.013576</td>\n",
       "      <td>0.0</td>\n",
       "      <td>0.0</td>\n",
       "    </tr>\n",
       "    <tr>\n",
       "      <th>std</th>\n",
       "      <td>7.565886e+08</td>\n",
       "      <td>333.703993</td>\n",
       "      <td>290.702795</td>\n",
       "      <td>178.907588</td>\n",
       "      <td>113.155150</td>\n",
       "      <td>124.622667</td>\n",
       "      <td>5.177994</td>\n",
       "      <td>0.0</td>\n",
       "      <td>283.703252</td>\n",
       "      <td>47.519840</td>\n",
       "      <td>...</td>\n",
       "      <td>0.0</td>\n",
       "      <td>0.0</td>\n",
       "      <td>338.097977</td>\n",
       "      <td>71.275079</td>\n",
       "      <td>59.199728</td>\n",
       "      <td>225.154569</td>\n",
       "      <td>22.574922</td>\n",
       "      <td>0.907724</td>\n",
       "      <td>0.0</td>\n",
       "      <td>0.0</td>\n",
       "    </tr>\n",
       "    <tr>\n",
       "      <th>min</th>\n",
       "      <td>3.521200e+14</td>\n",
       "      <td>2.000000</td>\n",
       "      <td>0.000000</td>\n",
       "      <td>0.000000</td>\n",
       "      <td>0.000000</td>\n",
       "      <td>0.000000</td>\n",
       "      <td>0.000000</td>\n",
       "      <td>0.0</td>\n",
       "      <td>0.000000</td>\n",
       "      <td>0.000000</td>\n",
       "      <td>...</td>\n",
       "      <td>0.0</td>\n",
       "      <td>0.0</td>\n",
       "      <td>0.000000</td>\n",
       "      <td>0.000000</td>\n",
       "      <td>0.000000</td>\n",
       "      <td>0.000000</td>\n",
       "      <td>0.000000</td>\n",
       "      <td>0.000000</td>\n",
       "      <td>0.0</td>\n",
       "      <td>0.0</td>\n",
       "    </tr>\n",
       "    <tr>\n",
       "      <th>25%</th>\n",
       "      <td>3.521200e+14</td>\n",
       "      <td>149.000000</td>\n",
       "      <td>0.000000</td>\n",
       "      <td>0.000000</td>\n",
       "      <td>0.000000</td>\n",
       "      <td>0.000000</td>\n",
       "      <td>0.000000</td>\n",
       "      <td>0.0</td>\n",
       "      <td>0.000000</td>\n",
       "      <td>0.000000</td>\n",
       "      <td>...</td>\n",
       "      <td>0.0</td>\n",
       "      <td>0.0</td>\n",
       "      <td>6.000000</td>\n",
       "      <td>0.600000</td>\n",
       "      <td>0.000000</td>\n",
       "      <td>1.200000</td>\n",
       "      <td>0.000000</td>\n",
       "      <td>0.000000</td>\n",
       "      <td>0.0</td>\n",
       "      <td>0.0</td>\n",
       "    </tr>\n",
       "    <tr>\n",
       "      <th>50%</th>\n",
       "      <td>3.521200e+14</td>\n",
       "      <td>185.000000</td>\n",
       "      <td>0.000000</td>\n",
       "      <td>0.000000</td>\n",
       "      <td>0.000000</td>\n",
       "      <td>0.000000</td>\n",
       "      <td>0.000000</td>\n",
       "      <td>0.0</td>\n",
       "      <td>0.000000</td>\n",
       "      <td>0.000000</td>\n",
       "      <td>...</td>\n",
       "      <td>0.0</td>\n",
       "      <td>0.0</td>\n",
       "      <td>58.000000</td>\n",
       "      <td>7.840000</td>\n",
       "      <td>0.000000</td>\n",
       "      <td>59.040000</td>\n",
       "      <td>0.000000</td>\n",
       "      <td>0.000000</td>\n",
       "      <td>0.0</td>\n",
       "      <td>0.0</td>\n",
       "    </tr>\n",
       "    <tr>\n",
       "      <th>75%</th>\n",
       "      <td>3.521200e+14</td>\n",
       "      <td>558.000000</td>\n",
       "      <td>277.572500</td>\n",
       "      <td>0.000000</td>\n",
       "      <td>0.000000</td>\n",
       "      <td>0.000000</td>\n",
       "      <td>0.000000</td>\n",
       "      <td>0.0</td>\n",
       "      <td>274.260000</td>\n",
       "      <td>0.000000</td>\n",
       "      <td>...</td>\n",
       "      <td>0.0</td>\n",
       "      <td>0.0</td>\n",
       "      <td>306.620000</td>\n",
       "      <td>45.240000</td>\n",
       "      <td>0.000000</td>\n",
       "      <td>99.360000</td>\n",
       "      <td>0.000000</td>\n",
       "      <td>0.000000</td>\n",
       "      <td>0.0</td>\n",
       "      <td>0.0</td>\n",
       "    </tr>\n",
       "    <tr>\n",
       "      <th>max</th>\n",
       "      <td>3.521280e+14</td>\n",
       "      <td>1691.000000</td>\n",
       "      <td>32535.000000</td>\n",
       "      <td>32535.000000</td>\n",
       "      <td>5848.000000</td>\n",
       "      <td>2800.000000</td>\n",
       "      <td>697.000000</td>\n",
       "      <td>0.0</td>\n",
       "      <td>32535.000000</td>\n",
       "      <td>3760.000000</td>\n",
       "      <td>...</td>\n",
       "      <td>0.0</td>\n",
       "      <td>0.0</td>\n",
       "      <td>32634.220000</td>\n",
       "      <td>6507.000000</td>\n",
       "      <td>26028.000000</td>\n",
       "      <td>1211.680000</td>\n",
       "      <td>5205.600000</td>\n",
       "      <td>300.230000</td>\n",
       "      <td>0.0</td>\n",
       "      <td>0.0</td>\n",
       "    </tr>\n",
       "  </tbody>\n",
       "</table>\n",
       "<p>8 rows × 62 columns</p>\n",
       "</div>"
      ],
      "text/plain": [
       "               个人编码           医院编码        药品费发生金额       贵重药品发生金额  \\\n",
       "count  8.954200e+05  895420.000000  895420.000000  895420.000000   \n",
       "mean   3.521202e+14     338.580059     166.186030      28.962263   \n",
       "std    7.565886e+08     333.703993     290.702795     178.907588   \n",
       "min    3.521200e+14       2.000000       0.000000       0.000000   \n",
       "25%    3.521200e+14     149.000000       0.000000       0.000000   \n",
       "50%    3.521200e+14     185.000000       0.000000       0.000000   \n",
       "75%    3.521200e+14     558.000000     277.572500       0.000000   \n",
       "max    3.521280e+14    1691.000000   32535.000000   32535.000000   \n",
       "\n",
       "            中成药费发生金额       中草药费发生金额        药品费自费金额   药品费拒付金额        药品费申报金额  \\\n",
       "count  895420.000000  895420.000000  895420.000000  895420.0  895420.000000   \n",
       "mean       36.822063      26.433363       0.788062       0.0     163.598836   \n",
       "std       113.155150     124.622667       5.177994       0.0     283.703252   \n",
       "min         0.000000       0.000000       0.000000       0.0       0.000000   \n",
       "25%         0.000000       0.000000       0.000000       0.0       0.000000   \n",
       "50%         0.000000       0.000000       0.000000       0.0       0.000000   \n",
       "75%         0.000000       0.000000       0.000000       0.0     274.260000   \n",
       "max      5848.000000    2800.000000     697.000000       0.0   32535.000000   \n",
       "\n",
       "             检查费发生金额    ...       双笔退费标识      住院天数         本次审批金额  \\\n",
       "count  895420.000000    ...     895420.0  895420.0  894623.000000   \n",
       "mean        6.756894    ...          0.0       0.0     198.294283   \n",
       "std        47.519840    ...          0.0       0.0     338.097977   \n",
       "min         0.000000    ...          0.0       0.0       0.000000   \n",
       "25%         0.000000    ...          0.0       0.0       6.000000   \n",
       "50%         0.000000    ...          0.0       0.0      58.000000   \n",
       "75%         0.000000    ...          0.0       0.0     306.620000   \n",
       "max      3760.000000    ...          0.0       0.0   32634.220000   \n",
       "\n",
       "              补助审批金额       医疗救助医院申请  残疾军人医疗补助基金支付金额       民政救助补助金额  \\\n",
       "count  158469.000000  894623.000000      257.000000  894619.000000   \n",
       "mean       33.173890       2.072563      115.886770       3.776899   \n",
       "std        71.275079      59.199728      225.154569      22.574922   \n",
       "min         0.000000       0.000000        0.000000       0.000000   \n",
       "25%         0.600000       0.000000        1.200000       0.000000   \n",
       "50%         7.840000       0.000000       59.040000       0.000000   \n",
       "75%        45.240000       0.000000       99.360000       0.000000   \n",
       "max      6507.000000   26028.000000     1211.680000    5205.600000   \n",
       "\n",
       "            城乡优抚补助金额  非典补助补助金额   家床起付线剩余  \n",
       "count  894623.000000  894623.0  225790.0  \n",
       "mean        0.013576       0.0       0.0  \n",
       "std         0.907724       0.0       0.0  \n",
       "min         0.000000       0.0       0.0  \n",
       "25%         0.000000       0.0       0.0  \n",
       "50%         0.000000       0.0       0.0  \n",
       "75%         0.000000       0.0       0.0  \n",
       "max       300.230000       0.0       0.0  \n",
       "\n",
       "[8 rows x 62 columns]"
      ]
     },
     "execution_count": 44,
     "metadata": {},
     "output_type": "execute_result"
    }
   ],
   "source": [
    "train.describe()"
   ]
  },
  {
   "cell_type": "code",
   "execution_count": 40,
   "metadata": {
    "collapsed": false
   },
   "outputs": [
    {
     "name": "stdout",
     "output_type": "stream",
     "text": [
      "查看空值情况\n"
     ]
    },
    {
     "data": {
      "text/plain": [
       "一次性医用材料拒付金额       100.00\n",
       "农民工医疗救助计算金额       100.00\n",
       "残疾军人医疗补助基金支付金额     99.97\n",
       "公务员医疗补助基金支付金额      98.02\n",
       "补助审批金额             82.30\n",
       "城乡救助补助金额           82.28\n",
       "出院诊断病种名称           74.82\n",
       "家床起付线剩余            74.78\n",
       "住院终止时间             74.70\n",
       "申报受理时间             74.70\n",
       "一次性医用材料申报金额        69.07\n",
       "一次性医用材料自费金额        69.07\n",
       "操作时间                0.09\n",
       "本次审批金额              0.09\n",
       "医疗救助医院申请            0.09\n",
       "民政救助补助金额            0.09\n",
       "城乡优抚补助金额            0.09\n",
       "非典补助补助金额            0.09\n",
       "手术费申报金额             0.00\n",
       "检查费申报金额             0.00\n",
       "手术费自费金额             0.00\n",
       "手术费发生金额             0.00\n",
       "治疗费申报金额             0.00\n",
       "床位费发生金额             0.00\n",
       "治疗费拒付金额             0.00\n",
       "治疗费自费金额             0.00\n",
       "治疗费发生金额             0.00\n",
       "手术费拒付金额             0.00\n",
       "药品费自费金额             0.00\n",
       "检查费拒付金额             0.00\n",
       "                   ...  \n",
       "药品费发生金额             0.00\n",
       "医院编码                0.00\n",
       "个人编码                0.00\n",
       "床位费拒付金额             0.00\n",
       "其它发生金额              0.00\n",
       "医用材料发生金额            0.00\n",
       "医疗救助个人按比例负担金额       0.00\n",
       "住院天数                0.00\n",
       "住院开始时间              0.00\n",
       "双笔退费标识              0.00\n",
       "非账户支付金额             0.00\n",
       "基本医疗保险个人账户支付金额      0.00\n",
       "可用账户报销金额            0.00\n",
       "交易时间                0.00\n",
       "基本医疗保险统筹基金支付金额      0.00\n",
       "统筹拒付金额              0.00\n",
       "最高限额以上金额            0.00\n",
       "起付标准以上自负比例金额        0.00\n",
       "高价材料发生金额            0.00\n",
       "起付线标准金额             0.00\n",
       "输全血按比例自负金额          0.00\n",
       "其它申报金额              0.00\n",
       "其它拒付金额              0.00\n",
       "成分输血申报金额            0.00\n",
       "成分输血拒付金额            0.00\n",
       "成分输血自费金额            0.00\n",
       "输全血申报金额             0.00\n",
       "医用材料费拒付金额           0.00\n",
       "医用材料费自费金额           0.00\n",
       "顺序号                 0.00\n",
       "Name: 0, dtype: float64"
      ]
     },
     "execution_count": 40,
     "metadata": {},
     "output_type": "execute_result"
    }
   ],
   "source": [
    "print(\"查看空值情况\")\n",
    "temp = pd.DataFrame(np.sum(train.isnull()))\n",
    "round((temp.ix[:,0]/(train.shape[0])*100),2).sort_values(ascending=False)"
   ]
  },
  {
   "cell_type": "code",
   "execution_count": 99,
   "metadata": {
    "collapsed": false
   },
   "outputs": [],
   "source": [
    "# 固化一个数据集\n",
    "if os.path.exists('/home/zhh/文档/阿里巴巴/data/1数据读入'):\n",
    "    os.chdir('/home/zhh/文档/阿里巴巴/data/1数据读入')\n",
    "else:\n",
    "    os.mkdir('/home/zhh/文档/阿里巴巴/data/1数据读入')\n",
    "    os.chdir('/home/zhh/文档/阿里巴巴/data/1数据读入')\n",
    "with open('train_1_.pickle','wb') as f1:\n",
    "    pickle.dump(train,f1)"
   ]
  },
  {
   "cell_type": "code",
   "execution_count": 105,
   "metadata": {
    "collapsed": false
   },
   "outputs": [
    {
     "ename": "NameError",
     "evalue": "name 'temp' is not defined",
     "output_type": "error",
     "traceback": [
      "\u001b[0;31m---------------------------------------------------------------------------\u001b[0m",
      "\u001b[0;31mNameError\u001b[0m                                 Traceback (most recent call last)",
      "\u001b[0;32m<ipython-input-105-9e0acbb91e0d>\u001b[0m in \u001b[0;36m<module>\u001b[0;34m()\u001b[0m\n\u001b[1;32m      1\u001b[0m \u001b[0;31m#del train\u001b[0m\u001b[0;34m\u001b[0m\u001b[0;34m\u001b[0m\u001b[0m\n\u001b[0;32m----> 2\u001b[0;31m \u001b[0;32mdel\u001b[0m \u001b[0mtemp\u001b[0m\u001b[0;34m\u001b[0m\u001b[0m\n\u001b[0m",
      "\u001b[0;31mNameError\u001b[0m: name 'temp' is not defined"
     ]
    }
   ],
   "source": [
    "del train\n",
    "del temp"
   ]
  },
  {
   "cell_type": "markdown",
   "metadata": {
    "collapsed": false
   },
   "source": [
    "# 读取费用详情表\n",
    "---\n",
    "* ## 表源 &emsp;fee_detail.csv"
   ]
  },
  {
   "cell_type": "code",
   "execution_count": 4,
   "metadata": {
    "collapsed": false
   },
   "outputs": [
    {
     "name": "stderr",
     "output_type": "stream",
     "text": [
      "/home/zhh/anaconda3/lib/python3.6/site-packages/IPython/core/interactiveshell.py:2717: DtypeWarning: Columns (10) have mixed types. Specify dtype option on import or set low_memory=False.\n",
      "  interactivity=interactivity, compiler=compiler, result=result)\n"
     ]
    }
   ],
   "source": [
    "##\n",
    "#读取df_train数据集\n",
    "fee = pd.read_csv('fee_detail.csv',index_col=None)"
   ]
  },
  {
   "cell_type": "code",
   "execution_count": 5,
   "metadata": {
    "collapsed": false
   },
   "outputs": [
    {
     "data": {
      "text/html": [
       "<div>\n",
       "<table border=\"1\" class=\"dataframe\">\n",
       "  <thead>\n",
       "    <tr style=\"text-align: right;\">\n",
       "      <th></th>\n",
       "      <th>顺序号</th>\n",
       "      <th>医院编码</th>\n",
       "      <th>三目统计项目</th>\n",
       "      <th>三目服务项目名称</th>\n",
       "      <th>三目医院服务项目名称</th>\n",
       "      <th>剂型</th>\n",
       "      <th>规格</th>\n",
       "      <th>单价</th>\n",
       "      <th>数量</th>\n",
       "      <th>拒付原因编码</th>\n",
       "      <th>拒付原因</th>\n",
       "      <th>费用发生时间</th>\n",
       "    </tr>\n",
       "  </thead>\n",
       "  <tbody>\n",
       "    <tr>\n",
       "      <th>0</th>\n",
       "      <td>MT13061601133880864</td>\n",
       "      <td>1306.0</td>\n",
       "      <td>7.0</td>\n",
       "      <td>普通门诊挂号费---三级医院</td>\n",
       "      <td>挂号</td>\n",
       "      <td></td>\n",
       "      <td></td>\n",
       "      <td>1.0</td>\n",
       "      <td>1.0</td>\n",
       "      <td>NaN</td>\n",
       "      <td>NaN</td>\n",
       "      <td>2016-01-13</td>\n",
       "    </tr>\n",
       "    <tr>\n",
       "      <th>1</th>\n",
       "      <td>MT13061601133880864</td>\n",
       "      <td>1306.0</td>\n",
       "      <td>3.0</td>\n",
       "      <td>NaN</td>\n",
       "      <td>挂号</td>\n",
       "      <td></td>\n",
       "      <td></td>\n",
       "      <td>3.0</td>\n",
       "      <td>1.0</td>\n",
       "      <td>NaN</td>\n",
       "      <td>NaN</td>\n",
       "      <td>2016-01-13</td>\n",
       "    </tr>\n",
       "    <tr>\n",
       "      <th>2</th>\n",
       "      <td>MT13061601154123666</td>\n",
       "      <td>1306.0</td>\n",
       "      <td>3.0</td>\n",
       "      <td>NaN</td>\n",
       "      <td>挂号</td>\n",
       "      <td></td>\n",
       "      <td></td>\n",
       "      <td>3.0</td>\n",
       "      <td>1.0</td>\n",
       "      <td>NaN</td>\n",
       "      <td>NaN</td>\n",
       "      <td>2016-01-15</td>\n",
       "    </tr>\n",
       "    <tr>\n",
       "      <th>3</th>\n",
       "      <td>MT13061601154123666</td>\n",
       "      <td>1306.0</td>\n",
       "      <td>7.0</td>\n",
       "      <td>普通门诊挂号费---三级医院</td>\n",
       "      <td>挂号</td>\n",
       "      <td></td>\n",
       "      <td></td>\n",
       "      <td>1.0</td>\n",
       "      <td>1.0</td>\n",
       "      <td>NaN</td>\n",
       "      <td>NaN</td>\n",
       "      <td>2016-01-15</td>\n",
       "    </tr>\n",
       "    <tr>\n",
       "      <th>4</th>\n",
       "      <td>MT13061602298982056</td>\n",
       "      <td>1306.0</td>\n",
       "      <td>7.0</td>\n",
       "      <td>普通门诊挂号费---三级医院</td>\n",
       "      <td>挂号</td>\n",
       "      <td></td>\n",
       "      <td></td>\n",
       "      <td>1.0</td>\n",
       "      <td>1.0</td>\n",
       "      <td>NaN</td>\n",
       "      <td>NaN</td>\n",
       "      <td>2016-02-29</td>\n",
       "    </tr>\n",
       "  </tbody>\n",
       "</table>\n",
       "</div>"
      ],
      "text/plain": [
       "                   顺序号    医院编码  三目统计项目        三目服务项目名称 三目医院服务项目名称 剂型 规格   单价  \\\n",
       "0  MT13061601133880864  1306.0     7.0  普通门诊挂号费---三级医院         挂号        1.0   \n",
       "1  MT13061601133880864  1306.0     3.0             NaN         挂号        3.0   \n",
       "2  MT13061601154123666  1306.0     3.0             NaN         挂号        3.0   \n",
       "3  MT13061601154123666  1306.0     7.0  普通门诊挂号费---三级医院         挂号        1.0   \n",
       "4  MT13061602298982056  1306.0     7.0  普通门诊挂号费---三级医院         挂号        1.0   \n",
       "\n",
       "    数量  拒付原因编码 拒付原因      费用发生时间  \n",
       "0  1.0     NaN  NaN  2016-01-13  \n",
       "1  1.0     NaN  NaN  2016-01-13  \n",
       "2  1.0     NaN  NaN  2016-01-15  \n",
       "3  1.0     NaN  NaN  2016-01-15  \n",
       "4  1.0     NaN  NaN  2016-02-29  "
      ]
     },
     "execution_count": 5,
     "metadata": {},
     "output_type": "execute_result"
    }
   ],
   "source": [
    "fee.head()"
   ]
  },
  {
   "cell_type": "code",
   "execution_count": 6,
   "metadata": {
    "collapsed": false
   },
   "outputs": [],
   "source": [
    "fee.三目统计项目 = fee.三目统计项目.map(lambda x:str(x).split('.')[0])\n",
    "fee.医院编码 =  fee.医院编码.map(lambda x:str(x).split('.')[0])\n",
    "fee.拒付原因编码 = fee.拒付原因编码.map(lambda x:str(x).split('.')[0])"
   ]
  },
  {
   "cell_type": "code",
   "execution_count": 22,
   "metadata": {
    "collapsed": false
   },
   "outputs": [
    {
     "data": {
      "text/html": [
       "<div>\n",
       "<table border=\"1\" class=\"dataframe\">\n",
       "  <thead>\n",
       "    <tr style=\"text-align: right;\">\n",
       "      <th></th>\n",
       "      <th>顺序号</th>\n",
       "      <th>医院编码</th>\n",
       "      <th>三目统计项目</th>\n",
       "      <th>三目服务项目名称</th>\n",
       "      <th>三目医院服务项目名称</th>\n",
       "      <th>剂型</th>\n",
       "      <th>规格</th>\n",
       "      <th>单价</th>\n",
       "      <th>数量</th>\n",
       "      <th>拒付原因编码</th>\n",
       "      <th>拒付原因</th>\n",
       "      <th>费用发生时间</th>\n",
       "    </tr>\n",
       "  </thead>\n",
       "  <tbody>\n",
       "    <tr>\n",
       "      <th>0</th>\n",
       "      <td>MT13061601133880864</td>\n",
       "      <td>1306</td>\n",
       "      <td>7</td>\n",
       "      <td>普通门诊挂号费---三级医院</td>\n",
       "      <td>挂号</td>\n",
       "      <td></td>\n",
       "      <td></td>\n",
       "      <td>1.0</td>\n",
       "      <td>1.0</td>\n",
       "      <td>NaN</td>\n",
       "      <td>NaN</td>\n",
       "      <td>2016-01-13</td>\n",
       "    </tr>\n",
       "    <tr>\n",
       "      <th>1</th>\n",
       "      <td>MT13061601133880864</td>\n",
       "      <td>1306</td>\n",
       "      <td>3</td>\n",
       "      <td>NaN</td>\n",
       "      <td>挂号</td>\n",
       "      <td></td>\n",
       "      <td></td>\n",
       "      <td>3.0</td>\n",
       "      <td>1.0</td>\n",
       "      <td>NaN</td>\n",
       "      <td>NaN</td>\n",
       "      <td>2016-01-13</td>\n",
       "    </tr>\n",
       "    <tr>\n",
       "      <th>2</th>\n",
       "      <td>MT13061601154123666</td>\n",
       "      <td>1306</td>\n",
       "      <td>3</td>\n",
       "      <td>NaN</td>\n",
       "      <td>挂号</td>\n",
       "      <td></td>\n",
       "      <td></td>\n",
       "      <td>3.0</td>\n",
       "      <td>1.0</td>\n",
       "      <td>NaN</td>\n",
       "      <td>NaN</td>\n",
       "      <td>2016-01-15</td>\n",
       "    </tr>\n",
       "    <tr>\n",
       "      <th>3</th>\n",
       "      <td>MT13061601154123666</td>\n",
       "      <td>1306</td>\n",
       "      <td>7</td>\n",
       "      <td>普通门诊挂号费---三级医院</td>\n",
       "      <td>挂号</td>\n",
       "      <td></td>\n",
       "      <td></td>\n",
       "      <td>1.0</td>\n",
       "      <td>1.0</td>\n",
       "      <td>NaN</td>\n",
       "      <td>NaN</td>\n",
       "      <td>2016-01-15</td>\n",
       "    </tr>\n",
       "    <tr>\n",
       "      <th>4</th>\n",
       "      <td>MT13061602298982056</td>\n",
       "      <td>1306</td>\n",
       "      <td>7</td>\n",
       "      <td>普通门诊挂号费---三级医院</td>\n",
       "      <td>挂号</td>\n",
       "      <td></td>\n",
       "      <td></td>\n",
       "      <td>1.0</td>\n",
       "      <td>1.0</td>\n",
       "      <td>NaN</td>\n",
       "      <td>NaN</td>\n",
       "      <td>2016-02-29</td>\n",
       "    </tr>\n",
       "  </tbody>\n",
       "</table>\n",
       "</div>"
      ],
      "text/plain": [
       "                   顺序号  医院编码 三目统计项目        三目服务项目名称 三目医院服务项目名称 剂型 规格   单价  \\\n",
       "0  MT13061601133880864  1306      7  普通门诊挂号费---三级医院         挂号        1.0   \n",
       "1  MT13061601133880864  1306      3             NaN         挂号        3.0   \n",
       "2  MT13061601154123666  1306      3             NaN         挂号        3.0   \n",
       "3  MT13061601154123666  1306      7  普通门诊挂号费---三级医院         挂号        1.0   \n",
       "4  MT13061602298982056  1306      7  普通门诊挂号费---三级医院         挂号        1.0   \n",
       "\n",
       "    数量  拒付原因编码 拒付原因      费用发生时间  \n",
       "0  1.0     NaN  NaN  2016-01-13  \n",
       "1  1.0     NaN  NaN  2016-01-13  \n",
       "2  1.0     NaN  NaN  2016-01-15  \n",
       "3  1.0     NaN  NaN  2016-01-15  \n",
       "4  1.0     NaN  NaN  2016-02-29  "
      ]
     },
     "execution_count": 22,
     "metadata": {},
     "output_type": "execute_result"
    }
   ],
   "source": [
    "# 初步处理过后的dataframe\n",
    "fee.head()"
   ]
  },
  {
   "cell_type": "code",
   "execution_count": 25,
   "metadata": {
    "collapsed": false
   },
   "outputs": [
    {
     "data": {
      "text/plain": [
       "顺序号            object\n",
       "医院编码           object\n",
       "三目统计项目         object\n",
       "三目服务项目名称       object\n",
       "三目医院服务项目名称     object\n",
       "剂型             object\n",
       "规格             object\n",
       "单价            float64\n",
       "数量            float64\n",
       "拒付原因编码         object\n",
       "拒付原因           object\n",
       "费用发生时间         object\n",
       "dtype: object"
      ]
     },
     "execution_count": 25,
     "metadata": {},
     "output_type": "execute_result"
    }
   ],
   "source": [
    "#查看各个字段的类型\n",
    "fee.dtypes"
   ]
  },
  {
   "cell_type": "code",
   "execution_count": 29,
   "metadata": {
    "collapsed": false
   },
   "outputs": [
    {
     "data": {
      "text/plain": [
       "顺序号             0.00\n",
       "医院编码            0.00\n",
       "三目统计项目          0.00\n",
       "三目服务项目名称       88.12\n",
       "三目医院服务项目名称     87.31\n",
       "剂型              0.00\n",
       "规格              0.00\n",
       "单价              0.00\n",
       "数量              0.00\n",
       "拒付原因编码          0.00\n",
       "拒付原因          100.00\n",
       "费用发生时间          0.00\n",
       "dtype: float64"
      ]
     },
     "execution_count": 29,
     "metadata": {},
     "output_type": "execute_result"
    }
   ],
   "source": [
    "# 统计各个字段的空值情况\n",
    "round(np.sum(fee.isnull())/fee.shape[0]*100,2)"
   ]
  },
  {
   "cell_type": "code",
   "execution_count": 39,
   "metadata": {
    "collapsed": false
   },
   "outputs": [
    {
     "data": {
      "text/html": [
       "<div>\n",
       "<table border=\"1\" class=\"dataframe\">\n",
       "  <thead>\n",
       "    <tr style=\"text-align: right;\">\n",
       "      <th></th>\n",
       "      <th>单价</th>\n",
       "      <th>数量</th>\n",
       "    </tr>\n",
       "  </thead>\n",
       "  <tbody>\n",
       "    <tr>\n",
       "      <th>count</th>\n",
       "      <td>6532901</td>\n",
       "      <td>6532901</td>\n",
       "    </tr>\n",
       "    <tr>\n",
       "      <th>mean</th>\n",
       "      <td>26</td>\n",
       "      <td>34</td>\n",
       "    </tr>\n",
       "    <tr>\n",
       "      <th>std</th>\n",
       "      <td>75</td>\n",
       "      <td>82</td>\n",
       "    </tr>\n",
       "    <tr>\n",
       "      <th>min</th>\n",
       "      <td>0</td>\n",
       "      <td>0</td>\n",
       "    </tr>\n",
       "    <tr>\n",
       "      <th>25%</th>\n",
       "      <td>0</td>\n",
       "      <td>1</td>\n",
       "    </tr>\n",
       "    <tr>\n",
       "      <th>50%</th>\n",
       "      <td>6</td>\n",
       "      <td>2</td>\n",
       "    </tr>\n",
       "    <tr>\n",
       "      <th>75%</th>\n",
       "      <td>29</td>\n",
       "      <td>11</td>\n",
       "    </tr>\n",
       "    <tr>\n",
       "      <th>max</th>\n",
       "      <td>15656</td>\n",
       "      <td>5684</td>\n",
       "    </tr>\n",
       "  </tbody>\n",
       "</table>\n",
       "</div>"
      ],
      "text/plain": [
       "            单价       数量\n",
       "count  6532901  6532901\n",
       "mean        26       34\n",
       "std         75       82\n",
       "min          0        0\n",
       "25%          0        1\n",
       "50%          6        2\n",
       "75%         29       11\n",
       "max      15656     5684"
      ]
     },
     "execution_count": 39,
     "metadata": {},
     "output_type": "execute_result"
    }
   ],
   "source": [
    "#describe（）描述情况\n",
    "fee.describe().astype(int)"
   ]
  },
  {
   "cell_type": "code",
   "execution_count": 45,
   "metadata": {
    "collapsed": false
   },
   "outputs": [
    {
     "name": "stdout",
     "output_type": "stream",
     "text": [
      "<class 'pandas.core.frame.DataFrame'>\n",
      "RangeIndex: 6532901 entries, 0 to 6532900\n",
      "Data columns (total 12 columns):\n",
      "顺序号           object\n",
      "医院编码          object\n",
      "三目统计项目        object\n",
      "三目服务项目名称      object\n",
      "三目医院服务项目名称    object\n",
      "剂型            object\n",
      "规格            object\n",
      "单价            float64\n",
      "数量            float64\n",
      "拒付原因编码        object\n",
      "拒付原因          object\n",
      "费用发生时间        object\n",
      "dtypes: float64(2), object(10)\n",
      "memory usage: 598.1+ MB\n"
     ]
    }
   ],
   "source": [
    "fee.info()"
   ]
  },
  {
   "cell_type": "code",
   "execution_count": 7,
   "metadata": {
    "collapsed": false
   },
   "outputs": [],
   "source": [
    "# 固化一个数据集\n",
    "if os.path.exists('/home/zhh/文档/阿里巴巴/data/1数据读入'):\n",
    "    os.chdir('/home/zhh/文档/阿里巴巴/data/1数据读入')\n",
    "else:\n",
    "    os.mkdir('/home/zhh/文档/阿里巴巴/data/1数据读入')\n",
    "    os.chdir('/home/zhh/文档/阿里巴巴/data/1数据读入')\n",
    "with open('fee_1_.pickle','wb') as f1:\n",
    "    pickle.dump(fee,f1)\n"
   ]
  },
  {
   "cell_type": "code",
   "execution_count": 8,
   "metadata": {
    "collapsed": true
   },
   "outputs": [],
   "source": [
    "del fee"
   ]
  },
  {
   "cell_type": "markdown",
   "metadata": {},
   "source": [
    "# 读入训练集的id表\n",
    "---\n",
    "* ## df_id_train.csv\n",
    "* ## df_id_test.csv"
   ]
  },
  {
   "cell_type": "code",
   "execution_count": 12,
   "metadata": {
    "collapsed": false
   },
   "outputs": [],
   "source": [
    "# 训练集\n",
    "os.chdir('/home/zhh/文档/阿里巴巴/data')\n",
    "train_id =  pd.read_csv('df_id_train.csv',header= None)\n",
    "train_id.columns = ['id','label']"
   ]
  },
  {
   "cell_type": "code",
   "execution_count": 56,
   "metadata": {
    "collapsed": false
   },
   "outputs": [
    {
     "data": {
      "text/html": [
       "<div>\n",
       "<table border=\"1\" class=\"dataframe\">\n",
       "  <thead>\n",
       "    <tr style=\"text-align: right;\">\n",
       "      <th></th>\n",
       "      <th>id</th>\n",
       "      <th>label</th>\n",
       "    </tr>\n",
       "  </thead>\n",
       "  <tbody>\n",
       "    <tr>\n",
       "      <th>0</th>\n",
       "      <td>352120001523108</td>\n",
       "      <td>1</td>\n",
       "    </tr>\n",
       "    <tr>\n",
       "      <th>1</th>\n",
       "      <td>352120001475556</td>\n",
       "      <td>0</td>\n",
       "    </tr>\n",
       "    <tr>\n",
       "      <th>2</th>\n",
       "      <td>352120003484886</td>\n",
       "      <td>0</td>\n",
       "    </tr>\n",
       "    <tr>\n",
       "      <th>3</th>\n",
       "      <td>352120002750505</td>\n",
       "      <td>0</td>\n",
       "    </tr>\n",
       "    <tr>\n",
       "      <th>4</th>\n",
       "      <td>352120001556755</td>\n",
       "      <td>0</td>\n",
       "    </tr>\n",
       "  </tbody>\n",
       "</table>\n",
       "</div>"
      ],
      "text/plain": [
       "                id  label\n",
       "0  352120001523108      1\n",
       "1  352120001475556      0\n",
       "2  352120003484886      0\n",
       "3  352120002750505      0\n",
       "4  352120001556755      0"
      ]
     },
     "execution_count": 56,
     "metadata": {},
     "output_type": "execute_result"
    }
   ],
   "source": [
    "train_id.head()"
   ]
  },
  {
   "cell_type": "code",
   "execution_count": 59,
   "metadata": {
    "collapsed": false
   },
   "outputs": [
    {
     "data": {
      "text/plain": [
       "0    19000\n",
       "1     1000\n",
       "Name: label, dtype: int64"
      ]
     },
     "execution_count": 59,
     "metadata": {},
     "output_type": "execute_result"
    }
   ],
   "source": [
    "# 查看训练集正负样本比例\n",
    "train_id['label'].value_counts()"
   ]
  },
  {
   "cell_type": "code",
   "execution_count": 66,
   "metadata": {
    "collapsed": false
   },
   "outputs": [
    {
     "data": {
      "text/html": [
       "<div>\n",
       "<table border=\"1\" class=\"dataframe\">\n",
       "  <thead>\n",
       "    <tr style=\"text-align: right;\">\n",
       "      <th></th>\n",
       "      <th>id</th>\n",
       "    </tr>\n",
       "  </thead>\n",
       "  <tbody>\n",
       "    <tr>\n",
       "      <th>0</th>\n",
       "      <td>352120001207726</td>\n",
       "    </tr>\n",
       "    <tr>\n",
       "      <th>1</th>\n",
       "      <td>352120000183777</td>\n",
       "    </tr>\n",
       "    <tr>\n",
       "      <th>2</th>\n",
       "      <td>352120002857717</td>\n",
       "    </tr>\n",
       "    <tr>\n",
       "      <th>3</th>\n",
       "      <td>352120001492069</td>\n",
       "    </tr>\n",
       "    <tr>\n",
       "      <th>4</th>\n",
       "      <td>352120001574938</td>\n",
       "    </tr>\n",
       "  </tbody>\n",
       "</table>\n",
       "</div>"
      ],
      "text/plain": [
       "                id\n",
       "0  352120001207726\n",
       "1  352120000183777\n",
       "2  352120002857717\n",
       "3  352120001492069\n",
       "4  352120001574938"
      ]
     },
     "execution_count": 66,
     "metadata": {},
     "output_type": "execute_result"
    }
   ],
   "source": [
    "#测试集\n",
    "test_id =  pd.read_csv('df_id_test.csv',header= None)\n",
    "test_id.columns = ['id']\n",
    "test_id.head()"
   ]
  },
  {
   "cell_type": "code",
   "execution_count": 13,
   "metadata": {
    "collapsed": true
   },
   "outputs": [],
   "source": [
    "if os.path.exists('/home/zhh/文档/阿里巴巴/data/1数据读入'):\n",
    "    os.chdir('/home/zhh/文档/阿里巴巴/data/1数据读入')\n",
    "else:\n",
    "    os.mkdir('/home/zhh/文档/阿里巴巴/data/1数据读入')\n",
    "    os.chdir('/home/zhh/文档/阿里巴巴/data/1数据读入')\n",
    "with open('train_id_1_.pickle','wb') as f1:\n",
    "    pickle.dump(train_id,f1)"
   ]
  },
  {
   "cell_type": "code",
   "execution_count": null,
   "metadata": {
    "collapsed": true
   },
   "outputs": [],
   "source": []
  }
 ],
 "metadata": {
  "kernelspec": {
   "display_name": "Python 3",
   "language": "python",
   "name": "python3"
  },
  "language_info": {
   "codemirror_mode": {
    "name": "ipython",
    "version": 3
   },
   "file_extension": ".py",
   "mimetype": "text/x-python",
   "name": "python",
   "nbconvert_exporter": "python",
   "pygments_lexer": "ipython3",
   "version": "3.6.0"
  }
 },
 "nbformat": 4,
 "nbformat_minor": 2
}
