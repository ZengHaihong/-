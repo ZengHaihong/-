{
 "cells": [
  {
   "cell_type": "code",
   "execution_count": 20,
   "metadata": {
    "collapsed": true
   },
   "outputs": [],
   "source": [
    "import pandas as pd\n",
    "import numpy as np\n",
    "import os\n",
    "import warnings\n",
    "import pickle\n",
    "import os.path\n",
    "import seaborn\n",
    "import pickle\n",
    "import os.path\n",
    "from numpy import linalg\n",
    "import matplotlib.pyplot as plt\n",
    "import matplotlib as mpl\n",
    "import seaborn as sns\n",
    "import random\n",
    "\n",
    "mpl.rcParams['font.sans-serif'] = ['SimHei']\n",
    "mpl.rcParams['font.serif'] = ['SimHei']\n",
    "\n",
    "import seaborn as sns\n",
    "#sns.set_style('whitegrid',{'font.sans-serif':['simhei','Arial']})\n",
    "sns.set_style(\"darkgrid\",{\"font.sans-serif\":['simhei', 'Arial']})\n",
    "#plt.style.use('ggplot')\n",
    "mpl.rc('xtick', labelsize=40) \n",
    "mpl.rc('ytick', labelsize=40) \n",
    "%matplotlib inline"
   ]
  },
  {
   "cell_type": "code",
   "execution_count": 21,
   "metadata": {
    "collapsed": false
   },
   "outputs": [
    {
     "data": {
      "text/plain": [
       "['提交结果20170810.csv',\n",
       " '2联表',\n",
       " 'fee_detail.csv',\n",
       " '3.分析train和train_id',\n",
       " '提交结果201708100130.csv',\n",
       " 'df_test.csv',\n",
       " 'df_id_train.csv',\n",
       " '6.合表新周索引.pickle',\n",
       " 'df_train.csv',\n",
       " '1数据读入',\n",
       " '6.合表',\n",
       " 'df_id_test.csv',\n",
       " '.~lock.df_train.csv#',\n",
       " '4.分析fee_detail',\n",
       " '.~lock.df_test.csv#',\n",
       " '精准社保各数据集字段',\n",
       " '7测试表合表']"
      ]
     },
     "execution_count": 21,
     "metadata": {},
     "output_type": "execute_result"
    }
   ],
   "source": [
    "os.chdir(\"/home/zhh/文档/阿里巴巴/data/\")\n",
    "os.listdir()"
   ]
  },
  {
   "cell_type": "code",
   "execution_count": 3,
   "metadata": {
    "collapsed": false
   },
   "outputs": [
    {
     "name": "stderr",
     "output_type": "stream",
     "text": [
      "/home/zhh/anaconda3/lib/python3.6/site-packages/IPython/core/interactiveshell.py:2717: DtypeWarning: Columns (56,58,59) have mixed types. Specify dtype option on import or set low_memory=False.\n",
      "  interactivity=interactivity, compiler=compiler, result=result)\n"
     ]
    }
   ],
   "source": [
    "#读取测试集\n",
    "data = pd.read_csv(\"df_test.csv\")"
   ]
  },
  {
   "cell_type": "code",
   "execution_count": 4,
   "metadata": {
    "collapsed": false,
    "scrolled": true
   },
   "outputs": [
    {
     "data": {
      "text/html": [
       "<div>\n",
       "<table border=\"1\" class=\"dataframe\">\n",
       "  <thead>\n",
       "    <tr style=\"text-align: right;\">\n",
       "      <th></th>\n",
       "      <th>顺序号</th>\n",
       "      <th>个人编码</th>\n",
       "      <th>医院编码</th>\n",
       "      <th>药品费发生金额</th>\n",
       "      <th>贵重药品发生金额</th>\n",
       "      <th>中成药费发生金额</th>\n",
       "      <th>中草药费发生金额</th>\n",
       "      <th>药品费自费金额</th>\n",
       "      <th>药品费拒付金额</th>\n",
       "      <th>药品费申报金额</th>\n",
       "      <th>...</th>\n",
       "      <th>出院诊断病种名称</th>\n",
       "      <th>本次审批金额</th>\n",
       "      <th>补助审批金额</th>\n",
       "      <th>医疗救助医院申请</th>\n",
       "      <th>残疾军人医疗补助基金支付金额</th>\n",
       "      <th>民政救助补助金额</th>\n",
       "      <th>城乡优抚补助金额</th>\n",
       "      <th>非典补助补助金额</th>\n",
       "      <th>家床起付线剩余</th>\n",
       "      <th>操作时间</th>\n",
       "    </tr>\n",
       "  </thead>\n",
       "  <tbody>\n",
       "    <tr>\n",
       "      <th>0</th>\n",
       "      <td>MT01801607015822867</td>\n",
       "      <td>352120001207726</td>\n",
       "      <td>180.0</td>\n",
       "      <td>0.0</td>\n",
       "      <td>0.0</td>\n",
       "      <td>0.0</td>\n",
       "      <td>0.0</td>\n",
       "      <td>0.0</td>\n",
       "      <td>0.0</td>\n",
       "      <td>0.0</td>\n",
       "      <td>...</td>\n",
       "      <td>挂号</td>\n",
       "      <td>6.0</td>\n",
       "      <td>NaN</td>\n",
       "      <td>0.0</td>\n",
       "      <td>NaN</td>\n",
       "      <td>0.0</td>\n",
       "      <td>0.0</td>\n",
       "      <td>0.0</td>\n",
       "      <td>0.0</td>\n",
       "      <td>01-7月 -16</td>\n",
       "    </tr>\n",
       "    <tr>\n",
       "      <th>1</th>\n",
       "      <td>MT01801607015822875</td>\n",
       "      <td>352120000183777</td>\n",
       "      <td>180.0</td>\n",
       "      <td>0.0</td>\n",
       "      <td>0.0</td>\n",
       "      <td>0.0</td>\n",
       "      <td>0.0</td>\n",
       "      <td>0.0</td>\n",
       "      <td>0.0</td>\n",
       "      <td>0.0</td>\n",
       "      <td>...</td>\n",
       "      <td>挂号</td>\n",
       "      <td>3.0</td>\n",
       "      <td>NaN</td>\n",
       "      <td>0.0</td>\n",
       "      <td>NaN</td>\n",
       "      <td>0.0</td>\n",
       "      <td>0.0</td>\n",
       "      <td>0.0</td>\n",
       "      <td>0.0</td>\n",
       "      <td>01-7月 -16</td>\n",
       "    </tr>\n",
       "    <tr>\n",
       "      <th>2</th>\n",
       "      <td>MT01801607015822882</td>\n",
       "      <td>352120000183777</td>\n",
       "      <td>180.0</td>\n",
       "      <td>0.0</td>\n",
       "      <td>0.0</td>\n",
       "      <td>0.0</td>\n",
       "      <td>0.0</td>\n",
       "      <td>0.0</td>\n",
       "      <td>0.0</td>\n",
       "      <td>0.0</td>\n",
       "      <td>...</td>\n",
       "      <td>尿毒症;肾性贫血;肾性高血压;失眠;肾性骨病;肝功能异常;低蛋白血症;肾透析</td>\n",
       "      <td>450.8</td>\n",
       "      <td>NaN</td>\n",
       "      <td>0.0</td>\n",
       "      <td>NaN</td>\n",
       "      <td>0.0</td>\n",
       "      <td>0.0</td>\n",
       "      <td>0.0</td>\n",
       "      <td>0.0</td>\n",
       "      <td>01-7月 -16</td>\n",
       "    </tr>\n",
       "    <tr>\n",
       "      <th>3</th>\n",
       "      <td>MT13061606204620197</td>\n",
       "      <td>352120002857717</td>\n",
       "      <td>1306.0</td>\n",
       "      <td>0.0</td>\n",
       "      <td>0.0</td>\n",
       "      <td>0.0</td>\n",
       "      <td>0.0</td>\n",
       "      <td>0.0</td>\n",
       "      <td>0.0</td>\n",
       "      <td>0.0</td>\n",
       "      <td>...</td>\n",
       "      <td>挂号</td>\n",
       "      <td>3.0</td>\n",
       "      <td>NaN</td>\n",
       "      <td>0.0</td>\n",
       "      <td>NaN</td>\n",
       "      <td>0.0</td>\n",
       "      <td>0.0</td>\n",
       "      <td>0.0</td>\n",
       "      <td>0.0</td>\n",
       "      <td>20-6月 -16</td>\n",
       "    </tr>\n",
       "    <tr>\n",
       "      <th>4</th>\n",
       "      <td>MT01431607015822595</td>\n",
       "      <td>352120001492069</td>\n",
       "      <td>143.0</td>\n",
       "      <td>0.0</td>\n",
       "      <td>0.0</td>\n",
       "      <td>0.0</td>\n",
       "      <td>0.0</td>\n",
       "      <td>0.0</td>\n",
       "      <td>0.0</td>\n",
       "      <td>0.0</td>\n",
       "      <td>...</td>\n",
       "      <td>挂号</td>\n",
       "      <td>15.0</td>\n",
       "      <td>NaN</td>\n",
       "      <td>0.0</td>\n",
       "      <td>NaN</td>\n",
       "      <td>0.0</td>\n",
       "      <td>0.0</td>\n",
       "      <td>0.0</td>\n",
       "      <td>0.0</td>\n",
       "      <td>01-7月 -16</td>\n",
       "    </tr>\n",
       "  </tbody>\n",
       "</table>\n",
       "<p>5 rows × 69 columns</p>\n",
       "</div>"
      ],
      "text/plain": [
       "                   顺序号             个人编码    医院编码  药品费发生金额  贵重药品发生金额  中成药费发生金额  \\\n",
       "0  MT01801607015822867  352120001207726   180.0      0.0       0.0       0.0   \n",
       "1  MT01801607015822875  352120000183777   180.0      0.0       0.0       0.0   \n",
       "2  MT01801607015822882  352120000183777   180.0      0.0       0.0       0.0   \n",
       "3  MT13061606204620197  352120002857717  1306.0      0.0       0.0       0.0   \n",
       "4  MT01431607015822595  352120001492069   143.0      0.0       0.0       0.0   \n",
       "\n",
       "   中草药费发生金额  药品费自费金额  药品费拒付金额  药品费申报金额    ...      \\\n",
       "0       0.0      0.0      0.0      0.0    ...       \n",
       "1       0.0      0.0      0.0      0.0    ...       \n",
       "2       0.0      0.0      0.0      0.0    ...       \n",
       "3       0.0      0.0      0.0      0.0    ...       \n",
       "4       0.0      0.0      0.0      0.0    ...       \n",
       "\n",
       "                                 出院诊断病种名称  本次审批金额  补助审批金额  医疗救助医院申请  \\\n",
       "0                                      挂号     6.0     NaN       0.0   \n",
       "1                                      挂号     3.0     NaN       0.0   \n",
       "2  尿毒症;肾性贫血;肾性高血压;失眠;肾性骨病;肝功能异常;低蛋白血症;肾透析   450.8     NaN       0.0   \n",
       "3                                      挂号     3.0     NaN       0.0   \n",
       "4                                      挂号    15.0     NaN       0.0   \n",
       "\n",
       "   残疾军人医疗补助基金支付金额  民政救助补助金额  城乡优抚补助金额  非典补助补助金额  家床起付线剩余       操作时间  \n",
       "0             NaN       0.0       0.0       0.0      0.0  01-7月 -16  \n",
       "1             NaN       0.0       0.0       0.0      0.0  01-7月 -16  \n",
       "2             NaN       0.0       0.0       0.0      0.0  01-7月 -16  \n",
       "3             NaN       0.0       0.0       0.0      0.0  20-6月 -16  \n",
       "4             NaN       0.0       0.0       0.0      0.0  01-7月 -16  \n",
       "\n",
       "[5 rows x 69 columns]"
      ]
     },
     "execution_count": 4,
     "metadata": {},
     "output_type": "execute_result"
    }
   ],
   "source": [
    "data.head()"
   ]
  },
  {
   "cell_type": "code",
   "execution_count": 5,
   "metadata": {
    "collapsed": true
   },
   "outputs": [],
   "source": [
    "#删除空值较多的字段\n",
    "data.drop(['一次性医用材料拒付金额','农民工医疗救助计算金额','残疾军人医疗补助基金支付金额',\n",
    "           '公务员医疗补助基金支付金额','补助审批金额','城乡救助补助金额'],axis=1\n",
    "         ,inplace= True)"
   ]
  },
  {
   "cell_type": "code",
   "execution_count": 6,
   "metadata": {
    "collapsed": true
   },
   "outputs": [],
   "source": [
    "#删除金额都是0的特征\n",
    "drop_list = []\n",
    "fee_columns_list = []   #用于储存含有金额字眼的特征\n",
    "for i in data.columns:  #\n",
    "    if '金额' in i:      #含有金额的装起来\n",
    "        fee_columns_list.append(i)  \n",
    "        \n",
    "fee_list_copy = fee_columns_list.copy()\n",
    "for i in fee_list_copy: \n",
    "    if data[i].unique().shape[0]==1:\n",
    "        print(i,data[i].unique())\n",
    "        drop_list.append(i)\n",
    "        fee_columns_list.remove(i)\n",
    "data = data.drop(drop_list,axis=1)"
   ]
  },
  {
   "cell_type": "markdown",
   "metadata": {},
   "source": [
    "# 处理金额"
   ]
  },
  {
   "cell_type": "code",
   "execution_count": 7,
   "metadata": {
    "collapsed": false
   },
   "outputs": [
    {
     "name": "stdout",
     "output_type": "stream",
     "text": [
      "['药品费发生金额', '贵重药品发生金额', '中成药费发生金额', '中草药费发生金额', '药品费自费金额', '药品费拒付金额', '药品费申报金额', '检查费发生金额', '贵重检查费金额', '检查费自费金额', '检查费拒付金额', '检查费申报金额', '治疗费发生金额', '治疗费自费金额', '治疗费拒付金额', '治疗费申报金额', '手术费发生金额', '手术费自费金额', '手术费拒付金额', '手术费申报金额', '床位费发生金额', '床位费拒付金额', '床位费申报金额', '医用材料发生金额', '高价材料发生金额', '医用材料费自费金额', '医用材料费拒付金额', '输全血申报金额', '成分输血自费金额', '成分输血拒付金额', '成分输血申报金额', '其它发生金额', '其它拒付金额', '其它申报金额', '一次性医用材料自费金额', '一次性医用材料申报金额', '输全血按比例自负金额', '起付线标准金额', '起付标准以上自负比例金额', '医疗救助个人按比例负担金额', '最高限额以上金额', '统筹拒付金额', '基本医疗保险统筹基金支付金额', '可用账户报销金额', '基本医疗保险个人账户支付金额', '非账户支付金额', '本次审批金额', '民政救助补助金额', '城乡优抚补助金额', '非典补助补助金额']\n"
     ]
    }
   ],
   "source": [
    "#首先先将所有金额的字段全部加起来\n",
    "fee_columns = []\n",
    "for i in data.columns:\n",
    "    if '金额' in i:\n",
    "        fee_columns.append(i)\n",
    "print(fee_columns)"
   ]
  },
  {
   "cell_type": "code",
   "execution_count": 8,
   "metadata": {
    "collapsed": false
   },
   "outputs": [],
   "source": [
    "#首先先将根据个人编码对应各项金额全部加起来\n",
    "fee_sum = data.groupby('个人编码')[fee_columns].sum()\n",
    "fee_sum.reset_index(inplace=True)  #重设标签"
   ]
  },
  {
   "cell_type": "code",
   "execution_count": 9,
   "metadata": {
    "collapsed": false
   },
   "outputs": [],
   "source": [
    "data_fee = fee_sum.drop_duplicates()  #去重"
   ]
  },
  {
   "cell_type": "code",
   "execution_count": 10,
   "metadata": {
    "collapsed": false,
    "scrolled": true
   },
   "outputs": [
    {
     "name": "stdout",
     "output_type": "stream",
     "text": [
      "**********************************\n"
     ]
    },
    {
     "data": {
      "text/plain": [
       "个人编码               0\n",
       "药品费发生金额            0\n",
       "贵重药品发生金额           0\n",
       "中成药费发生金额           0\n",
       "中草药费发生金额           0\n",
       "药品费自费金额            0\n",
       "药品费拒付金额            0\n",
       "药品费申报金额            0\n",
       "检查费发生金额            0\n",
       "贵重检查费金额            0\n",
       "检查费自费金额            0\n",
       "检查费拒付金额            0\n",
       "检查费申报金额            0\n",
       "治疗费发生金额            0\n",
       "治疗费自费金额            0\n",
       "治疗费拒付金额            0\n",
       "治疗费申报金额            0\n",
       "手术费发生金额            0\n",
       "手术费自费金额            0\n",
       "手术费拒付金额            0\n",
       "手术费申报金额            0\n",
       "床位费发生金额            0\n",
       "床位费拒付金额            0\n",
       "床位费申报金额            0\n",
       "医用材料发生金额           0\n",
       "高价材料发生金额           0\n",
       "医用材料费自费金额          0\n",
       "医用材料费拒付金额          0\n",
       "输全血申报金额            0\n",
       "成分输血自费金额           0\n",
       "成分输血拒付金额           0\n",
       "成分输血申报金额           0\n",
       "其它发生金额             0\n",
       "其它拒付金额             0\n",
       "其它申报金额             0\n",
       "一次性医用材料自费金额       28\n",
       "一次性医用材料申报金额       28\n",
       "输全血按比例自负金额         0\n",
       "起付线标准金额            0\n",
       "起付标准以上自负比例金额       0\n",
       "医疗救助个人按比例负担金额      0\n",
       "最高限额以上金额           0\n",
       "统筹拒付金额             0\n",
       "基本医疗保险统筹基金支付金额     0\n",
       "可用账户报销金额           0\n",
       "基本医疗保险个人账户支付金额     0\n",
       "非账户支付金额            0\n",
       "本次审批金额             0\n",
       "民政救助补助金额           0\n",
       "城乡优抚补助金额           0\n",
       "非典补助补助金额           0\n",
       "dtype: int64"
      ]
     },
     "execution_count": 10,
     "metadata": {},
     "output_type": "execute_result"
    }
   ],
   "source": [
    "#查看各个金额的空值情况\n",
    "print('**********************************')\n",
    "np.sum(data_fee.isnull())"
   ]
  },
  {
   "cell_type": "code",
   "execution_count": 11,
   "metadata": {
    "collapsed": true
   },
   "outputs": [],
   "source": [
    "def handle_outlie(column,threhold,data):\n",
    "    data_md = data[column].median()  # 中位值\n",
    "    print(data_md)\n",
    "    new_column = data[column].map(lambda x : data_md if x> threhold else x)\n",
    "    return new_column\n"
   ]
  },
  {
   "cell_type": "code",
   "execution_count": 12,
   "metadata": {
    "collapsed": false
   },
   "outputs": [
    {
     "name": "stdout",
     "output_type": "stream",
     "text": [
      "11384.009999999998\n",
      "840.92\n",
      "2354.9049999999997\n",
      "404.58000000000004\n",
      "2.55\n",
      "11285.05\n",
      "260.0\n",
      "0.0\n",
      "0.0\n",
      "256.0\n",
      "336.0\n",
      "0.0\n",
      "329.0\n",
      "0.0\n",
      "0.0\n",
      "0.0\n",
      "0.0\n",
      "156.2\n",
      "0.0\n",
      "0.0\n",
      "0.0\n",
      "0.0\n",
      "1391.579999999999\n",
      "0.0\n",
      "11516.045000000006\n",
      "1341.309999999999\n",
      "101.88000000000001\n",
      "1302.0949999999998\n",
      "12962.094999999998\n",
      "0.0\n"
     ]
    }
   ],
   "source": [
    "#处理异常值\n",
    "bad_fee_cols = [['药品费发生金额',60000],\n",
    "                ['贵重药品发生金额',60000],\n",
    "                ['中成药费发生金额',37000],\n",
    "                ['中草药费发生金额',16000],\n",
    "                ['药品费自费金额',2000],\n",
    "['药品费申报金额',80000],\n",
    "['检查费发生金额',8000],\n",
    "['贵重检查费金额',3300],\n",
    "['检查费自费金额',1600],\n",
    "['检查费申报金额',5000],\n",
    "['治疗费发生金额',33000],\n",
    "['治疗费自费金额',2000],\n",
    "['治疗费申报金额',33000],\n",
    "['手术费发生金额',4000],\n",
    "['手术费申报金额',5000],\n",
    "['床位费发生金额',350],\n",
    "['床位费申报金额',350],\n",
    "['医用材料发生金额',7500],\n",
    "['高价材料发生金额',7500],\n",
    "['医用材料费自费金额',1600],\n",
    "['其它发生金额',420],\n",
    "['起付线标准金额',8000],\n",
    "['起付标准以上自负比例金额',12500],\n",
    "['医疗救助个人按比例负担金额',15000],\n",
    "['基本医疗保险统筹基金支付金额',60000],\n",
    "['可用账户报销金额',17000],\n",
    "['基本医疗保险个人账户支付金额',2000],\n",
    "['非账户支付金额',17500],\n",
    "['本次审批金额',100000],\n",
    "['民政救助补助金额',16000]]\n",
    "for i in bad_fee_cols:\n",
    "    data_fee[i[0]] = handle_outlie(i[0],i[1],data_fee)"
   ]
  },
  {
   "cell_type": "code",
   "execution_count": 13,
   "metadata": {
    "collapsed": false
   },
   "outputs": [
    {
     "name": "stdout",
     "output_type": "stream",
     "text": [
      "['药品费发生金额', '贵重药品发生金额', '中成药费发生金额', '中草药费发生金额', '药品费自费金额', '药品费拒付金额', '药品费申报金额', '检查费发生金额', '贵重检查费金额', '检查费自费金额', '检查费拒付金额', '检查费申报金额', '治疗费发生金额', '治疗费自费金额', '治疗费拒付金额', '治疗费申报金额', '手术费发生金额', '手术费自费金额', '手术费拒付金额', '手术费申报金额', '床位费发生金额', '床位费拒付金额', '床位费申报金额', '医用材料发生金额', '高价材料发生金额', '医用材料费自费金额', '医用材料费拒付金额', '输全血申报金额', '成分输血自费金额', '成分输血拒付金额', '成分输血申报金额', '其它发生金额', '其它拒付金额', '其它申报金额', '一次性医用材料自费金额', '一次性医用材料申报金额', '输全血按比例自负金额', '起付线标准金额', '起付标准以上自负比例金额', '医疗救助个人按比例负担金额', '最高限额以上金额', '统筹拒付金额', '基本医疗保险统筹基金支付金额', '可用账户报销金额', '基本医疗保险个人账户支付金额', '非账户支付金额', '本次审批金额', '民政救助补助金额', '城乡优抚补助金额', '非典补助补助金额']\n",
      "**************\n",
      "['药品费拒付金额', '检查费拒付金额', '治疗费拒付金额', '手术费拒付金额', '床位费拒付金额', '医用材料费拒付金额', '成分输血拒付金额', '其它拒付金额', '统筹拒付金额']\n"
     ]
    }
   ],
   "source": [
    "# 删除点比较少的特征\n",
    "#输出金额\n",
    "print(fee_columns)\n",
    "jufu_list =[]\n",
    "for i in fee_columns:\n",
    "    if '拒付' in i:\n",
    "        jufu_list.append(i)\n",
    "print('**************')\n",
    "print(jufu_list)\n",
    "\n",
    "# 删除拒付项目\n",
    "data_fee = data_fee.drop(jufu_list,axis=1)\n",
    "data_fee.drop('非典补助补助金额',inplace=True,axis=1)\n"
   ]
  },
  {
   "cell_type": "code",
   "execution_count": 14,
   "metadata": {
    "collapsed": false
   },
   "outputs": [
    {
     "name": "stdout",
     "output_type": "stream",
     "text": [
      "药品费发生金额 -----> 3953\n",
      "贵重药品发生金额 -----> 1383\n",
      "中成药费发生金额 -----> 3385\n",
      "中草药费发生金额 -----> 2124\n",
      "药品费自费金额 -----> 1833\n",
      "药品费申报金额 -----> 3966\n",
      "检查费发生金额 -----> 1434\n",
      "贵重检查费金额 -----> 116\n",
      "检查费自费金额 -----> 100\n",
      "检查费申报金额 -----> 1480\n",
      "治疗费发生金额 -----> 2095\n",
      "治疗费自费金额 -----> 178\n",
      "治疗费申报金额 -----> 1964\n",
      "手术费发生金额 -----> 15\n",
      "手术费自费金额 -----> 4\n",
      "手术费申报金额 -----> 13\n",
      "床位费发生金额 -----> 71\n",
      "床位费申报金额 -----> 63\n",
      "医用材料发生金额 -----> 2548\n",
      "高价材料发生金额 -----> 11\n",
      "医用材料费自费金额 -----> 382\n",
      "输全血申报金额 -----> 1\n",
      "成分输血自费金额 -----> 1\n",
      "成分输血申报金额 -----> 2\n",
      "其它发生金额 -----> 364\n",
      "其它申报金额 -----> 1\n",
      "一次性医用材料自费金额 -----> 2\n",
      "一次性医用材料申报金额 -----> 2204\n",
      "输全血按比例自负金额 -----> 1\n",
      "起付线标准金额 -----> 31\n",
      "起付标准以上自负比例金额 -----> 3966\n",
      "医疗救助个人按比例负担金额 -----> 57\n",
      "最高限额以上金额 -----> 1\n",
      "基本医疗保险统筹基金支付金额 -----> 3991\n",
      "可用账户报销金额 -----> 3990\n",
      "基本医疗保险个人账户支付金额 -----> 1801\n",
      "非账户支付金额 -----> 3987\n",
      "本次审批金额 -----> 3991\n",
      "民政救助补助金额 -----> 566\n",
      "城乡优抚补助金额 -----> 4\n"
     ]
    },
    {
     "data": {
      "text/plain": [
       "[['贵重检查费金额', 116],\n",
       " ['检查费自费金额', 100],\n",
       " ['治疗费自费金额', 178],\n",
       " ['手术费发生金额', 15],\n",
       " ['手术费自费金额', 4],\n",
       " ['手术费申报金额', 13],\n",
       " ['床位费发生金额', 71],\n",
       " ['床位费申报金额', 63],\n",
       " ['高价材料发生金额', 11],\n",
       " ['输全血申报金额', 1],\n",
       " ['成分输血自费金额', 1],\n",
       " ['成分输血申报金额', 2],\n",
       " ['其它申报金额', 1],\n",
       " ['一次性医用材料自费金额', 2],\n",
       " ['输全血按比例自负金额', 1],\n",
       " ['起付线标准金额', 31],\n",
       " ['医疗救助个人按比例负担金额', 57],\n",
       " ['最高限额以上金额', 1],\n",
       " ['城乡优抚补助金额', 4]]"
      ]
     },
     "execution_count": 14,
     "metadata": {},
     "output_type": "execute_result"
    }
   ],
   "source": [
    "#统计值比较少的数\n",
    "#对每个字段进行画图\n",
    "value_less = []\n",
    "for i in data_fee.columns:\n",
    "    if '金额' in i:\n",
    "        a = data_fee[i].unique().shape[0]\n",
    "        if a <=250:  #小于250，全部删除\n",
    "            value_less.append([i,a])\n",
    "        print(i,'----->',a)\n",
    "value_less"
   ]
  },
  {
   "cell_type": "code",
   "execution_count": 15,
   "metadata": {
    "collapsed": false
   },
   "outputs": [
    {
     "name": "stdout",
     "output_type": "stream",
     "text": [
      "['贵重检查费金额', '检查费自费金额', '治疗费自费金额', '手术费发生金额', '手术费自费金额', '手术费申报金额', '床位费发生金额', '床位费申报金额', '高价材料发生金额', '输全血申报金额', '成分输血自费金额', '成分输血申报金额', '其它申报金额', '一次性医用材料自费金额', '输全血按比例自负金额', '起付线标准金额', '医疗救助个人按比例负担金额', '最高限额以上金额', '城乡优抚补助金额', '治疗费自费金额', '医用材料费自费金额', '民政救助补助金额']\n"
     ]
    },
    {
     "data": {
      "image/png": "[encoded data removed]",
      "text/plain": [
       "<matplotlib.figure.Figure at 0x7f2f091894a8>"
      ]
     },
     "metadata": {},
     "output_type": "display_data"
    }
   ],
   "source": [
    "#将产生噪音的金额替换掉\n",
    "value_less_name =[]\n",
    "for i in value_less:\n",
    "    #print('***************'+i[0]+'---->'+str(i[1])+'****************************')\n",
    "    #print(data_fee[i[0]].value_counts().sort_index())\n",
    "    value_less_name.append(i[0])\n",
    "    #print('-----------------------------------------------------')\n",
    "value_less_name.extend(['治疗费自费金额','医用材料费自费金额','民政救助补助金额'])\n",
    "value_less_sum = data_fee[value_less_name].sum(axis=1)\n",
    "np.log2(value_less_sum+0.0000001).plot('kde',xlim=[-1,20],ylim=[0,0.05])\n",
    "#data_fee[value_less_name].sum(axis=1).value_counts()\n",
    "data_fee['特殊金额'] = value_less_sum\n",
    "print(value_less_name)\n",
    "data_fee_new = data_fee.drop(value_less_name,axis=1)"
   ]
  },
  {
   "cell_type": "code",
   "execution_count": 16,
   "metadata": {
    "collapsed": false
   },
   "outputs": [
    {
     "data": {
      "text/html": [
       "<div>\n",
       "<table border=\"1\" class=\"dataframe\">\n",
       "  <thead>\n",
       "    <tr style=\"text-align: right;\">\n",
       "      <th></th>\n",
       "      <th>个人编码</th>\n",
       "      <th>药品费发生金额</th>\n",
       "      <th>贵重药品发生金额</th>\n",
       "      <th>中成药费发生金额</th>\n",
       "      <th>中草药费发生金额</th>\n",
       "      <th>药品费自费金额</th>\n",
       "      <th>药品费申报金额</th>\n",
       "      <th>检查费发生金额</th>\n",
       "      <th>检查费申报金额</th>\n",
       "      <th>治疗费发生金额</th>\n",
       "      <th>...</th>\n",
       "      <th>医用材料发生金额</th>\n",
       "      <th>其它发生金额</th>\n",
       "      <th>一次性医用材料申报金额</th>\n",
       "      <th>起付标准以上自负比例金额</th>\n",
       "      <th>基本医疗保险统筹基金支付金额</th>\n",
       "      <th>可用账户报销金额</th>\n",
       "      <th>基本医疗保险个人账户支付金额</th>\n",
       "      <th>非账户支付金额</th>\n",
       "      <th>本次审批金额</th>\n",
       "      <th>特殊金额</th>\n",
       "    </tr>\n",
       "  </thead>\n",
       "  <tbody>\n",
       "    <tr>\n",
       "      <th>0</th>\n",
       "      <td>352120000001598</td>\n",
       "      <td>9.171610</td>\n",
       "      <td>-13.815511</td>\n",
       "      <td>7.838375</td>\n",
       "      <td>6.543451</td>\n",
       "      <td>5.346965</td>\n",
       "      <td>9.145449</td>\n",
       "      <td>5.594711</td>\n",
       "      <td>5.594711</td>\n",
       "      <td>6.138806</td>\n",
       "      <td>...</td>\n",
       "      <td>5.134621</td>\n",
       "      <td>-13.815511</td>\n",
       "      <td>5.134621</td>\n",
       "      <td>6.934787</td>\n",
       "      <td>9.132010</td>\n",
       "      <td>6.971519</td>\n",
       "      <td>4.893202</td>\n",
       "      <td>7.040913</td>\n",
       "      <td>9.237371</td>\n",
       "      <td>-13.815511</td>\n",
       "    </tr>\n",
       "    <tr>\n",
       "      <th>1</th>\n",
       "      <td>352120000004806</td>\n",
       "      <td>9.154141</td>\n",
       "      <td>-13.815511</td>\n",
       "      <td>7.158031</td>\n",
       "      <td>8.114642</td>\n",
       "      <td>3.510650</td>\n",
       "      <td>9.148880</td>\n",
       "      <td>-13.815511</td>\n",
       "      <td>-13.815511</td>\n",
       "      <td>8.171882</td>\n",
       "      <td>...</td>\n",
       "      <td>-13.815511</td>\n",
       "      <td>-13.815511</td>\n",
       "      <td>-13.815511</td>\n",
       "      <td>7.165779</td>\n",
       "      <td>9.363021</td>\n",
       "      <td>7.178172</td>\n",
       "      <td>5.273000</td>\n",
       "      <td>7.046630</td>\n",
       "      <td>9.468380</td>\n",
       "      <td>-13.815511</td>\n",
       "    </tr>\n",
       "    <tr>\n",
       "      <th>2</th>\n",
       "      <td>352120000005123</td>\n",
       "      <td>9.347537</td>\n",
       "      <td>8.357170</td>\n",
       "      <td>6.363855</td>\n",
       "      <td>7.596473</td>\n",
       "      <td>-13.815511</td>\n",
       "      <td>9.347537</td>\n",
       "      <td>5.099866</td>\n",
       "      <td>5.099866</td>\n",
       "      <td>5.895779</td>\n",
       "      <td>...</td>\n",
       "      <td>-13.815511</td>\n",
       "      <td>2.995732</td>\n",
       "      <td>-13.815511</td>\n",
       "      <td>7.089918</td>\n",
       "      <td>9.287138</td>\n",
       "      <td>7.089918</td>\n",
       "      <td>4.735057</td>\n",
       "      <td>7.008451</td>\n",
       "      <td>9.392499</td>\n",
       "      <td>-13.815511</td>\n",
       "    </tr>\n",
       "    <tr>\n",
       "      <th>3</th>\n",
       "      <td>352120000006659</td>\n",
       "      <td>9.529905</td>\n",
       "      <td>8.758595</td>\n",
       "      <td>8.758595</td>\n",
       "      <td>8.909251</td>\n",
       "      <td>-13.815511</td>\n",
       "      <td>9.529905</td>\n",
       "      <td>-13.815511</td>\n",
       "      <td>-13.815511</td>\n",
       "      <td>4.262680</td>\n",
       "      <td>...</td>\n",
       "      <td>-13.815511</td>\n",
       "      <td>-13.815511</td>\n",
       "      <td>-13.815511</td>\n",
       "      <td>7.232430</td>\n",
       "      <td>9.429693</td>\n",
       "      <td>7.232430</td>\n",
       "      <td>4.553877</td>\n",
       "      <td>7.161296</td>\n",
       "      <td>9.535049</td>\n",
       "      <td>-13.815511</td>\n",
       "    </tr>\n",
       "    <tr>\n",
       "      <th>4</th>\n",
       "      <td>352120000010106</td>\n",
       "      <td>8.960440</td>\n",
       "      <td>-13.815511</td>\n",
       "      <td>7.951408</td>\n",
       "      <td>5.549893</td>\n",
       "      <td>-1.560643</td>\n",
       "      <td>8.957095</td>\n",
       "      <td>4.859812</td>\n",
       "      <td>4.859812</td>\n",
       "      <td>5.065755</td>\n",
       "      <td>...</td>\n",
       "      <td>5.798001</td>\n",
       "      <td>-13.815511</td>\n",
       "      <td>5.798001</td>\n",
       "      <td>6.731018</td>\n",
       "      <td>8.928231</td>\n",
       "      <td>6.761341</td>\n",
       "      <td>4.617593</td>\n",
       "      <td>6.636943</td>\n",
       "      <td>9.033592</td>\n",
       "      <td>-13.815511</td>\n",
       "    </tr>\n",
       "  </tbody>\n",
       "</table>\n",
       "<p>5 rows × 21 columns</p>\n",
       "</div>"
      ],
      "text/plain": [
       "              个人编码   药品费发生金额   贵重药品发生金额  中成药费发生金额  中草药费发生金额    药品费自费金额  \\\n",
       "0  352120000001598  9.171610 -13.815511  7.838375  6.543451   5.346965   \n",
       "1  352120000004806  9.154141 -13.815511  7.158031  8.114642   3.510650   \n",
       "2  352120000005123  9.347537   8.357170  6.363855  7.596473 -13.815511   \n",
       "3  352120000006659  9.529905   8.758595  8.758595  8.909251 -13.815511   \n",
       "4  352120000010106  8.960440 -13.815511  7.951408  5.549893  -1.560643   \n",
       "\n",
       "    药品费申报金额    检查费发生金额    检查费申报金额   治疗费发生金额    ...       医用材料发生金额     其它发生金额  \\\n",
       "0  9.145449   5.594711   5.594711  6.138806    ...       5.134621 -13.815511   \n",
       "1  9.148880 -13.815511 -13.815511  8.171882    ...     -13.815511 -13.815511   \n",
       "2  9.347537   5.099866   5.099866  5.895779    ...     -13.815511   2.995732   \n",
       "3  9.529905 -13.815511 -13.815511  4.262680    ...     -13.815511 -13.815511   \n",
       "4  8.957095   4.859812   4.859812  5.065755    ...       5.798001 -13.815511   \n",
       "\n",
       "   一次性医用材料申报金额  起付标准以上自负比例金额  基本医疗保险统筹基金支付金额  可用账户报销金额  基本医疗保险个人账户支付金额  \\\n",
       "0     5.134621      6.934787        9.132010  6.971519        4.893202   \n",
       "1   -13.815511      7.165779        9.363021  7.178172        5.273000   \n",
       "2   -13.815511      7.089918        9.287138  7.089918        4.735057   \n",
       "3   -13.815511      7.232430        9.429693  7.232430        4.553877   \n",
       "4     5.798001      6.731018        8.928231  6.761341        4.617593   \n",
       "\n",
       "    非账户支付金额    本次审批金额       特殊金额  \n",
       "0  7.040913  9.237371 -13.815511  \n",
       "1  7.046630  9.468380 -13.815511  \n",
       "2  7.008451  9.392499 -13.815511  \n",
       "3  7.161296  9.535049 -13.815511  \n",
       "4  6.636943  9.033592 -13.815511  \n",
       "\n",
       "[5 rows x 21 columns]"
      ]
     },
     "execution_count": 16,
     "metadata": {},
     "output_type": "execute_result"
    }
   ],
   "source": [
    "#金额全部用来转化成log值\n",
    "for i in data_fee_new:\n",
    "    if '金额' in i:\n",
    "        data_fee_new[i] = np.log(data_fee_new[i]+0.000001)\n",
    "data_fee_new.head()"
   ]
  },
  {
   "cell_type": "code",
   "execution_count": 17,
   "metadata": {
    "collapsed": true
   },
   "outputs": [],
   "source": [
    "#重置索引\n",
    "data_fee_new= data_fee_new.reset_index(drop = True)"
   ]
  },
  {
   "cell_type": "code",
   "execution_count": 18,
   "metadata": {
    "collapsed": true
   },
   "outputs": [],
   "source": [
    "#药品费发生金额画出散点图\n",
    "def plot_log_fee(columns,data,start=0,end=100000):\n",
    "\n",
    "    \n",
    "    fig,ax1 = plt.subplots(figsize=(15,6))\n",
    "    #分布图\n",
    "    sns.kdeplot(data[columns],ax=ax1,label='全部')\n",
    "    #sns.distplot(data[data['标签']==0][columns],ax=ax1,kde=False,color='b',label='非骗保')\n",
    "    ax1.set(title =columns,xlabel=columns,ylabel='频数',xlim=[start,end]) \n",
    "    ax1.legend()\n",
    "    fig.suptitle('Fee Analysis', fontsize=20, fontweight='bold');\n",
    "    #plt.savefig(columns+'.png')  #保存图像\n",
    "    plt.show()"
   ]
  },
  {
   "cell_type": "code",
   "execution_count": 21,
   "metadata": {
    "collapsed": false,
    "scrolled": false
   },
   "outputs": [
    {
     "name": "stdout",
     "output_type": "stream",
     "text": [
      "-11.1174261557\n"
     ]
    },
    {
     "name": "stderr",
     "output_type": "stream",
     "text": [
      "/home/zhh/anaconda3/lib/python3.6/site-packages/statsmodels/nonparametric/kdetools.py:20: VisibleDeprecationWarning: using a non-integer number instead of an integer will result in an error in the future\n",
      "  y = X[:m/2+1] + np.r_[0,X[m/2+1:],0]*1j\n"
     ]
    },
    {
     "data": {
      "image/png": "[encoded data removed]",
      "text/plain": [
       "<matplotlib.figure.Figure at 0x7f2f083767b8>"
      ]
     },
     "metadata": {},
     "output_type": "display_data"
    },
    {
     "name": "stdout",
     "output_type": "stream",
     "text": [
      "-0.281485033485\n"
     ]
    },
    {
     "data": {
      "image/png": "[encoded data removed]",
      "text/plain": [
       "<matplotlib.figure.Figure at 0x7f2f082adb00>"
      ]
     },
     "metadata": {},
     "output_type": "display_data"
    },
    {
     "name": "stdout",
     "output_type": "stream",
     "text": [
      "-2.16232501557\n"
     ]
    },
    {
     "data": {
      "image/png": "[encoded data removed]",
      "text/plain": [
       "<matplotlib.figure.Figure at 0x7f2f08243080>"
      ]
     },
     "metadata": {},
     "output_type": "display_data"
    },
    {
     "name": "stdout",
     "output_type": "stream",
     "text": [
      "-0.1588767792\n"
     ]
    },
    {
     "data": {
      "image/png": "[encoded data removed]",
      "text/plain": [
       "<matplotlib.figure.Figure at 0x7f2f082a8a20>"
      ]
     },
     "metadata": {},
     "output_type": "display_data"
    },
    {
     "name": "stdout",
     "output_type": "stream",
     "text": [
      "-0.505977281879\n"
     ]
    },
    {
     "data": {
      "image/png": "[encoded data removed]",
      "text/plain": [
       "<matplotlib.figure.Figure at 0x7f2f080dba20>"
      ]
     },
     "metadata": {},
     "output_type": "display_data"
    },
    {
     "name": "stdout",
     "output_type": "stream",
     "text": [
      "-10.9376761987\n"
     ]
    },
    {
     "data": {
      "image/png": "[encoded data removed]",
      "text/plain": [
       "<matplotlib.figure.Figure at 0x7f2f080bcb70>"
      ]
     },
     "metadata": {},
     "output_type": "display_data"
    },
    {
     "name": "stdout",
     "output_type": "stream",
     "text": [
      "-1.15657024174\n"
     ]
    },
    {
     "data": {
      "image/png": "[encoded data removed]",
      "text/plain": [
       "<matplotlib.figure.Figure at 0x7f2f07efd4e0>"
      ]
     },
     "metadata": {},
     "output_type": "display_data"
    },
    {
     "name": "stdout",
     "output_type": "stream",
     "text": [
      "-1.15803376575\n"
     ]
    },
    {
     "data": {
      "image/png": "[encoded data removed]",
      "text/plain": [
       "<matplotlib.figure.Figure at 0x7f2f07ea7f28>"
      ]
     },
     "metadata": {},
     "output_type": "display_data"
    },
    {
     "name": "stdout",
     "output_type": "stream",
     "text": [
      "-4.06698831973\n"
     ]
    },
    {
     "data": {
      "image/png": "[encoded data removed]",
      "text/plain": [
       "<matplotlib.figure.Figure at 0x7f2f07dd8128>"
      ]
     },
     "metadata": {},
     "output_type": "display_data"
    },
    {
     "name": "stdout",
     "output_type": "stream",
     "text": [
      "-3.84608556306\n"
     ]
    },
    {
     "data": {
      "image/png": "[encoded data removed]",
      "text/plain": [
       "<matplotlib.figure.Figure at 0x7f2f07e2fac8>"
      ]
     },
     "metadata": {},
     "output_type": "display_data"
    },
    {
     "name": "stdout",
     "output_type": "stream",
     "text": [
      "-1.36380038378\n"
     ]
    },
    {
     "data": {
      "image/png": "[encoded data removed]",
      "text/plain": [
       "<matplotlib.figure.Figure at 0x7f2f080e2940>"
      ]
     },
     "metadata": {},
     "output_type": "display_data"
    },
    {
     "name": "stdout",
     "output_type": "stream",
     "text": [
      "0.497828477304\n"
     ]
    },
    {
     "data": {
      "image/png": "[encoded data removed]",
      "text/plain": [
       "<matplotlib.figure.Figure at 0x7f2f3834b048>"
      ]
     },
     "metadata": {},
     "output_type": "display_data"
    },
    {
     "name": "stdout",
     "output_type": "stream",
     "text": [
      "-1.06704145462\n"
     ]
    },
    {
     "name": "stderr",
     "output_type": "stream",
     "text": [
      "/home/zhh/anaconda3/lib/python3.6/site-packages/statsmodels/nonparametric/kde.py:454: RuntimeWarning: invalid value encountered in greater\n",
      "  X = X[np.logical_and(X>clip[0], X<clip[1])] # won't work for two columns.\n",
      "/home/zhh/anaconda3/lib/python3.6/site-packages/statsmodels/nonparametric/kde.py:454: RuntimeWarning: invalid value encountered in less\n",
      "  X = X[np.logical_and(X>clip[0], X<clip[1])] # won't work for two columns.\n"
     ]
    },
    {
     "data": {
      "image/png": "[encoded data removed]",
      "text/plain": [
       "<matplotlib.figure.Figure at 0x7f2f0813c7b8>"
      ]
     },
     "metadata": {},
     "output_type": "display_data"
    },
    {
     "name": "stdout",
     "output_type": "stream",
     "text": [
      "-10.2649399355\n"
     ]
    },
    {
     "data": {
      "image/png": "[encoded data removed]",
      "text/plain": [
       "<matplotlib.figure.Figure at 0x7f2f07f68908>"
      ]
     },
     "metadata": {},
     "output_type": "display_data"
    },
    {
     "name": "stdout",
     "output_type": "stream",
     "text": [
      "-13.5877692531\n"
     ]
    },
    {
     "data": {
      "image/png": "[encoded data removed]",
      "text/plain": [
       "<matplotlib.figure.Figure at 0x7f2f080e9ac8>"
      ]
     },
     "metadata": {},
     "output_type": "display_data"
    },
    {
     "name": "stdout",
     "output_type": "stream",
     "text": [
      "-3.79302446156\n"
     ]
    },
    {
     "data": {
      "image/png": "[encoded data removed]",
      "text/plain": [
       "<matplotlib.figure.Figure at 0x7f2f08141c18>"
      ]
     },
     "metadata": {},
     "output_type": "display_data"
    },
    {
     "name": "stdout",
     "output_type": "stream",
     "text": [
      "-0.522147022011\n"
     ]
    },
    {
     "data": {
      "image/png": "[encoded data removed]",
      "text/plain": [
       "<matplotlib.figure.Figure at 0x7f2f082d1a58>"
      ]
     },
     "metadata": {},
     "output_type": "display_data"
    },
    {
     "name": "stdout",
     "output_type": "stream",
     "text": [
      "-7.55408126674\n"
     ]
    },
    {
     "data": {
      "image/png": "[encoded data removed]",
      "text/plain": [
       "<matplotlib.figure.Figure at 0x7f2f080c4d30>"
      ]
     },
     "metadata": {},
     "output_type": "display_data"
    },
    {
     "name": "stdout",
     "output_type": "stream",
     "text": [
      "-2.04943968869\n"
     ]
    },
    {
     "data": {
      "image/png": "[encoded data removed]",
      "text/plain": [
       "<matplotlib.figure.Figure at 0x7f2f081f1b38>"
      ]
     },
     "metadata": {},
     "output_type": "display_data"
    },
    {
     "name": "stdout",
     "output_type": "stream",
     "text": [
      "0.0640414566212\n"
     ]
    },
    {
     "data": {
      "image/png": "[encoded data removed]",
      "text/plain": [
       "<matplotlib.figure.Figure at 0x7f2f082fb898>"
      ]
     },
     "metadata": {},
     "output_type": "display_data"
    }
   ],
   "source": [
    "#给每一个金额画log图\n",
    "for i in data_fee_new.columns:\n",
    "    if '金额' in i:\n",
    "        print(data_fee_new[i].skew())\n",
    "        plot_log_fee(i,data_fee_new,0,20)\n"
   ]
  },
  {
   "cell_type": "code",
   "execution_count": 22,
   "metadata": {
    "collapsed": true
   },
   "outputs": [],
   "source": [
    "#写入7测试表合表\n",
    "if os.path.exists('/home/zhh/文档/阿里巴巴/data/7测试表合表'):\n",
    "    os.chdir('/home/zhh/文档/阿里巴巴/data/7测试表合表')\n",
    "else:\n",
    "    os.mkdir('/home/zhh/文档/阿里巴巴/data/7测试表合表')\n",
    "    os.chdir('/home/zhh/文档/阿里巴巴/data/7测试表合表')\n",
    "with open('金额特征.pickle','wb') as f1:\n",
    "    #data = pickle.load(f1)  \n",
    "    pickle.dump(data_fee_new,f1)"
   ]
  },
  {
   "cell_type": "markdown",
   "metadata": {},
   "source": [
    "# 医院个数"
   ]
  },
  {
   "cell_type": "code",
   "execution_count": 25,
   "metadata": {
    "collapsed": false
   },
   "outputs": [
    {
     "data": {
      "text/html": [
       "<div>\n",
       "<table border=\"1\" class=\"dataframe\">\n",
       "  <thead>\n",
       "    <tr style=\"text-align: right;\">\n",
       "      <th></th>\n",
       "      <th>个人编码</th>\n",
       "      <th>医院个数</th>\n",
       "    </tr>\n",
       "  </thead>\n",
       "  <tbody>\n",
       "    <tr>\n",
       "      <th>0</th>\n",
       "      <td>352120000001598</td>\n",
       "      <td>49</td>\n",
       "    </tr>\n",
       "    <tr>\n",
       "      <th>1</th>\n",
       "      <td>352120000004806</td>\n",
       "      <td>78</td>\n",
       "    </tr>\n",
       "    <tr>\n",
       "      <th>2</th>\n",
       "      <td>352120000005123</td>\n",
       "      <td>49</td>\n",
       "    </tr>\n",
       "    <tr>\n",
       "      <th>3</th>\n",
       "      <td>352120000006659</td>\n",
       "      <td>36</td>\n",
       "    </tr>\n",
       "    <tr>\n",
       "      <th>4</th>\n",
       "      <td>352120000010106</td>\n",
       "      <td>40</td>\n",
       "    </tr>\n",
       "  </tbody>\n",
       "</table>\n",
       "</div>"
      ],
      "text/plain": [
       "              个人编码  医院个数\n",
       "0  352120000001598    49\n",
       "1  352120000004806    78\n",
       "2  352120000005123    49\n",
       "3  352120000006659    36\n",
       "4  352120000010106    40"
      ]
     },
     "execution_count": 25,
     "metadata": {},
     "output_type": "execute_result"
    }
   ],
   "source": [
    "#统计每个人对应的医院数\n",
    "hs_cont = data.groupby('个人编码')['医院编码'].count()\n",
    "hs_cont = hs_cont.reset_index()\n",
    "hs_cont.columns =['个人编码','医院个数']\n",
    "hs_cont.head()"
   ]
  },
  {
   "cell_type": "code",
   "execution_count": 26,
   "metadata": {
    "collapsed": true
   },
   "outputs": [],
   "source": [
    "#写入医院个数\n",
    "if os.path.exists('/home/zhh/文档/阿里巴巴/data/7测试表合表'):\n",
    "    os.chdir('/home/zhh/文档/阿里巴巴/data/7测试表合表')\n",
    "else:\n",
    "    os.mkdir('/home/zhh/文档/阿里巴巴/data/7测试表合表')\n",
    "    os.chdir('/home/zhh/文档/阿里巴巴/data/7测试表合表')\n",
    "with open('医院个数.pickle','wb') as f1:\n",
    "    #data = pickle.load(f1)  \n",
    "    pickle.dump(hs_cont,f1)"
   ]
  },
  {
   "cell_type": "markdown",
   "metadata": {},
   "source": [
    "# 探索出院病种的影响"
   ]
  },
  {
   "cell_type": "code",
   "execution_count": 27,
   "metadata": {
    "collapsed": true
   },
   "outputs": [],
   "source": [
    "disease = data[['个人编码','出院诊断病种名称']].drop_duplicates()\n",
    "disease_cnt = disease.groupby('个人编码')['出院诊断病种名称'].count()\n",
    "disease_cnt = disease_cnt.reset_index()"
   ]
  },
  {
   "cell_type": "code",
   "execution_count": 28,
   "metadata": {
    "collapsed": true
   },
   "outputs": [],
   "source": [
    "#关联\n",
    "data_disease = pd.merge(disease_cnt,data[['个人编码']],how='left')\n",
    "data_disease = data_disease.drop_duplicates()\n",
    "data_disease = data_disease.reset_index(drop = True)\n",
    "data_disease.columns=['个人编码','出院诊断病种名称个数']"
   ]
  },
  {
   "cell_type": "code",
   "execution_count": 30,
   "metadata": {
    "collapsed": false
   },
   "outputs": [
    {
     "data": {
      "text/html": [
       "<div>\n",
       "<table border=\"1\" class=\"dataframe\">\n",
       "  <thead>\n",
       "    <tr style=\"text-align: right;\">\n",
       "      <th></th>\n",
       "      <th>个人编码</th>\n",
       "      <th>出院诊断病种名称个数</th>\n",
       "    </tr>\n",
       "  </thead>\n",
       "  <tbody>\n",
       "    <tr>\n",
       "      <th>0</th>\n",
       "      <td>352120000001598</td>\n",
       "      <td>5</td>\n",
       "    </tr>\n",
       "    <tr>\n",
       "      <th>1</th>\n",
       "      <td>352120000004806</td>\n",
       "      <td>6</td>\n",
       "    </tr>\n",
       "    <tr>\n",
       "      <th>2</th>\n",
       "      <td>352120000005123</td>\n",
       "      <td>4</td>\n",
       "    </tr>\n",
       "    <tr>\n",
       "      <th>3</th>\n",
       "      <td>352120000006659</td>\n",
       "      <td>2</td>\n",
       "    </tr>\n",
       "    <tr>\n",
       "      <th>4</th>\n",
       "      <td>352120000010106</td>\n",
       "      <td>2</td>\n",
       "    </tr>\n",
       "  </tbody>\n",
       "</table>\n",
       "</div>"
      ],
      "text/plain": [
       "              个人编码  出院诊断病种名称个数\n",
       "0  352120000001598           5\n",
       "1  352120000004806           6\n",
       "2  352120000005123           4\n",
       "3  352120000006659           2\n",
       "4  352120000010106           2"
      ]
     },
     "execution_count": 30,
     "metadata": {},
     "output_type": "execute_result"
    }
   ],
   "source": [
    "data_disease.head()"
   ]
  },
  {
   "cell_type": "code",
   "execution_count": 31,
   "metadata": {
    "collapsed": true
   },
   "outputs": [],
   "source": [
    "#写入出院诊断病种的个数\n",
    "if os.path.exists('/home/zhh/文档/阿里巴巴/data/7测试表合表'):\n",
    "    os.chdir('/home/zhh/文档/阿里巴巴/data/7测试表合表')\n",
    "else:\n",
    "    os.mkdir('/home/zhh/文档/阿里巴巴/data/7测试表合表')\n",
    "    os.chdir('/home/zhh/文档/阿里巴巴/data/7测试表合表')\n",
    "with open('出院诊断病种的个数.pickle','wb') as f1:\n",
    "    #data = pickle.load(f1)  \n",
    "    pickle.dump(data_disease,f1)"
   ]
  },
  {
   "cell_type": "markdown",
   "metadata": {},
   "source": [
    "# 研究时间的影响"
   ]
  },
  {
   "cell_type": "code",
   "execution_count": 5,
   "metadata": {
    "collapsed": false
   },
   "outputs": [
    {
     "data": {
      "text/plain": [
       "['交易时间', '住院开始时间', '住院终止时间', '申报受理时间', '操作时间']"
      ]
     },
     "execution_count": 5,
     "metadata": {},
     "output_type": "execute_result"
    }
   ],
   "source": [
    "# \n",
    "time_col_list =[]\n",
    "for i in data.columns:\n",
    "    if '时间' in i:\n",
    "        time_col_list.append(i)\n",
    "time_col_list"
   ]
  },
  {
   "cell_type": "code",
   "execution_count": 6,
   "metadata": {
    "collapsed": false
   },
   "outputs": [],
   "source": [
    "data_time = data[['个人编码','交易时间', '住院开始时间', '住院终止时间', '申报受理时间', '操作时间']].drop_duplicates()"
   ]
  },
  {
   "cell_type": "code",
   "execution_count": 7,
   "metadata": {
    "collapsed": true
   },
   "outputs": [],
   "source": [
    "data_time_cnt = data_time.groupby(['个人编码'])['交易时间'].count().reset_index()\n",
    "data_time_cnt.columns =['个人编码','交易次数']"
   ]
  },
  {
   "cell_type": "code",
   "execution_count": 8,
   "metadata": {
    "collapsed": false
   },
   "outputs": [
    {
     "data": {
      "text/html": [
       "<div>\n",
       "<table border=\"1\" class=\"dataframe\">\n",
       "  <thead>\n",
       "    <tr style=\"text-align: right;\">\n",
       "      <th></th>\n",
       "      <th>个人编码</th>\n",
       "      <th>交易次数</th>\n",
       "    </tr>\n",
       "  </thead>\n",
       "  <tbody>\n",
       "    <tr>\n",
       "      <th>0</th>\n",
       "      <td>352120000001598</td>\n",
       "      <td>23</td>\n",
       "    </tr>\n",
       "    <tr>\n",
       "      <th>1</th>\n",
       "      <td>352120000004806</td>\n",
       "      <td>37</td>\n",
       "    </tr>\n",
       "    <tr>\n",
       "      <th>2</th>\n",
       "      <td>352120000005123</td>\n",
       "      <td>21</td>\n",
       "    </tr>\n",
       "    <tr>\n",
       "      <th>3</th>\n",
       "      <td>352120000006659</td>\n",
       "      <td>13</td>\n",
       "    </tr>\n",
       "    <tr>\n",
       "      <th>4</th>\n",
       "      <td>352120000010106</td>\n",
       "      <td>19</td>\n",
       "    </tr>\n",
       "  </tbody>\n",
       "</table>\n",
       "</div>"
      ],
      "text/plain": [
       "              个人编码  交易次数\n",
       "0  352120000001598    23\n",
       "1  352120000004806    37\n",
       "2  352120000005123    21\n",
       "3  352120000006659    13\n",
       "4  352120000010106    19"
      ]
     },
     "execution_count": 8,
     "metadata": {},
     "output_type": "execute_result"
    }
   ],
   "source": [
    "data_time_cnt.head()"
   ]
  },
  {
   "cell_type": "code",
   "execution_count": 37,
   "metadata": {
    "collapsed": true
   },
   "outputs": [],
   "source": [
    "#写入交易次数\n",
    "if os.path.exists('/home/zhh/文档/阿里巴巴/data/7测试表合表'):\n",
    "    os.chdir('/home/zhh/文档/阿里巴巴/data/7测试表合表')\n",
    "else:\n",
    "    os.mkdir('/home/zhh/文档/阿里巴巴/data/7测试表合表')\n",
    "    os.chdir('/home/zhh/文档/阿里巴巴/data/7测试表合表')\n",
    "with open('交易次数.pickle','wb') as f1:\n",
    "    #data = pickle.load(f1)  \n",
    "    pickle.dump(data_time_cnt,f1)"
   ]
  },
  {
   "cell_type": "markdown",
   "metadata": {},
   "source": [
    "# 统计平均交易间隔"
   ]
  },
  {
   "cell_type": "code",
   "execution_count": 10,
   "metadata": {
    "collapsed": true
   },
   "outputs": [],
   "source": [
    "# 统计平均交易间隔\n",
    "data_time_label = data_time[['个人编码','交易时间']].drop_duplicates()\n",
    "data_time_label['交易时间']= pd.DatetimeIndex(pd.to_datetime(data_time_label['交易时间'])) #转换成时间格式"
   ]
  },
  {
   "cell_type": "code",
   "execution_count": 11,
   "metadata": {
    "collapsed": false
   },
   "outputs": [],
   "source": [
    "data_time_label.set_index('个人编码',inplace=True)"
   ]
  },
  {
   "cell_type": "code",
   "execution_count": 12,
   "metadata": {
    "collapsed": false
   },
   "outputs": [
    {
     "data": {
      "text/html": [
       "<div>\n",
       "<table border=\"1\" class=\"dataframe\">\n",
       "  <thead>\n",
       "    <tr style=\"text-align: right;\">\n",
       "      <th></th>\n",
       "      <th>交易时间</th>\n",
       "    </tr>\n",
       "    <tr>\n",
       "      <th>个人编码</th>\n",
       "      <th></th>\n",
       "    </tr>\n",
       "  </thead>\n",
       "  <tbody>\n",
       "    <tr>\n",
       "      <th>352120001207726</th>\n",
       "      <td>2016-07-01</td>\n",
       "    </tr>\n",
       "    <tr>\n",
       "      <th>352120000183777</th>\n",
       "      <td>2016-07-01</td>\n",
       "    </tr>\n",
       "    <tr>\n",
       "      <th>352120002857717</th>\n",
       "      <td>2016-06-20</td>\n",
       "    </tr>\n",
       "    <tr>\n",
       "      <th>352120001492069</th>\n",
       "      <td>2016-07-01</td>\n",
       "    </tr>\n",
       "    <tr>\n",
       "      <th>352120001574938</th>\n",
       "      <td>2016-07-01</td>\n",
       "    </tr>\n",
       "  </tbody>\n",
       "</table>\n",
       "</div>"
      ],
      "text/plain": [
       "                      交易时间\n",
       "个人编码                      \n",
       "352120001207726 2016-07-01\n",
       "352120000183777 2016-07-01\n",
       "352120002857717 2016-06-20\n",
       "352120001492069 2016-07-01\n",
       "352120001574938 2016-07-01"
      ]
     },
     "execution_count": 12,
     "metadata": {},
     "output_type": "execute_result"
    }
   ],
   "source": [
    "data_time_label.head()"
   ]
  },
  {
   "cell_type": "code",
   "execution_count": 81,
   "metadata": {
    "collapsed": false
   },
   "outputs": [],
   "source": [
    "#编写获取交易频率的次数\n",
    "def frequence(person_id,data_time_label):\n",
    "    temp = data_time_label.loc[[person_id]]['交易时间']  #取数\n",
    "    temp.dropna(inplace = True)\n",
    "    a = temp.diff()    #求相隔次数\n",
    "    max_day_delta = temp.iloc[-1] - temp.iloc[0]\n",
    "    if a.shape[0] !=1:\n",
    "        a.dropna(inplace=True)\n",
    "        a = a.dt.days #变成实数型\n",
    "        max_day_delta = max_day_delta.days\n",
    "        freq = max_day_delta/temp.shape[0]        \n",
    "        b =[[person_id,a.max(),a.mean(),a.median(),max_day_delta,freq ]]  #获取中位数或者平均值\n",
    "    else:\n",
    "        b=[[person_id,0,0,0,0,0]]\n",
    "    b = pd.DataFrame(b)\n",
    "    b.columns =['个人编码','交易间隔最大值','交易间隔平均值','交易间隔中位值','最大时间间隔','最大天数/次数']\n",
    "    return b"
   ]
  },
  {
   "cell_type": "code",
   "execution_count": 82,
   "metadata": {
    "collapsed": false
   },
   "outputs": [
    {
     "name": "stderr",
     "output_type": "stream",
     "text": [
      "/home/zhh/anaconda3/lib/python3.6/site-packages/pandas/core/series.py:2647: SettingWithCopyWarning: \n",
      "A value is trying to be set on a copy of a slice from a DataFrame\n",
      "\n",
      "See the caveats in the documentation: http://pandas.pydata.org/pandas-docs/stable/indexing.html#indexing-view-versus-copy\n",
      "  self._update_inplace(result)\n"
     ]
    },
    {
     "name": "stdout",
     "output_type": "stream",
     "text": [
      "CPU times: user 4min, sys: 44 ms, total: 4min\n",
      "Wall time: 4min 1s\n"
     ]
    }
   ],
   "source": [
    "%%time\n",
    "#获得交易频率的dataframe\n",
    "trade_f = None\n",
    "for i in data_time_label.index.unique():\n",
    "    try:\n",
    "        a = frequence(i,data_time_label)\n",
    "        trade_f = pd.concat([trade_f,a],axis=0)\n",
    "    except:\n",
    "        print(i)"
   ]
  },
  {
   "cell_type": "code",
   "execution_count": 83,
   "metadata": {
    "collapsed": true
   },
   "outputs": [],
   "source": [
    "#关联个人编码，带出标签\n",
    "trade_f_label = pd.merge(trade_f,data[['个人编码']],how='left').drop_duplicates()\n",
    "trade_f_label = trade_f_label.reset_index(drop=True)  #重置索引"
   ]
  },
  {
   "cell_type": "code",
   "execution_count": 85,
   "metadata": {
    "collapsed": false
   },
   "outputs": [
    {
     "data": {
      "text/html": [
       "<div>\n",
       "<table border=\"1\" class=\"dataframe\">\n",
       "  <thead>\n",
       "    <tr style=\"text-align: right;\">\n",
       "      <th></th>\n",
       "      <th>个人编码</th>\n",
       "      <th>交易间隔最大值</th>\n",
       "      <th>交易间隔平均值</th>\n",
       "      <th>交易间隔中位值</th>\n",
       "      <th>最大时间间隔</th>\n",
       "      <th>最大天数/次数</th>\n",
       "    </tr>\n",
       "  </thead>\n",
       "  <tbody>\n",
       "    <tr>\n",
       "      <th>0</th>\n",
       "      <td>352120001207726</td>\n",
       "      <td>28</td>\n",
       "      <td>1.670103</td>\n",
       "      <td>2.0</td>\n",
       "      <td>162</td>\n",
       "      <td>1.653061</td>\n",
       "    </tr>\n",
       "    <tr>\n",
       "      <th>1</th>\n",
       "      <td>352120000183777</td>\n",
       "      <td>28</td>\n",
       "      <td>2.382353</td>\n",
       "      <td>2.0</td>\n",
       "      <td>162</td>\n",
       "      <td>2.347826</td>\n",
       "    </tr>\n",
       "    <tr>\n",
       "      <th>2</th>\n",
       "      <td>352120002857717</td>\n",
       "      <td>46</td>\n",
       "      <td>9.055556</td>\n",
       "      <td>7.0</td>\n",
       "      <td>163</td>\n",
       "      <td>8.578947</td>\n",
       "    </tr>\n",
       "    <tr>\n",
       "      <th>3</th>\n",
       "      <td>352120001492069</td>\n",
       "      <td>35</td>\n",
       "      <td>6.230769</td>\n",
       "      <td>4.5</td>\n",
       "      <td>162</td>\n",
       "      <td>6.000000</td>\n",
       "    </tr>\n",
       "    <tr>\n",
       "      <th>4</th>\n",
       "      <td>352120001574938</td>\n",
       "      <td>44</td>\n",
       "      <td>4.818182</td>\n",
       "      <td>5.0</td>\n",
       "      <td>159</td>\n",
       "      <td>4.676471</td>\n",
       "    </tr>\n",
       "  </tbody>\n",
       "</table>\n",
       "</div>"
      ],
      "text/plain": [
       "              个人编码  交易间隔最大值   交易间隔平均值  交易间隔中位值  最大时间间隔   最大天数/次数\n",
       "0  352120001207726       28  1.670103      2.0     162  1.653061\n",
       "1  352120000183777       28  2.382353      2.0     162  2.347826\n",
       "2  352120002857717       46  9.055556      7.0     163  8.578947\n",
       "3  352120001492069       35  6.230769      4.5     162  6.000000\n",
       "4  352120001574938       44  4.818182      5.0     159  4.676471"
      ]
     },
     "execution_count": 85,
     "metadata": {},
     "output_type": "execute_result"
    }
   ],
   "source": [
    "trade_f_label.head()"
   ]
  },
  {
   "cell_type": "code",
   "execution_count": 86,
   "metadata": {
    "collapsed": false,
    "scrolled": true
   },
   "outputs": [
    {
     "name": "stderr",
     "output_type": "stream",
     "text": [
      "/home/zhh/anaconda3/lib/python3.6/site-packages/ipykernel/__main__.py:3: SettingWithCopyWarning: \n",
      "A value is trying to be set on a copy of a slice from a DataFrame.\n",
      "Try using .loc[row_indexer,col_indexer] = value instead\n",
      "\n",
      "See the caveats in the documentation: http://pandas.pydata.org/pandas-docs/stable/indexing.html#indexing-view-versus-copy\n",
      "  app.launch_new_instance()\n",
      "/home/zhh/anaconda3/lib/python3.6/site-packages/ipykernel/__main__.py:4: SettingWithCopyWarning: \n",
      "A value is trying to be set on a copy of a slice from a DataFrame.\n",
      "Try using .loc[row_indexer,col_indexer] = value instead\n",
      "\n",
      "See the caveats in the documentation: http://pandas.pydata.org/pandas-docs/stable/indexing.html#indexing-view-versus-copy\n"
     ]
    },
    {
     "data": {
      "text/html": [
       "<div>\n",
       "<table border=\"1\" class=\"dataframe\">\n",
       "  <thead>\n",
       "    <tr style=\"text-align: right;\">\n",
       "      <th></th>\n",
       "      <th>个人编码</th>\n",
       "      <th>交易间隔平均值</th>\n",
       "      <th>交易间隔最大值</th>\n",
       "    </tr>\n",
       "  </thead>\n",
       "  <tbody>\n",
       "    <tr>\n",
       "      <th>0</th>\n",
       "      <td>352120001207726</td>\n",
       "      <td>0.512891</td>\n",
       "      <td>3.332205</td>\n",
       "    </tr>\n",
       "    <tr>\n",
       "      <th>1</th>\n",
       "      <td>352120000183777</td>\n",
       "      <td>0.868093</td>\n",
       "      <td>3.332205</td>\n",
       "    </tr>\n",
       "    <tr>\n",
       "      <th>2</th>\n",
       "      <td>352120002857717</td>\n",
       "      <td>2.203380</td>\n",
       "      <td>3.828642</td>\n",
       "    </tr>\n",
       "    <tr>\n",
       "      <th>3</th>\n",
       "      <td>352120001492069</td>\n",
       "      <td>1.829501</td>\n",
       "      <td>3.555348</td>\n",
       "    </tr>\n",
       "    <tr>\n",
       "      <th>4</th>\n",
       "      <td>352120001574938</td>\n",
       "      <td>1.572399</td>\n",
       "      <td>3.784190</td>\n",
       "    </tr>\n",
       "    <tr>\n",
       "      <th>5</th>\n",
       "      <td>352120001114553</td>\n",
       "      <td>1.280937</td>\n",
       "      <td>3.332205</td>\n",
       "    </tr>\n",
       "    <tr>\n",
       "      <th>6</th>\n",
       "      <td>352121000142166</td>\n",
       "      <td>2.257850</td>\n",
       "      <td>3.433988</td>\n",
       "    </tr>\n",
       "    <tr>\n",
       "      <th>7</th>\n",
       "      <td>352120000447733</td>\n",
       "      <td>2.472004</td>\n",
       "      <td>2.639058</td>\n",
       "    </tr>\n",
       "    <tr>\n",
       "      <th>8</th>\n",
       "      <td>352120000515129</td>\n",
       "      <td>2.510225</td>\n",
       "      <td>2.833214</td>\n",
       "    </tr>\n",
       "    <tr>\n",
       "      <th>9</th>\n",
       "      <td>352121000391830</td>\n",
       "      <td>2.140067</td>\n",
       "      <td>3.433988</td>\n",
       "    </tr>\n",
       "    <tr>\n",
       "      <th>10</th>\n",
       "      <td>352120002630279</td>\n",
       "      <td>1.475092</td>\n",
       "      <td>3.295837</td>\n",
       "    </tr>\n",
       "    <tr>\n",
       "      <th>11</th>\n",
       "      <td>352120000826476</td>\n",
       "      <td>1.208314</td>\n",
       "      <td>3.367296</td>\n",
       "    </tr>\n",
       "    <tr>\n",
       "      <th>12</th>\n",
       "      <td>352120002412049</td>\n",
       "      <td>0.498636</td>\n",
       "      <td>2.995733</td>\n",
       "    </tr>\n",
       "    <tr>\n",
       "      <th>13</th>\n",
       "      <td>352120001030833</td>\n",
       "      <td>0.777344</td>\n",
       "      <td>3.401198</td>\n",
       "    </tr>\n",
       "    <tr>\n",
       "      <th>14</th>\n",
       "      <td>352120002100609</td>\n",
       "      <td>2.590268</td>\n",
       "      <td>3.737670</td>\n",
       "    </tr>\n",
       "    <tr>\n",
       "      <th>15</th>\n",
       "      <td>352120001344900</td>\n",
       "      <td>2.321162</td>\n",
       "      <td>3.663562</td>\n",
       "    </tr>\n",
       "    <tr>\n",
       "      <th>16</th>\n",
       "      <td>352120002497584</td>\n",
       "      <td>1.686401</td>\n",
       "      <td>3.401198</td>\n",
       "    </tr>\n",
       "    <tr>\n",
       "      <th>17</th>\n",
       "      <td>352120003314024</td>\n",
       "      <td>1.945912</td>\n",
       "      <td>2.708051</td>\n",
       "    </tr>\n",
       "    <tr>\n",
       "      <th>18</th>\n",
       "      <td>352120001005054</td>\n",
       "      <td>2.478477</td>\n",
       "      <td>2.639058</td>\n",
       "    </tr>\n",
       "    <tr>\n",
       "      <th>19</th>\n",
       "      <td>352120002392253</td>\n",
       "      <td>1.584899</td>\n",
       "      <td>3.295837</td>\n",
       "    </tr>\n",
       "    <tr>\n",
       "      <th>20</th>\n",
       "      <td>352120002219747</td>\n",
       "      <td>1.068402</td>\n",
       "      <td>3.258097</td>\n",
       "    </tr>\n",
       "    <tr>\n",
       "      <th>21</th>\n",
       "      <td>352121003883471</td>\n",
       "      <td>0.770113</td>\n",
       "      <td>3.258097</td>\n",
       "    </tr>\n",
       "    <tr>\n",
       "      <th>22</th>\n",
       "      <td>352120000167360</td>\n",
       "      <td>1.566090</td>\n",
       "      <td>3.555348</td>\n",
       "    </tr>\n",
       "    <tr>\n",
       "      <th>23</th>\n",
       "      <td>352121005318886</td>\n",
       "      <td>0.790949</td>\n",
       "      <td>3.401198</td>\n",
       "    </tr>\n",
       "    <tr>\n",
       "      <th>24</th>\n",
       "      <td>352120001087263</td>\n",
       "      <td>2.241962</td>\n",
       "      <td>3.737670</td>\n",
       "    </tr>\n",
       "    <tr>\n",
       "      <th>25</th>\n",
       "      <td>352120000342646</td>\n",
       "      <td>1.823309</td>\n",
       "      <td>3.951244</td>\n",
       "    </tr>\n",
       "    <tr>\n",
       "      <th>26</th>\n",
       "      <td>352120001006849</td>\n",
       "      <td>0.621694</td>\n",
       "      <td>3.332205</td>\n",
       "    </tr>\n",
       "    <tr>\n",
       "      <th>27</th>\n",
       "      <td>352120001122368</td>\n",
       "      <td>1.258958</td>\n",
       "      <td>3.663562</td>\n",
       "    </tr>\n",
       "    <tr>\n",
       "      <th>28</th>\n",
       "      <td>352120003352946</td>\n",
       "      <td>2.105418</td>\n",
       "      <td>2.639058</td>\n",
       "    </tr>\n",
       "    <tr>\n",
       "      <th>29</th>\n",
       "      <td>352120001264174</td>\n",
       "      <td>1.985917</td>\n",
       "      <td>2.708051</td>\n",
       "    </tr>\n",
       "    <tr>\n",
       "      <th>...</th>\n",
       "      <td>...</td>\n",
       "      <td>...</td>\n",
       "      <td>...</td>\n",
       "    </tr>\n",
       "    <tr>\n",
       "      <th>3970</th>\n",
       "      <td>352120002833651</td>\n",
       "      <td>3.465736</td>\n",
       "      <td>3.465736</td>\n",
       "    </tr>\n",
       "    <tr>\n",
       "      <th>3971</th>\n",
       "      <td>352120003358201</td>\n",
       "      <td>2.360855</td>\n",
       "      <td>3.178054</td>\n",
       "    </tr>\n",
       "    <tr>\n",
       "      <th>3972</th>\n",
       "      <td>352128000106784</td>\n",
       "      <td>4.025352</td>\n",
       "      <td>4.025352</td>\n",
       "    </tr>\n",
       "    <tr>\n",
       "      <th>3973</th>\n",
       "      <td>352120010567718</td>\n",
       "      <td>2.484907</td>\n",
       "      <td>2.944440</td>\n",
       "    </tr>\n",
       "    <tr>\n",
       "      <th>3974</th>\n",
       "      <td>352120003366567</td>\n",
       "      <td>3.555348</td>\n",
       "      <td>4.025352</td>\n",
       "    </tr>\n",
       "    <tr>\n",
       "      <th>3975</th>\n",
       "      <td>352121208999846</td>\n",
       "      <td>2.772589</td>\n",
       "      <td>2.890372</td>\n",
       "    </tr>\n",
       "    <tr>\n",
       "      <th>3976</th>\n",
       "      <td>352120010533698</td>\n",
       "      <td>0.810935</td>\n",
       "      <td>1.609440</td>\n",
       "    </tr>\n",
       "    <tr>\n",
       "      <th>3977</th>\n",
       "      <td>352121000773538</td>\n",
       "      <td>0.737604</td>\n",
       "      <td>2.302586</td>\n",
       "    </tr>\n",
       "    <tr>\n",
       "      <th>3978</th>\n",
       "      <td>352120003245187</td>\n",
       "      <td>-11.512925</td>\n",
       "      <td>-11.512925</td>\n",
       "    </tr>\n",
       "    <tr>\n",
       "      <th>3979</th>\n",
       "      <td>352120002099525</td>\n",
       "      <td>1.438482</td>\n",
       "      <td>2.772589</td>\n",
       "    </tr>\n",
       "    <tr>\n",
       "      <th>3980</th>\n",
       "      <td>352120002538519</td>\n",
       "      <td>2.215575</td>\n",
       "      <td>2.708051</td>\n",
       "    </tr>\n",
       "    <tr>\n",
       "      <th>3981</th>\n",
       "      <td>352121005135263</td>\n",
       "      <td>1.808290</td>\n",
       "      <td>3.465736</td>\n",
       "    </tr>\n",
       "    <tr>\n",
       "      <th>3982</th>\n",
       "      <td>352120003360768</td>\n",
       "      <td>2.730030</td>\n",
       "      <td>3.258097</td>\n",
       "    </tr>\n",
       "    <tr>\n",
       "      <th>3983</th>\n",
       "      <td>352120001767132</td>\n",
       "      <td>2.128233</td>\n",
       "      <td>2.772589</td>\n",
       "    </tr>\n",
       "    <tr>\n",
       "      <th>3984</th>\n",
       "      <td>352120010555968</td>\n",
       "      <td>1.871804</td>\n",
       "      <td>2.890372</td>\n",
       "    </tr>\n",
       "    <tr>\n",
       "      <th>3985</th>\n",
       "      <td>352120003597030</td>\n",
       "      <td>3.555348</td>\n",
       "      <td>3.555348</td>\n",
       "    </tr>\n",
       "    <tr>\n",
       "      <th>3986</th>\n",
       "      <td>352120000515095</td>\n",
       "      <td>2.995733</td>\n",
       "      <td>2.995733</td>\n",
       "    </tr>\n",
       "    <tr>\n",
       "      <th>3987</th>\n",
       "      <td>352120000631859</td>\n",
       "      <td>-11.512925</td>\n",
       "      <td>-11.512925</td>\n",
       "    </tr>\n",
       "    <tr>\n",
       "      <th>3988</th>\n",
       "      <td>352121204754954</td>\n",
       "      <td>0.331364</td>\n",
       "      <td>1.945912</td>\n",
       "    </tr>\n",
       "    <tr>\n",
       "      <th>3989</th>\n",
       "      <td>352120000892080</td>\n",
       "      <td>-11.512925</td>\n",
       "      <td>-11.512925</td>\n",
       "    </tr>\n",
       "    <tr>\n",
       "      <th>3990</th>\n",
       "      <td>352121000303613</td>\n",
       "      <td>2.833214</td>\n",
       "      <td>3.332205</td>\n",
       "    </tr>\n",
       "    <tr>\n",
       "      <th>3991</th>\n",
       "      <td>352120000938446</td>\n",
       "      <td>3.465736</td>\n",
       "      <td>3.465736</td>\n",
       "    </tr>\n",
       "    <tr>\n",
       "      <th>3992</th>\n",
       "      <td>352120000274933</td>\n",
       "      <td>-11.512925</td>\n",
       "      <td>-11.512925</td>\n",
       "    </tr>\n",
       "    <tr>\n",
       "      <th>3993</th>\n",
       "      <td>352120003379759</td>\n",
       "      <td>-11.512925</td>\n",
       "      <td>-11.512925</td>\n",
       "    </tr>\n",
       "    <tr>\n",
       "      <th>3994</th>\n",
       "      <td>352120001890970</td>\n",
       "      <td>0.780163</td>\n",
       "      <td>1.945912</td>\n",
       "    </tr>\n",
       "    <tr>\n",
       "      <th>3995</th>\n",
       "      <td>352120000952525</td>\n",
       "      <td>1.791761</td>\n",
       "      <td>1.791761</td>\n",
       "    </tr>\n",
       "    <tr>\n",
       "      <th>3996</th>\n",
       "      <td>352120002051164</td>\n",
       "      <td>-11.512925</td>\n",
       "      <td>-11.512925</td>\n",
       "    </tr>\n",
       "    <tr>\n",
       "      <th>3997</th>\n",
       "      <td>352120003292440</td>\n",
       "      <td>-11.512925</td>\n",
       "      <td>-11.512925</td>\n",
       "    </tr>\n",
       "    <tr>\n",
       "      <th>3998</th>\n",
       "      <td>352120003517830</td>\n",
       "      <td>-11.512925</td>\n",
       "      <td>-11.512925</td>\n",
       "    </tr>\n",
       "    <tr>\n",
       "      <th>3999</th>\n",
       "      <td>352121202891353</td>\n",
       "      <td>-11.512925</td>\n",
       "      <td>-11.512925</td>\n",
       "    </tr>\n",
       "  </tbody>\n",
       "</table>\n",
       "<p>4000 rows × 3 columns</p>\n",
       "</div>"
      ],
      "text/plain": [
       "                 个人编码    交易间隔平均值    交易间隔最大值\n",
       "0     352120001207726   0.512891   3.332205\n",
       "1     352120000183777   0.868093   3.332205\n",
       "2     352120002857717   2.203380   3.828642\n",
       "3     352120001492069   1.829501   3.555348\n",
       "4     352120001574938   1.572399   3.784190\n",
       "5     352120001114553   1.280937   3.332205\n",
       "6     352121000142166   2.257850   3.433988\n",
       "7     352120000447733   2.472004   2.639058\n",
       "8     352120000515129   2.510225   2.833214\n",
       "9     352121000391830   2.140067   3.433988\n",
       "10    352120002630279   1.475092   3.295837\n",
       "11    352120000826476   1.208314   3.367296\n",
       "12    352120002412049   0.498636   2.995733\n",
       "13    352120001030833   0.777344   3.401198\n",
       "14    352120002100609   2.590268   3.737670\n",
       "15    352120001344900   2.321162   3.663562\n",
       "16    352120002497584   1.686401   3.401198\n",
       "17    352120003314024   1.945912   2.708051\n",
       "18    352120001005054   2.478477   2.639058\n",
       "19    352120002392253   1.584899   3.295837\n",
       "20    352120002219747   1.068402   3.258097\n",
       "21    352121003883471   0.770113   3.258097\n",
       "22    352120000167360   1.566090   3.555348\n",
       "23    352121005318886   0.790949   3.401198\n",
       "24    352120001087263   2.241962   3.737670\n",
       "25    352120000342646   1.823309   3.951244\n",
       "26    352120001006849   0.621694   3.332205\n",
       "27    352120001122368   1.258958   3.663562\n",
       "28    352120003352946   2.105418   2.639058\n",
       "29    352120001264174   1.985917   2.708051\n",
       "...               ...        ...        ...\n",
       "3970  352120002833651   3.465736   3.465736\n",
       "3971  352120003358201   2.360855   3.178054\n",
       "3972  352128000106784   4.025352   4.025352\n",
       "3973  352120010567718   2.484907   2.944440\n",
       "3974  352120003366567   3.555348   4.025352\n",
       "3975  352121208999846   2.772589   2.890372\n",
       "3976  352120010533698   0.810935   1.609440\n",
       "3977  352121000773538   0.737604   2.302586\n",
       "3978  352120003245187 -11.512925 -11.512925\n",
       "3979  352120002099525   1.438482   2.772589\n",
       "3980  352120002538519   2.215575   2.708051\n",
       "3981  352121005135263   1.808290   3.465736\n",
       "3982  352120003360768   2.730030   3.258097\n",
       "3983  352120001767132   2.128233   2.772589\n",
       "3984  352120010555968   1.871804   2.890372\n",
       "3985  352120003597030   3.555348   3.555348\n",
       "3986  352120000515095   2.995733   2.995733\n",
       "3987  352120000631859 -11.512925 -11.512925\n",
       "3988  352121204754954   0.331364   1.945912\n",
       "3989  352120000892080 -11.512925 -11.512925\n",
       "3990  352121000303613   2.833214   3.332205\n",
       "3991  352120000938446   3.465736   3.465736\n",
       "3992  352120000274933 -11.512925 -11.512925\n",
       "3993  352120003379759 -11.512925 -11.512925\n",
       "3994  352120001890970   0.780163   1.945912\n",
       "3995  352120000952525   1.791761   1.791761\n",
       "3996  352120002051164 -11.512925 -11.512925\n",
       "3997  352120003292440 -11.512925 -11.512925\n",
       "3998  352120003517830 -11.512925 -11.512925\n",
       "3999  352121202891353 -11.512925 -11.512925\n",
       "\n",
       "[4000 rows x 3 columns]"
      ]
     },
     "execution_count": 86,
     "metadata": {},
     "output_type": "execute_result"
    }
   ],
   "source": [
    "# 转换交易平均值和交易最大最大间隔\n",
    "trade_f_label_new = trade_f_label[['个人编码','交易间隔平均值','交易间隔最大值']]\n",
    "trade_f_label_new['交易间隔平均值'] = np.log(trade_f_label_new['交易间隔平均值']+0.00001)\n",
    "trade_f_label_new['交易间隔最大值'] = np.log(trade_f_label_new['交易间隔最大值']+0.00001)\n"
   ]
  },
  {
   "cell_type": "code",
   "execution_count": 87,
   "metadata": {
    "collapsed": false
   },
   "outputs": [
    {
     "data": {
      "text/html": [
       "<div>\n",
       "<table border=\"1\" class=\"dataframe\">\n",
       "  <thead>\n",
       "    <tr style=\"text-align: right;\">\n",
       "      <th></th>\n",
       "      <th>个人编码</th>\n",
       "      <th>交易间隔平均值</th>\n",
       "      <th>交易间隔最大值</th>\n",
       "    </tr>\n",
       "  </thead>\n",
       "  <tbody>\n",
       "    <tr>\n",
       "      <th>0</th>\n",
       "      <td>352120001207726</td>\n",
       "      <td>0.512891</td>\n",
       "      <td>3.332205</td>\n",
       "    </tr>\n",
       "    <tr>\n",
       "      <th>1</th>\n",
       "      <td>352120000183777</td>\n",
       "      <td>0.868093</td>\n",
       "      <td>3.332205</td>\n",
       "    </tr>\n",
       "    <tr>\n",
       "      <th>2</th>\n",
       "      <td>352120002857717</td>\n",
       "      <td>2.203380</td>\n",
       "      <td>3.828642</td>\n",
       "    </tr>\n",
       "    <tr>\n",
       "      <th>3</th>\n",
       "      <td>352120001492069</td>\n",
       "      <td>1.829501</td>\n",
       "      <td>3.555348</td>\n",
       "    </tr>\n",
       "    <tr>\n",
       "      <th>4</th>\n",
       "      <td>352120001574938</td>\n",
       "      <td>1.572399</td>\n",
       "      <td>3.784190</td>\n",
       "    </tr>\n",
       "  </tbody>\n",
       "</table>\n",
       "</div>"
      ],
      "text/plain": [
       "              个人编码   交易间隔平均值   交易间隔最大值\n",
       "0  352120001207726  0.512891  3.332205\n",
       "1  352120000183777  0.868093  3.332205\n",
       "2  352120002857717  2.203380  3.828642\n",
       "3  352120001492069  1.829501  3.555348\n",
       "4  352120001574938  1.572399  3.784190"
      ]
     },
     "execution_count": 87,
     "metadata": {},
     "output_type": "execute_result"
    }
   ],
   "source": [
    "trade_f_label_new.head()"
   ]
  },
  {
   "cell_type": "code",
   "execution_count": 88,
   "metadata": {
    "collapsed": true
   },
   "outputs": [],
   "source": [
    "#写入交易次数\n",
    "if os.path.exists('/home/zhh/文档/阿里巴巴/data/7测试表合表'):\n",
    "    os.chdir('/home/zhh/文档/阿里巴巴/data/7测试表合表')\n",
    "else:\n",
    "    os.mkdir('/home/zhh/文档/阿里巴巴/data/7测试表合表')\n",
    "    os.chdir('/home/zhh/文档/阿里巴巴/data/7测试表合表')\n",
    "with open('交易间隔.pickle','wb') as f1:\n",
    "    #data = pickle.load(f1)  \n",
    "    pickle.dump(trade_f_label_new,f1)"
   ]
  },
  {
   "cell_type": "markdown",
   "metadata": {},
   "source": [
    "# 研究时间索引对天数的影响"
   ]
  },
  {
   "cell_type": "code",
   "execution_count": 14,
   "metadata": {
    "collapsed": true
   },
   "outputs": [],
   "source": [
    "data_time_label1 = data_time_label.copy()\n",
    "data_time_label1['一个月的第几天'] =data_time_label['交易时间'].map(lambda x:x.day)\n",
    "data_time_label1['一周星期几'] =data_time_label['交易时间'].map(lambda x:x.weekday_name)\n",
    "data_time_label1.reset_index(inplace =True)"
   ]
  },
  {
   "cell_type": "code",
   "execution_count": 90,
   "metadata": {
    "collapsed": true
   },
   "outputs": [],
   "source": [
    "#****************天数**********************************\n",
    "lam_func = lambda x: x.mode()[0] if x.mode().tolist()!=[] else random.choice(x.tolist())\n",
    "#a = data_time_label1.groupby('个人编码')['一个月的第几天'].apply(lambda x:x.mode()[0] if x.mode().tolist() !=[] else random.choice(x.iloc[0]))\n",
    "day_name = data_time_label1.groupby('个人编码')['一个月的第几天'].apply(lam_func)\n",
    "day_name = pd.DataFrame(day_name)\n",
    "day_name.reset_index(inplace=True)\n",
    "day_name.drop_duplicates(inplace=True)\n",
    "day_name.reset_index(inplace=True,drop = True)"
   ]
  },
  {
   "cell_type": "code",
   "execution_count": 93,
   "metadata": {
    "collapsed": false
   },
   "outputs": [
    {
     "data": {
      "text/html": [
       "<div>\n",
       "<table border=\"1\" class=\"dataframe\">\n",
       "  <thead>\n",
       "    <tr style=\"text-align: right;\">\n",
       "      <th></th>\n",
       "      <th>个人编码</th>\n",
       "      <th>一个月的第几天</th>\n",
       "      <th>上中下旬</th>\n",
       "    </tr>\n",
       "  </thead>\n",
       "  <tbody>\n",
       "    <tr>\n",
       "      <th>0</th>\n",
       "      <td>352120000001598</td>\n",
       "      <td>21.0</td>\n",
       "      <td>3</td>\n",
       "    </tr>\n",
       "    <tr>\n",
       "      <th>1</th>\n",
       "      <td>352120000004806</td>\n",
       "      <td>24.0</td>\n",
       "      <td>3</td>\n",
       "    </tr>\n",
       "    <tr>\n",
       "      <th>2</th>\n",
       "      <td>352120000005123</td>\n",
       "      <td>2.0</td>\n",
       "      <td>1</td>\n",
       "    </tr>\n",
       "    <tr>\n",
       "      <th>3</th>\n",
       "      <td>352120000006659</td>\n",
       "      <td>26.0</td>\n",
       "      <td>3</td>\n",
       "    </tr>\n",
       "    <tr>\n",
       "      <th>4</th>\n",
       "      <td>352120000010106</td>\n",
       "      <td>12.0</td>\n",
       "      <td>2</td>\n",
       "    </tr>\n",
       "  </tbody>\n",
       "</table>\n",
       "</div>"
      ],
      "text/plain": [
       "              个人编码  一个月的第几天  上中下旬\n",
       "0  352120000001598     21.0     3\n",
       "1  352120000004806     24.0     3\n",
       "2  352120000005123      2.0     1\n",
       "3  352120000006659     26.0     3\n",
       "4  352120000010106     12.0     2"
      ]
     },
     "execution_count": 93,
     "metadata": {},
     "output_type": "execute_result"
    }
   ],
   "source": [
    "def split_days(days):\n",
    "    if days<=10:\n",
    "        days = 1  # 上旬\n",
    "    elif days> 10 and days<=20: #中旬\n",
    "        days = 2\n",
    "    else:\n",
    "        days = 3   #中旬\n",
    "    return days\n",
    "\n",
    "day_name['上中下旬'] = day_name['一个月的第几天'].map(split_days)\n",
    "day_name.head()"
   ]
  },
  {
   "cell_type": "code",
   "execution_count": 94,
   "metadata": {
    "collapsed": true
   },
   "outputs": [],
   "source": [
    "# #****************星期几**********************************\n",
    "# lam_func = lambda x: x.mode()[0] if x.mode().tolist()!=[] else random.choice(x.tolist())\n",
    "# #a = data_time_label1.groupby('个人编码')['一个月的第几天'].apply(lambda x:x.mode()[0] if x.mode().tolist() !=[] else random.choice(x.iloc[0]))\n",
    "# week_name = data_time_label1.groupby('个人编码')['一周星期几'].apply(lam_func)\n",
    "# week_name = pd.DataFrame(week_name)\n",
    "# week_name.reset_index(inplace=True)\n",
    "# week_name.drop_duplicates(inplace=True)\n",
    "# week_name.reset_index(inplace=True,drop = True)"
   ]
  },
  {
   "cell_type": "code",
   "execution_count": 16,
   "metadata": {
    "collapsed": false
   },
   "outputs": [],
   "source": [
    "data_time_label2 = data_time_label1[['个人编码','一周星期几','交易时间']].drop_duplicates()\n",
    "data_time_label2 = pd.get_dummies(data_time_label2,columns=['一周星期几'])\n",
    "weekday_name = []\n",
    "for i in data_time_label2.columns:\n",
    "    if \"星期\" in i:\n",
    "        weekday_name.append(i)\n",
    "data_time_label2 = data_time_label2.groupby(\"个人编码\")[weekday_name].sum()\n",
    "data_time_label2.reset_index(inplace=True)"
   ]
  },
  {
   "cell_type": "code",
   "execution_count": 17,
   "metadata": {
    "collapsed": false
   },
   "outputs": [
    {
     "data": {
      "text/html": [
       "<div>\n",
       "<table border=\"1\" class=\"dataframe\">\n",
       "  <thead>\n",
       "    <tr style=\"text-align: right;\">\n",
       "      <th></th>\n",
       "      <th>个人编码</th>\n",
       "      <th>一周星期几_Friday</th>\n",
       "      <th>一周星期几_Monday</th>\n",
       "      <th>一周星期几_Saturday</th>\n",
       "      <th>一周星期几_Sunday</th>\n",
       "      <th>一周星期几_Thursday</th>\n",
       "      <th>一周星期几_Tuesday</th>\n",
       "      <th>一周星期几_Wednesday</th>\n",
       "    </tr>\n",
       "  </thead>\n",
       "  <tbody>\n",
       "    <tr>\n",
       "      <th>0</th>\n",
       "      <td>352120000001598</td>\n",
       "      <td>3</td>\n",
       "      <td>3</td>\n",
       "      <td>2</td>\n",
       "      <td>1</td>\n",
       "      <td>4</td>\n",
       "      <td>5</td>\n",
       "      <td>5</td>\n",
       "    </tr>\n",
       "    <tr>\n",
       "      <th>1</th>\n",
       "      <td>352120000004806</td>\n",
       "      <td>4</td>\n",
       "      <td>9</td>\n",
       "      <td>1</td>\n",
       "      <td>0</td>\n",
       "      <td>9</td>\n",
       "      <td>8</td>\n",
       "      <td>6</td>\n",
       "    </tr>\n",
       "    <tr>\n",
       "      <th>2</th>\n",
       "      <td>352120000005123</td>\n",
       "      <td>12</td>\n",
       "      <td>6</td>\n",
       "      <td>1</td>\n",
       "      <td>0</td>\n",
       "      <td>1</td>\n",
       "      <td>0</td>\n",
       "      <td>1</td>\n",
       "    </tr>\n",
       "    <tr>\n",
       "      <th>3</th>\n",
       "      <td>352120000006659</td>\n",
       "      <td>1</td>\n",
       "      <td>3</td>\n",
       "      <td>0</td>\n",
       "      <td>0</td>\n",
       "      <td>2</td>\n",
       "      <td>5</td>\n",
       "      <td>2</td>\n",
       "    </tr>\n",
       "    <tr>\n",
       "      <th>4</th>\n",
       "      <td>352120000010106</td>\n",
       "      <td>4</td>\n",
       "      <td>4</td>\n",
       "      <td>2</td>\n",
       "      <td>4</td>\n",
       "      <td>2</td>\n",
       "      <td>0</td>\n",
       "      <td>3</td>\n",
       "    </tr>\n",
       "  </tbody>\n",
       "</table>\n",
       "</div>"
      ],
      "text/plain": [
       "              个人编码  一周星期几_Friday  一周星期几_Monday  一周星期几_Saturday  一周星期几_Sunday  \\\n",
       "0  352120000001598             3             3               2             1   \n",
       "1  352120000004806             4             9               1             0   \n",
       "2  352120000005123            12             6               1             0   \n",
       "3  352120000006659             1             3               0             0   \n",
       "4  352120000010106             4             4               2             4   \n",
       "\n",
       "   一周星期几_Thursday  一周星期几_Tuesday  一周星期几_Wednesday  \n",
       "0               4              5                5  \n",
       "1               9              8                6  \n",
       "2               1              0                1  \n",
       "3               2              5                2  \n",
       "4               2              0                3  "
      ]
     },
     "execution_count": 17,
     "metadata": {},
     "output_type": "execute_result"
    }
   ],
   "source": [
    "data_time_label2.head()"
   ]
  },
  {
   "cell_type": "code",
   "execution_count": 18,
   "metadata": {
    "collapsed": true
   },
   "outputs": [],
   "source": [
    "data_time_label2.to_pickle('/home/zhh/文档/阿里巴巴/data/7测试表合表/新周表.pickle')"
   ]
  },
  {
   "cell_type": "code",
   "execution_count": 96,
   "metadata": {
    "collapsed": true
   },
   "outputs": [],
   "source": [
    "# if os.path.exists('/home/zhh/文档/阿里巴巴/data/7测试表合表'):\n",
    "#     os.chdir('/home/zhh/文档/阿里巴巴/data/7测试表合表')\n",
    "# else:\n",
    "#     os.mkdir('/home/zhh/文档/阿里巴巴/data/7测试表合表')\n",
    "#     os.chdir('/home/zhh/文档/阿里巴巴/data/7测试表合表')\n",
    "# with open('天索引.pickle','wb') as f1:\n",
    "#     #data = pickle.load(f1)  \n",
    "#     pickle.dump(day_name,f1)\n",
    "    \n",
    "# with open('周索引.pickle','wb') as f1:\n",
    "#     #data = pickle.load(f1)  \n",
    "#     pickle.dump(week_name,f1)"
   ]
  },
  {
   "cell_type": "markdown",
   "metadata": {},
   "source": [
    "# 出院病种"
   ]
  },
  {
   "cell_type": "code",
   "execution_count": 97,
   "metadata": {
    "collapsed": true
   },
   "outputs": [],
   "source": [
    "\n",
    "def convert_diease_name(name):\n",
    "    diease_types = []\n",
    "    \n",
    "    #1挂号\n",
    "    if name =='挂号':\n",
    "        guahao =1\n",
    "    else:\n",
    "        guahao =0\n",
    "        \n",
    "    #2空值\n",
    "    if name =='空值':\n",
    "        kongzhi = 1\n",
    "    else:\n",
    "        kongzhi = 0\n",
    "    \n",
    "    #3肾病\n",
    "    if any(word in name for word in ['肾','透析','蛋白尿','尿毒']):\n",
    "        shenbing = 1\n",
    "    else:\n",
    "        shenbing =0\n",
    "    \n",
    "    #4门特\n",
    "    if '门特' in name:\n",
    "        mente = 1\n",
    "    else:\n",
    "        mente =0\n",
    "    \n",
    "    #5心血管病\n",
    "    if  any(word in name for word in ['心脏','冠心','血管','粥样','动脉','粘稠'\\\n",
    "                                     ,'脂','血糖','心肌']):\n",
    "        xinxueguan = 1\n",
    "    else:\n",
    "        xinxueguan = 0\n",
    "        \n",
    "    #6脑血管病\n",
    "    if any(word in name for word in ['癫痫','偏瘫','脑','中风']):\n",
    "        naoxueguan = 1\n",
    "    else:\n",
    "        naoxueguan = 0\n",
    "        \n",
    "    #7癌症\n",
    "    if any(word in name for word in ['癌','肿瘤','放疗','化疗'\\\n",
    "                                     ,'放化疗','白血病','Ca','ca','cancer','白血病']):\n",
    "        aizheng = 1\n",
    "    else:\n",
    "        aizheng = 0\n",
    "        \n",
    "    #8肺病\n",
    "    if any(word in name for word in ['肺','结核']):\n",
    "        feibing = 1\n",
    "    else:\n",
    "        feibing = 0\n",
    "    \n",
    "    #9糖尿病\n",
    "    if any(word in name for word in ['糖尿','胰岛素']):\n",
    "        tangniaobing = 1\n",
    "    else:\n",
    "        tangniaobing = 0\n",
    "    \n",
    "     #10神经病\n",
    "    if any(word in name for word in ['神经']):\n",
    "        shenjingbing = 1\n",
    "    else:\n",
    "        shenjingbing = 0\n",
    "        \n",
    "    #11精神病\n",
    "    if  any(word in name for word in ['精神']):\n",
    "        jinshenbing = 1\n",
    "    else:\n",
    "        jinshenbing = 0\n",
    "    \n",
    "    #12高血压\n",
    "    if any(word in name for word in ['高血压']):\n",
    "        gaoxueya = 1\n",
    "    else:\n",
    "        gaoxueya = 0\n",
    "    \n",
    "    \n",
    "    #13病变\n",
    "    if '病变' in name:\n",
    "        bingbian = 1\n",
    "    else:\n",
    "         bingbian = 0 \n",
    "            \n",
    "    \n",
    "    #14偏瘫\n",
    "    if any(word in name for word in ['偏瘫']):\n",
    "        piantan = 1\n",
    "    else:\n",
    "        piantan = 0 \n",
    "    \n",
    "    #心脏\n",
    "    if any(word in name for word in ['心脏','冠心','肺心']):\n",
    "        xinzangbing = 1\n",
    "    else:\n",
    "        xinzangbing = 0\n",
    "   \n",
    "    \n",
    "     #肺心病\n",
    "    if any(word in name for word in ['肺心']):\n",
    "        feixinbing = 1\n",
    "    else:\n",
    "        feixinbing = 0\n",
    "        \n",
    "    #肾性\n",
    "    if any(word in name for word in ['肾性']):\n",
    "        shenxin = 1\n",
    "    else:\n",
    "        shenxin = 0\n",
    "        \n",
    "    #合并\n",
    "    if any(word in name for word in ['合并']):\n",
    "        hebing = 1\n",
    "    else:\n",
    "        hebing = 0\n",
    "        \n",
    "    #肾病1\n",
    "    if any(word in name for word in ['肾病']):\n",
    "        shenbing1 = 1\n",
    "    else:\n",
    "        shenbing1 =0\n",
    "    \n",
    "    \n",
    "    #15其他\n",
    "    qita_list =['挂号','空值','肾','透析','蛋白尿','尿毒','门特'\\\n",
    "               ,'心脏','冠心','血管','粥样','动脉','粘稠','脂','血糖'\\\n",
    "               ,'癫痫','偏瘫','脑','中风','癌','肿瘤','放疗','化疗'\\\n",
    "                ,'放化疗','白血病','Ca','ca','cancer','白血病','肺','结核',\\\n",
    "               '糖尿','胰岛素','神经','精神','高血压','偏瘫','心脏','冠心','肺心','心肌','肾性','合并','肾病']\n",
    "    \n",
    "    if all(word not in i for word in qita_list):\n",
    "        qita = 1\n",
    "    else:\n",
    "        qita =0\n",
    "        \n",
    "    diease_types.append([guahao,kongzhi,shenbing, mente,xinxueguan,naoxueguan,\\\n",
    "                         aizheng,feibing,tangniaobing,shenjingbing,jinshenbing,gaoxueya,\\\n",
    "                       bingbian,piantan,xinzangbing,feixinbing,shenxin,hebing,shenbing1,qita])\n",
    "\n",
    "    return diease_types"
   ]
  },
  {
   "cell_type": "code",
   "execution_count": 99,
   "metadata": {
    "collapsed": true
   },
   "outputs": [],
   "source": [
    "# 提取出院病种名称\n",
    "diease_name = data[['个人编码','出院诊断病种名称']].drop_duplicates()\n",
    "#将空值类命名为空值类\n",
    "diease_name['出院诊断病种名称'] = diease_name['出院诊断病种名称'].fillna('空值')"
   ]
  },
  {
   "cell_type": "code",
   "execution_count": 100,
   "metadata": {
    "collapsed": true
   },
   "outputs": [],
   "source": [
    "#生成不同分类的病种\n",
    "diease_columns =[['挂号','空值','肾病','门特','心血管病','脑血管病'\\\n",
    "              ,'癌症','肺病','糖尿病','神经病','精神病','高血压','病变','偏瘫','心脏病','肺心病','肾性','合并','肾病1','其他']]\n",
    "\n",
    "for i in diease_name['出院诊断病种名称']:\n",
    "    a = convert_diease_name(i)\n",
    "    diease_columns.append(a[0])"
   ]
  },
  {
   "cell_type": "code",
   "execution_count": 101,
   "metadata": {
    "collapsed": true
   },
   "outputs": [],
   "source": [
    "#生成Dataframe\n",
    "diease_columns = pd.DataFrame(diease_columns[1:],columns = diease_columns[0])"
   ]
  },
  {
   "cell_type": "code",
   "execution_count": 102,
   "metadata": {
    "collapsed": true
   },
   "outputs": [],
   "source": [
    "#连接diease_name.\n",
    "diease_name_new = pd.concat([diease_name.reset_index(drop=True),diease_columns],axis=1).drop_duplicates()\n",
    "diease_name_new0 =diease_name_new[['个人编码','挂号','空值'\n",
    "                                  ,'肾病','门特','心血管病','脑血管病','癌症','肺病'\n",
    "                                  ,'糖尿病','神经病','精神病','高血压','病变','偏瘫',\n",
    "                                   '心脏病','肺心病','肾性','合并','肾病1','其他']]"
   ]
  },
  {
   "cell_type": "code",
   "execution_count": 103,
   "metadata": {
    "collapsed": false
   },
   "outputs": [
    {
     "data": {
      "text/html": [
       "<div>\n",
       "<table border=\"1\" class=\"dataframe\">\n",
       "  <thead>\n",
       "    <tr style=\"text-align: right;\">\n",
       "      <th></th>\n",
       "      <th>个人编码</th>\n",
       "      <th>挂号</th>\n",
       "      <th>空值</th>\n",
       "      <th>肾病</th>\n",
       "      <th>门特</th>\n",
       "      <th>心血管病</th>\n",
       "      <th>脑血管病</th>\n",
       "      <th>癌症</th>\n",
       "      <th>肺病</th>\n",
       "      <th>糖尿病</th>\n",
       "      <th>...</th>\n",
       "      <th>精神病</th>\n",
       "      <th>高血压</th>\n",
       "      <th>病变</th>\n",
       "      <th>偏瘫</th>\n",
       "      <th>心脏病</th>\n",
       "      <th>肺心病</th>\n",
       "      <th>肾性</th>\n",
       "      <th>合并</th>\n",
       "      <th>肾病1</th>\n",
       "      <th>其他</th>\n",
       "    </tr>\n",
       "  </thead>\n",
       "  <tbody>\n",
       "    <tr>\n",
       "      <th>0</th>\n",
       "      <td>352120000001598</td>\n",
       "      <td>1</td>\n",
       "      <td>1</td>\n",
       "      <td>1</td>\n",
       "      <td>1</td>\n",
       "      <td>1</td>\n",
       "      <td>0</td>\n",
       "      <td>0</td>\n",
       "      <td>0</td>\n",
       "      <td>4</td>\n",
       "      <td>...</td>\n",
       "      <td>0</td>\n",
       "      <td>0</td>\n",
       "      <td>2</td>\n",
       "      <td>0</td>\n",
       "      <td>0</td>\n",
       "      <td>0</td>\n",
       "      <td>0</td>\n",
       "      <td>2</td>\n",
       "      <td>0</td>\n",
       "      <td>0</td>\n",
       "    </tr>\n",
       "    <tr>\n",
       "      <th>1</th>\n",
       "      <td>352120000004806</td>\n",
       "      <td>1</td>\n",
       "      <td>1</td>\n",
       "      <td>0</td>\n",
       "      <td>0</td>\n",
       "      <td>4</td>\n",
       "      <td>5</td>\n",
       "      <td>0</td>\n",
       "      <td>0</td>\n",
       "      <td>0</td>\n",
       "      <td>...</td>\n",
       "      <td>0</td>\n",
       "      <td>2</td>\n",
       "      <td>0</td>\n",
       "      <td>4</td>\n",
       "      <td>0</td>\n",
       "      <td>0</td>\n",
       "      <td>0</td>\n",
       "      <td>0</td>\n",
       "      <td>0</td>\n",
       "      <td>0</td>\n",
       "    </tr>\n",
       "    <tr>\n",
       "      <th>2</th>\n",
       "      <td>352120000005123</td>\n",
       "      <td>1</td>\n",
       "      <td>1</td>\n",
       "      <td>0</td>\n",
       "      <td>1</td>\n",
       "      <td>1</td>\n",
       "      <td>0</td>\n",
       "      <td>0</td>\n",
       "      <td>0</td>\n",
       "      <td>2</td>\n",
       "      <td>...</td>\n",
       "      <td>0</td>\n",
       "      <td>0</td>\n",
       "      <td>0</td>\n",
       "      <td>0</td>\n",
       "      <td>1</td>\n",
       "      <td>0</td>\n",
       "      <td>0</td>\n",
       "      <td>0</td>\n",
       "      <td>0</td>\n",
       "      <td>0</td>\n",
       "    </tr>\n",
       "    <tr>\n",
       "      <th>3</th>\n",
       "      <td>352120000006659</td>\n",
       "      <td>1</td>\n",
       "      <td>1</td>\n",
       "      <td>0</td>\n",
       "      <td>0</td>\n",
       "      <td>0</td>\n",
       "      <td>0</td>\n",
       "      <td>1</td>\n",
       "      <td>0</td>\n",
       "      <td>0</td>\n",
       "      <td>...</td>\n",
       "      <td>0</td>\n",
       "      <td>0</td>\n",
       "      <td>0</td>\n",
       "      <td>0</td>\n",
       "      <td>0</td>\n",
       "      <td>0</td>\n",
       "      <td>0</td>\n",
       "      <td>0</td>\n",
       "      <td>0</td>\n",
       "      <td>0</td>\n",
       "    </tr>\n",
       "    <tr>\n",
       "      <th>4</th>\n",
       "      <td>352120000010106</td>\n",
       "      <td>1</td>\n",
       "      <td>1</td>\n",
       "      <td>1</td>\n",
       "      <td>0</td>\n",
       "      <td>1</td>\n",
       "      <td>0</td>\n",
       "      <td>0</td>\n",
       "      <td>0</td>\n",
       "      <td>1</td>\n",
       "      <td>...</td>\n",
       "      <td>0</td>\n",
       "      <td>0</td>\n",
       "      <td>0</td>\n",
       "      <td>0</td>\n",
       "      <td>1</td>\n",
       "      <td>0</td>\n",
       "      <td>0</td>\n",
       "      <td>0</td>\n",
       "      <td>1</td>\n",
       "      <td>0</td>\n",
       "    </tr>\n",
       "  </tbody>\n",
       "</table>\n",
       "<p>5 rows × 21 columns</p>\n",
       "</div>"
      ],
      "text/plain": [
       "              个人编码  挂号  空值  肾病  门特  心血管病  脑血管病  癌症  肺病  糖尿病 ...  精神病  高血压  病变  \\\n",
       "0  352120000001598   1   1   1   1     1     0   0   0    4 ...    0    0   2   \n",
       "1  352120000004806   1   1   0   0     4     5   0   0    0 ...    0    2   0   \n",
       "2  352120000005123   1   1   0   1     1     0   0   0    2 ...    0    0   0   \n",
       "3  352120000006659   1   1   0   0     0     0   1   0    0 ...    0    0   0   \n",
       "4  352120000010106   1   1   1   0     1     0   0   0    1 ...    0    0   0   \n",
       "\n",
       "   偏瘫  心脏病  肺心病  肾性  合并  肾病1  其他  \n",
       "0   0    0    0   0   2    0   0  \n",
       "1   4    0    0   0   0    0   0  \n",
       "2   0    1    0   0   0    0   0  \n",
       "3   0    0    0   0   0    0   0  \n",
       "4   0    1    0   0   0    1   0  \n",
       "\n",
       "[5 rows x 21 columns]"
      ]
     },
     "execution_count": 103,
     "metadata": {},
     "output_type": "execute_result"
    }
   ],
   "source": [
    "diease_name_result = diease_name_new0.groupby('个人编码').sum().reset_index(inplace = False)\n",
    "diease_name_result.head()"
   ]
  },
  {
   "cell_type": "code",
   "execution_count": 104,
   "metadata": {
    "collapsed": true
   },
   "outputs": [],
   "source": [
    "if os.path.exists('/home/zhh/文档/阿里巴巴/data/7测试表合表'):\n",
    "    os.chdir('/home/zhh/文档/阿里巴巴/data/7测试表合表')\n",
    "else:\n",
    "    os.mkdir('/home/zhh/文档/阿里巴巴/data/7测试表合表')\n",
    "    os.chdir('/home/zhh/文档/阿里巴巴/data/7测试表合表')\n",
    "with open('出院诊断病种分词将结果.pickle','wb') as f1:\n",
    "    #data = pickle.load(f1)  \n",
    "    pickle.dump(diease_name_result,f1)\n"
   ]
  },
  {
   "cell_type": "markdown",
   "metadata": {},
   "source": [
    "# 研究fee_tail"
   ]
  },
  {
   "cell_type": "code",
   "execution_count": 105,
   "metadata": {
    "collapsed": false
   },
   "outputs": [
    {
     "name": "stderr",
     "output_type": "stream",
     "text": [
      "/home/zhh/anaconda3/lib/python3.6/site-packages/IPython/core/interactiveshell.py:2717: DtypeWarning: Columns (10) have mixed types. Specify dtype option on import or set low_memory=False.\n",
      "  interactivity=interactivity, compiler=compiler, result=result)\n"
     ]
    }
   ],
   "source": [
    "fee_detail = pd.read_csv('/home/zhh/文档/阿里巴巴/data/fee_detail.csv')"
   ]
  },
  {
   "cell_type": "code",
   "execution_count": 106,
   "metadata": {
    "collapsed": true
   },
   "outputs": [],
   "source": [
    "fee_detail['医院编码'] = fee_detail['医院编码'].map(lambda x:str(x).split(\".\")[0])"
   ]
  },
  {
   "cell_type": "code",
   "execution_count": 107,
   "metadata": {
    "collapsed": false
   },
   "outputs": [
    {
     "data": {
      "text/html": [
       "<div>\n",
       "<table border=\"1\" class=\"dataframe\">\n",
       "  <thead>\n",
       "    <tr style=\"text-align: right;\">\n",
       "      <th></th>\n",
       "      <th>顺序号</th>\n",
       "      <th>医院编码</th>\n",
       "      <th>三目统计项目</th>\n",
       "      <th>三目服务项目名称</th>\n",
       "      <th>三目医院服务项目名称</th>\n",
       "      <th>剂型</th>\n",
       "      <th>规格</th>\n",
       "      <th>单价</th>\n",
       "      <th>数量</th>\n",
       "      <th>拒付原因编码</th>\n",
       "      <th>拒付原因</th>\n",
       "      <th>费用发生时间</th>\n",
       "    </tr>\n",
       "  </thead>\n",
       "  <tbody>\n",
       "    <tr>\n",
       "      <th>0</th>\n",
       "      <td>MT13061601133880864</td>\n",
       "      <td>1306</td>\n",
       "      <td>7.0</td>\n",
       "      <td>普通门诊挂号费---三级医院</td>\n",
       "      <td>挂号</td>\n",
       "      <td></td>\n",
       "      <td></td>\n",
       "      <td>1.0</td>\n",
       "      <td>1.0</td>\n",
       "      <td>NaN</td>\n",
       "      <td>NaN</td>\n",
       "      <td>2016-01-13</td>\n",
       "    </tr>\n",
       "    <tr>\n",
       "      <th>1</th>\n",
       "      <td>MT13061601133880864</td>\n",
       "      <td>1306</td>\n",
       "      <td>3.0</td>\n",
       "      <td>NaN</td>\n",
       "      <td>挂号</td>\n",
       "      <td></td>\n",
       "      <td></td>\n",
       "      <td>3.0</td>\n",
       "      <td>1.0</td>\n",
       "      <td>NaN</td>\n",
       "      <td>NaN</td>\n",
       "      <td>2016-01-13</td>\n",
       "    </tr>\n",
       "    <tr>\n",
       "      <th>2</th>\n",
       "      <td>MT13061601154123666</td>\n",
       "      <td>1306</td>\n",
       "      <td>3.0</td>\n",
       "      <td>NaN</td>\n",
       "      <td>挂号</td>\n",
       "      <td></td>\n",
       "      <td></td>\n",
       "      <td>3.0</td>\n",
       "      <td>1.0</td>\n",
       "      <td>NaN</td>\n",
       "      <td>NaN</td>\n",
       "      <td>2016-01-15</td>\n",
       "    </tr>\n",
       "    <tr>\n",
       "      <th>3</th>\n",
       "      <td>MT13061601154123666</td>\n",
       "      <td>1306</td>\n",
       "      <td>7.0</td>\n",
       "      <td>普通门诊挂号费---三级医院</td>\n",
       "      <td>挂号</td>\n",
       "      <td></td>\n",
       "      <td></td>\n",
       "      <td>1.0</td>\n",
       "      <td>1.0</td>\n",
       "      <td>NaN</td>\n",
       "      <td>NaN</td>\n",
       "      <td>2016-01-15</td>\n",
       "    </tr>\n",
       "    <tr>\n",
       "      <th>4</th>\n",
       "      <td>MT13061602298982056</td>\n",
       "      <td>1306</td>\n",
       "      <td>7.0</td>\n",
       "      <td>普通门诊挂号费---三级医院</td>\n",
       "      <td>挂号</td>\n",
       "      <td></td>\n",
       "      <td></td>\n",
       "      <td>1.0</td>\n",
       "      <td>1.0</td>\n",
       "      <td>NaN</td>\n",
       "      <td>NaN</td>\n",
       "      <td>2016-02-29</td>\n",
       "    </tr>\n",
       "  </tbody>\n",
       "</table>\n",
       "</div>"
      ],
      "text/plain": [
       "                   顺序号  医院编码  三目统计项目        三目服务项目名称 三目医院服务项目名称 剂型 规格   单价  \\\n",
       "0  MT13061601133880864  1306     7.0  普通门诊挂号费---三级医院         挂号        1.0   \n",
       "1  MT13061601133880864  1306     3.0             NaN         挂号        3.0   \n",
       "2  MT13061601154123666  1306     3.0             NaN         挂号        3.0   \n",
       "3  MT13061601154123666  1306     7.0  普通门诊挂号费---三级医院         挂号        1.0   \n",
       "4  MT13061602298982056  1306     7.0  普通门诊挂号费---三级医院         挂号        1.0   \n",
       "\n",
       "    数量  拒付原因编码 拒付原因      费用发生时间  \n",
       "0  1.0     NaN  NaN  2016-01-13  \n",
       "1  1.0     NaN  NaN  2016-01-13  \n",
       "2  1.0     NaN  NaN  2016-01-15  \n",
       "3  1.0     NaN  NaN  2016-01-15  \n",
       "4  1.0     NaN  NaN  2016-02-29  "
      ]
     },
     "execution_count": 107,
     "metadata": {},
     "output_type": "execute_result"
    }
   ],
   "source": [
    "fee_detail.head()"
   ]
  },
  {
   "cell_type": "code",
   "execution_count": 112,
   "metadata": {
    "collapsed": true
   },
   "outputs": [],
   "source": [
    "data['医院编码'] = data['医院编码'].map(lambda x:str(x).split(\".\")[0])\n",
    "fee_detail_label = pd.merge(data[['顺序号','个人编码','医院编码']],fee_detail\n",
    "         ,left_on = ['顺序号','医院编码'],right_on=['顺序号','医院编码'],how='left')\n",
    "fee_detail_label = fee_detail_label.drop_duplicates()  #去重"
   ]
  },
  {
   "cell_type": "code",
   "execution_count": 113,
   "metadata": {
    "collapsed": false
   },
   "outputs": [
    {
     "data": {
      "text/html": [
       "<div>\n",
       "<table border=\"1\" class=\"dataframe\">\n",
       "  <thead>\n",
       "    <tr style=\"text-align: right;\">\n",
       "      <th></th>\n",
       "      <th>顺序号</th>\n",
       "      <th>个人编码</th>\n",
       "      <th>医院编码</th>\n",
       "      <th>三目统计项目</th>\n",
       "      <th>三目服务项目名称</th>\n",
       "      <th>三目医院服务项目名称</th>\n",
       "      <th>剂型</th>\n",
       "      <th>规格</th>\n",
       "      <th>单价</th>\n",
       "      <th>数量</th>\n",
       "      <th>拒付原因编码</th>\n",
       "      <th>拒付原因</th>\n",
       "      <th>费用发生时间</th>\n",
       "    </tr>\n",
       "  </thead>\n",
       "  <tbody>\n",
       "    <tr>\n",
       "      <th>0</th>\n",
       "      <td>MT01801607015822867</td>\n",
       "      <td>352120001207726</td>\n",
       "      <td>180</td>\n",
       "      <td>3.0</td>\n",
       "      <td>NaN</td>\n",
       "      <td>NaN</td>\n",
       "      <td></td>\n",
       "      <td></td>\n",
       "      <td>6.0</td>\n",
       "      <td>1.0</td>\n",
       "      <td>NaN</td>\n",
       "      <td>NaN</td>\n",
       "      <td>2016-07-01</td>\n",
       "    </tr>\n",
       "    <tr>\n",
       "      <th>1</th>\n",
       "      <td>MT01801607015822875</td>\n",
       "      <td>352120000183777</td>\n",
       "      <td>180</td>\n",
       "      <td>3.0</td>\n",
       "      <td>NaN</td>\n",
       "      <td>NaN</td>\n",
       "      <td></td>\n",
       "      <td></td>\n",
       "      <td>3.0</td>\n",
       "      <td>1.0</td>\n",
       "      <td>NaN</td>\n",
       "      <td>NaN</td>\n",
       "      <td>2016-07-01</td>\n",
       "    </tr>\n",
       "    <tr>\n",
       "      <th>2</th>\n",
       "      <td>MT01801607015822882</td>\n",
       "      <td>352120000183777</td>\n",
       "      <td>180</td>\n",
       "      <td>3.0</td>\n",
       "      <td>NaN</td>\n",
       "      <td>NaN</td>\n",
       "      <td></td>\n",
       "      <td></td>\n",
       "      <td>460.0</td>\n",
       "      <td>1.0</td>\n",
       "      <td>NaN</td>\n",
       "      <td>NaN</td>\n",
       "      <td>2016-07-01</td>\n",
       "    </tr>\n",
       "    <tr>\n",
       "      <th>3</th>\n",
       "      <td>MT13061606204620197</td>\n",
       "      <td>352120002857717</td>\n",
       "      <td>1306</td>\n",
       "      <td>7.0</td>\n",
       "      <td>普通门诊挂号费---三级医院</td>\n",
       "      <td>挂号</td>\n",
       "      <td></td>\n",
       "      <td></td>\n",
       "      <td>1.0</td>\n",
       "      <td>1.0</td>\n",
       "      <td>NaN</td>\n",
       "      <td>NaN</td>\n",
       "      <td>2016-06-20</td>\n",
       "    </tr>\n",
       "    <tr>\n",
       "      <th>4</th>\n",
       "      <td>MT13061606204620197</td>\n",
       "      <td>352120002857717</td>\n",
       "      <td>1306</td>\n",
       "      <td>3.0</td>\n",
       "      <td>NaN</td>\n",
       "      <td>挂号</td>\n",
       "      <td></td>\n",
       "      <td></td>\n",
       "      <td>3.0</td>\n",
       "      <td>1.0</td>\n",
       "      <td>NaN</td>\n",
       "      <td>NaN</td>\n",
       "      <td>2016-06-20</td>\n",
       "    </tr>\n",
       "  </tbody>\n",
       "</table>\n",
       "</div>"
      ],
      "text/plain": [
       "                   顺序号             个人编码  医院编码  三目统计项目        三目服务项目名称  \\\n",
       "0  MT01801607015822867  352120001207726   180     3.0             NaN   \n",
       "1  MT01801607015822875  352120000183777   180     3.0             NaN   \n",
       "2  MT01801607015822882  352120000183777   180     3.0             NaN   \n",
       "3  MT13061606204620197  352120002857717  1306     7.0  普通门诊挂号费---三级医院   \n",
       "4  MT13061606204620197  352120002857717  1306     3.0             NaN   \n",
       "\n",
       "  三目医院服务项目名称 剂型 规格     单价   数量  拒付原因编码 拒付原因      费用发生时间  \n",
       "0        NaN          6.0  1.0     NaN  NaN  2016-07-01  \n",
       "1        NaN          3.0  1.0     NaN  NaN  2016-07-01  \n",
       "2        NaN        460.0  1.0     NaN  NaN  2016-07-01  \n",
       "3         挂号          1.0  1.0     NaN  NaN  2016-06-20  \n",
       "4         挂号          3.0  1.0     NaN  NaN  2016-06-20  "
      ]
     },
     "execution_count": 113,
     "metadata": {},
     "output_type": "execute_result"
    }
   ],
   "source": [
    "fee_detail_label.head()"
   ]
  },
  {
   "cell_type": "code",
   "execution_count": 114,
   "metadata": {
    "collapsed": false
   },
   "outputs": [
    {
     "data": {
      "text/plain": [
       "顺序号                0\n",
       "个人编码               0\n",
       "医院编码               0\n",
       "三目统计项目             0\n",
       "三目服务项目名称      818343\n",
       "三目医院服务项目名称    810260\n",
       "剂型                 0\n",
       "规格                 0\n",
       "单价                 0\n",
       "数量                 0\n",
       "拒付原因编码        934132\n",
       "拒付原因          934132\n",
       "费用发生时间             0\n",
       "dtype: int64"
      ]
     },
     "execution_count": 114,
     "metadata": {},
     "output_type": "execute_result"
    }
   ],
   "source": [
    "#统计空值\n",
    "np.sum(fee_detail_label.isnull())"
   ]
  },
  {
   "cell_type": "code",
   "execution_count": 116,
   "metadata": {
    "collapsed": false
   },
   "outputs": [],
   "source": [
    "#删除拒付原因编码和拒付原因\n",
    "fee_detail_label.drop(['拒付原因编码','拒付原因'],axis=1,inplace=True)"
   ]
  },
  {
   "cell_type": "code",
   "execution_count": 117,
   "metadata": {
    "collapsed": false
   },
   "outputs": [
    {
     "data": {
      "text/html": [
       "<div>\n",
       "<table border=\"1\" class=\"dataframe\">\n",
       "  <thead>\n",
       "    <tr style=\"text-align: right;\">\n",
       "      <th></th>\n",
       "      <th>顺序号</th>\n",
       "      <th>个人编码</th>\n",
       "      <th>医院编码</th>\n",
       "      <th>三目统计项目</th>\n",
       "      <th>三目服务项目名称</th>\n",
       "      <th>三目医院服务项目名称</th>\n",
       "      <th>剂型</th>\n",
       "      <th>规格</th>\n",
       "      <th>单价</th>\n",
       "      <th>数量</th>\n",
       "      <th>费用发生时间</th>\n",
       "    </tr>\n",
       "  </thead>\n",
       "  <tbody>\n",
       "    <tr>\n",
       "      <th>0</th>\n",
       "      <td>MT01801607015822867</td>\n",
       "      <td>352120001207726</td>\n",
       "      <td>180</td>\n",
       "      <td>3.0</td>\n",
       "      <td>NaN</td>\n",
       "      <td>NaN</td>\n",
       "      <td></td>\n",
       "      <td></td>\n",
       "      <td>6.0</td>\n",
       "      <td>1.0</td>\n",
       "      <td>2016-07-01</td>\n",
       "    </tr>\n",
       "    <tr>\n",
       "      <th>1</th>\n",
       "      <td>MT01801607015822875</td>\n",
       "      <td>352120000183777</td>\n",
       "      <td>180</td>\n",
       "      <td>3.0</td>\n",
       "      <td>NaN</td>\n",
       "      <td>NaN</td>\n",
       "      <td></td>\n",
       "      <td></td>\n",
       "      <td>3.0</td>\n",
       "      <td>1.0</td>\n",
       "      <td>2016-07-01</td>\n",
       "    </tr>\n",
       "    <tr>\n",
       "      <th>2</th>\n",
       "      <td>MT01801607015822882</td>\n",
       "      <td>352120000183777</td>\n",
       "      <td>180</td>\n",
       "      <td>3.0</td>\n",
       "      <td>NaN</td>\n",
       "      <td>NaN</td>\n",
       "      <td></td>\n",
       "      <td></td>\n",
       "      <td>460.0</td>\n",
       "      <td>1.0</td>\n",
       "      <td>2016-07-01</td>\n",
       "    </tr>\n",
       "    <tr>\n",
       "      <th>3</th>\n",
       "      <td>MT13061606204620197</td>\n",
       "      <td>352120002857717</td>\n",
       "      <td>1306</td>\n",
       "      <td>7.0</td>\n",
       "      <td>普通门诊挂号费---三级医院</td>\n",
       "      <td>挂号</td>\n",
       "      <td></td>\n",
       "      <td></td>\n",
       "      <td>1.0</td>\n",
       "      <td>1.0</td>\n",
       "      <td>2016-06-20</td>\n",
       "    </tr>\n",
       "    <tr>\n",
       "      <th>4</th>\n",
       "      <td>MT13061606204620197</td>\n",
       "      <td>352120002857717</td>\n",
       "      <td>1306</td>\n",
       "      <td>3.0</td>\n",
       "      <td>NaN</td>\n",
       "      <td>挂号</td>\n",
       "      <td></td>\n",
       "      <td></td>\n",
       "      <td>3.0</td>\n",
       "      <td>1.0</td>\n",
       "      <td>2016-06-20</td>\n",
       "    </tr>\n",
       "  </tbody>\n",
       "</table>\n",
       "</div>"
      ],
      "text/plain": [
       "                   顺序号             个人编码  医院编码  三目统计项目        三目服务项目名称  \\\n",
       "0  MT01801607015822867  352120001207726   180     3.0             NaN   \n",
       "1  MT01801607015822875  352120000183777   180     3.0             NaN   \n",
       "2  MT01801607015822882  352120000183777   180     3.0             NaN   \n",
       "3  MT13061606204620197  352120002857717  1306     7.0  普通门诊挂号费---三级医院   \n",
       "4  MT13061606204620197  352120002857717  1306     3.0             NaN   \n",
       "\n",
       "  三目医院服务项目名称 剂型 规格     单价   数量      费用发生时间  \n",
       "0        NaN          6.0  1.0  2016-07-01  \n",
       "1        NaN          3.0  1.0  2016-07-01  \n",
       "2        NaN        460.0  1.0  2016-07-01  \n",
       "3         挂号          1.0  1.0  2016-06-20  \n",
       "4         挂号          3.0  1.0  2016-06-20  "
      ]
     },
     "execution_count": 117,
     "metadata": {},
     "output_type": "execute_result"
    }
   ],
   "source": [
    "fee_detail_label.head()"
   ]
  },
  {
   "cell_type": "code",
   "execution_count": 118,
   "metadata": {
    "collapsed": false
   },
   "outputs": [
    {
     "data": {
      "text/plain": [
       "(906527, 10)"
      ]
     },
     "execution_count": 118,
     "metadata": {},
     "output_type": "execute_result"
    }
   ],
   "source": [
    "#删除顺序号再去重\n",
    "fee_detail_label.drop('顺序号',axis=1,inplace=True)\n",
    "fee_detail_label.drop_duplicates(inplace=True)\n",
    "fee_detail_label.shape"
   ]
  },
  {
   "cell_type": "code",
   "execution_count": 119,
   "metadata": {
    "collapsed": true
   },
   "outputs": [],
   "source": [
    "# 将nan值填充为空值\n",
    "fee_detail_label['三目服务项目名称'] = fee_detail_label['三目服务项目名称'].fillna('空值')"
   ]
  },
  {
   "cell_type": "code",
   "execution_count": 120,
   "metadata": {
    "collapsed": true
   },
   "outputs": [],
   "source": [
    "def convert_diease_name(name):\n",
    "    diease_types = []\n",
    "      \n",
    "    #1空值\n",
    "    if name =='空值':\n",
    "        kongzhi = 1\n",
    "    else:  \n",
    "        kongzhi = 0\n",
    "    \n",
    "    #3普通门诊 \n",
    "    if any(word in name for word in ['普通门诊']):\n",
    "        ptmz = 1\n",
    "    else:\n",
    "        ptmz = 0\n",
    "    \n",
    "    \n",
    "    #5糖尿病门诊\n",
    "    if  any(word in name for word in ['糖尿病门诊']):\n",
    "        tnbmz = 1\n",
    "    else:\n",
    "        tnbmz = 0\n",
    "        \n",
    "    #6其他门诊\n",
    "    if '门诊' in name and all(word not in name for word in ['糖尿病门诊','普通门诊']):\n",
    "        qtmz = 1 \n",
    "    else:\n",
    "        qtmz  = 0\n",
    "        \n",
    "    #7乙肝\n",
    "    if any(word in name for word in ['乙肝']):\n",
    "        yigan = 1\n",
    "    else:\n",
    "        yigan = 0\n",
    "        \n",
    "    #肝素钙\n",
    "    if any(word in name for word in ['肝素钙']):\n",
    "        gansugai = 1\n",
    "    else:\n",
    "        gansugai = 0 \n",
    "    \n",
    "    #脑心通胶囊\n",
    "    if any(word in name for word in ['脑心通']):\n",
    "        nxtjn= 1\n",
    "    else:\n",
    "         nxtjn = 0 \n",
    "    \n",
    "     #1通心络   \n",
    "    if any(word in name for word in ['通心络']):\n",
    "        txljn = 1\n",
    "    else:\n",
    "        txljn = 0\n",
    "        \n",
    "    if '胶囊' in name and all(word not in name for word in ['通心络','脑心通']):\n",
    "        qtjn = 1\n",
    "    else: \n",
    "        qtjn  = 0\n",
    "   \n",
    "    \n",
    "    #15其他\n",
    "    qita_list =[ '空值','普通门诊','糖尿病门诊','乙肝','肝素钙','脑心通','通心络','胶囊','门诊']\n",
    "    \n",
    "    if all(word not in i for word in qita_list):\n",
    "        qita = 1\n",
    "    else:\n",
    "        qita =0\n",
    "        \n",
    "    diease_types.append([kongzhi, ptmz, tnbmz,qtmz,yigan,gansugai,nxtjn,txljn,qtjn,qita])\n",
    "\n",
    "    return diease_types"
   ]
  },
  {
   "cell_type": "code",
   "execution_count": 121,
   "metadata": {
    "collapsed": true
   },
   "outputs": [],
   "source": [
    "##*****************三目服务项目名称**********************************\n",
    "diease_columns =[['三目空值','普通门诊','糖尿病门诊','其他门诊','乙肝','肝素钙','脑心通胶囊','通心络胶囊','其他胶囊','三目其他']]\n",
    "\n",
    "for i in fee_detail_label['三目服务项目名称']:\n",
    "    a = convert_diease_name(i)\n",
    "    diease_columns.append(a[0])\n",
    "\n",
    "#生成Dataframe\n",
    "diease_columns = pd.DataFrame(diease_columns[1:],columns = diease_columns[0])\n",
    "\n",
    "#连接diease_name.\n",
    "diease_name_new = pd.concat([fee_detail_label.reset_index(drop=True)\n",
    "                             ,diease_columns.reset_index(drop=True)],axis=1).drop_duplicates()\n",
    "diease_name_new0 =diease_name_new[['个人编码','三目空值','普通门诊','糖尿病门诊','其他门诊',\n",
    "                                   '乙肝','肝素钙','脑心通胶囊','通心络胶囊','其他胶囊','三目其他']]\n",
    "\n",
    "diease_name_new0\n",
    "\n",
    "diease_name_new = diease_name_new0.groupby('个人编码').sum().reset_index(inplace = False)\n"
   ]
  },
  {
   "cell_type": "code",
   "execution_count": 122,
   "metadata": {
    "collapsed": true
   },
   "outputs": [],
   "source": [
    "#总价的影响\n",
    "fee_detail_label ['总价'] = fee_detail_label['单价']  * fee_detail_label['数量']"
   ]
  },
  {
   "cell_type": "code",
   "execution_count": 123,
   "metadata": {
    "collapsed": true
   },
   "outputs": [],
   "source": [
    "fee_sum = fee_detail_label.groupby('个人编码',as_index=False)['总价'].sum()"
   ]
  },
  {
   "cell_type": "code",
   "execution_count": 125,
   "metadata": {
    "collapsed": false
   },
   "outputs": [],
   "source": [
    "fee_sum.drop_duplicates(inplace=True)"
   ]
  },
  {
   "cell_type": "code",
   "execution_count": 126,
   "metadata": {
    "collapsed": true
   },
   "outputs": [],
   "source": [
    "#  三表相联保存\n",
    "temp = pd.merge(diease_name_new,fee_sum,how= 'left')"
   ]
  },
  {
   "cell_type": "code",
   "execution_count": 127,
   "metadata": {
    "collapsed": true
   },
   "outputs": [],
   "source": [
    "temp['总价'] = np.log(temp['总价']+0.0001)"
   ]
  },
  {
   "cell_type": "code",
   "execution_count": 128,
   "metadata": {
    "collapsed": true
   },
   "outputs": [],
   "source": [
    "sanmu_cont  = fee_detail_label[['个人编码','三目统计项目']].drop_duplicates()\n",
    "sanmu_cont = sanmu_cont.groupby(['个人编码'])[['三目统计项目']].count()\n",
    "sanmu_cont.reset_index(inplace=True)"
   ]
  },
  {
   "cell_type": "code",
   "execution_count": 129,
   "metadata": {
    "collapsed": true
   },
   "outputs": [],
   "source": [
    "# 连接三目统计表\n",
    "fee_detail_result = pd.merge(temp,sanmu_cont,how='left')"
   ]
  },
  {
   "cell_type": "code",
   "execution_count": 130,
   "metadata": {
    "collapsed": false
   },
   "outputs": [
    {
     "data": {
      "text/html": [
       "<div>\n",
       "<table border=\"1\" class=\"dataframe\">\n",
       "  <thead>\n",
       "    <tr style=\"text-align: right;\">\n",
       "      <th></th>\n",
       "      <th>个人编码</th>\n",
       "      <th>三目空值</th>\n",
       "      <th>普通门诊</th>\n",
       "      <th>糖尿病门诊</th>\n",
       "      <th>其他门诊</th>\n",
       "      <th>乙肝</th>\n",
       "      <th>肝素钙</th>\n",
       "      <th>脑心通胶囊</th>\n",
       "      <th>通心络胶囊</th>\n",
       "      <th>其他胶囊</th>\n",
       "      <th>三目其他</th>\n",
       "      <th>总价</th>\n",
       "      <th>三目统计项目</th>\n",
       "    </tr>\n",
       "  </thead>\n",
       "  <tbody>\n",
       "    <tr>\n",
       "      <th>0</th>\n",
       "      <td>352120000001598</td>\n",
       "      <td>128</td>\n",
       "      <td>8</td>\n",
       "      <td>16</td>\n",
       "      <td>0</td>\n",
       "      <td>0</td>\n",
       "      <td>0</td>\n",
       "      <td>0</td>\n",
       "      <td>0</td>\n",
       "      <td>0</td>\n",
       "      <td>2</td>\n",
       "      <td>9.259740</td>\n",
       "      <td>5</td>\n",
       "    </tr>\n",
       "    <tr>\n",
       "      <th>1</th>\n",
       "      <td>352120000004806</td>\n",
       "      <td>161</td>\n",
       "      <td>37</td>\n",
       "      <td>0</td>\n",
       "      <td>0</td>\n",
       "      <td>0</td>\n",
       "      <td>0</td>\n",
       "      <td>5</td>\n",
       "      <td>0</td>\n",
       "      <td>0</td>\n",
       "      <td>0</td>\n",
       "      <td>9.465761</td>\n",
       "      <td>3</td>\n",
       "    </tr>\n",
       "    <tr>\n",
       "      <th>2</th>\n",
       "      <td>352120000005123</td>\n",
       "      <td>176</td>\n",
       "      <td>10</td>\n",
       "      <td>11</td>\n",
       "      <td>0</td>\n",
       "      <td>0</td>\n",
       "      <td>0</td>\n",
       "      <td>0</td>\n",
       "      <td>0</td>\n",
       "      <td>0</td>\n",
       "      <td>0</td>\n",
       "      <td>9.388239</td>\n",
       "      <td>4</td>\n",
       "    </tr>\n",
       "    <tr>\n",
       "      <th>3</th>\n",
       "      <td>352120000006659</td>\n",
       "      <td>192</td>\n",
       "      <td>0</td>\n",
       "      <td>0</td>\n",
       "      <td>0</td>\n",
       "      <td>0</td>\n",
       "      <td>0</td>\n",
       "      <td>0</td>\n",
       "      <td>0</td>\n",
       "      <td>0</td>\n",
       "      <td>0</td>\n",
       "      <td>9.188587</td>\n",
       "      <td>3</td>\n",
       "    </tr>\n",
       "    <tr>\n",
       "      <th>4</th>\n",
       "      <td>352120000010106</td>\n",
       "      <td>120</td>\n",
       "      <td>11</td>\n",
       "      <td>8</td>\n",
       "      <td>0</td>\n",
       "      <td>0</td>\n",
       "      <td>0</td>\n",
       "      <td>0</td>\n",
       "      <td>0</td>\n",
       "      <td>0</td>\n",
       "      <td>0</td>\n",
       "      <td>9.075157</td>\n",
       "      <td>5</td>\n",
       "    </tr>\n",
       "  </tbody>\n",
       "</table>\n",
       "</div>"
      ],
      "text/plain": [
       "              个人编码  三目空值  普通门诊  糖尿病门诊  其他门诊  乙肝  肝素钙  脑心通胶囊  通心络胶囊  其他胶囊  \\\n",
       "0  352120000001598   128     8     16     0   0    0      0      0     0   \n",
       "1  352120000004806   161    37      0     0   0    0      5      0     0   \n",
       "2  352120000005123   176    10     11     0   0    0      0      0     0   \n",
       "3  352120000006659   192     0      0     0   0    0      0      0     0   \n",
       "4  352120000010106   120    11      8     0   0    0      0      0     0   \n",
       "\n",
       "   三目其他        总价  三目统计项目  \n",
       "0     2  9.259740       5  \n",
       "1     0  9.465761       3  \n",
       "2     0  9.388239       4  \n",
       "3     0  9.188587       3  \n",
       "4     0  9.075157       5  "
      ]
     },
     "execution_count": 130,
     "metadata": {},
     "output_type": "execute_result"
    }
   ],
   "source": [
    "fee_detail_result.head()"
   ]
  },
  {
   "cell_type": "code",
   "execution_count": 131,
   "metadata": {
    "collapsed": true
   },
   "outputs": [],
   "source": [
    "if os.path.exists('/home/zhh/文档/阿里巴巴/data/7测试表合表'):\n",
    "    os.chdir('/home/zhh/文档/阿里巴巴/data/7测试表合表')\n",
    "else:\n",
    "    os.mkdir('/home/zhh/文档/阿里巴巴/data/7测试表合表')\n",
    "    os.chdir('/home/zhh/文档/阿里巴巴/data/7测试表合表')\n",
    "with open('金额细节.pickle','wb') as f1:\n",
    "    #data = pickle.load(f1)  \n",
    "    pickle.dump(fee_detail_result,f1)"
   ]
  },
  {
   "cell_type": "markdown",
   "metadata": {},
   "source": [
    "# 合并表"
   ]
  },
  {
   "cell_type": "code",
   "execution_count": 132,
   "metadata": {
    "collapsed": true
   },
   "outputs": [],
   "source": [
    "import pandas as pd\n",
    "import numpy as np\n",
    "import os\n",
    "import re\n",
    "import warnings\n",
    "import pickle\n",
    "import os.path\n",
    "import seaborn\n",
    "import pickle\n",
    "import os.path\n",
    "from numpy import linalg\n",
    "import matplotlib.pyplot as plt\n",
    "import matplotlib as mpl\n",
    "import seaborn as sns\n",
    "import jieba\n",
    "\n",
    "\n",
    "mpl.rcParams.update({'font.size': 30})\n",
    "\n",
    "mpl.rcParams['font.sans-serif'] = ['SimHei']\n",
    "mpl.rcParams['font.serif'] = ['SimHei']\n",
    "\n",
    "import seaborn as sns\n",
    "#sns.set_style('whitegrid',{'font.sans-serif':['simhei','Arial']})\n",
    "sns.set_style(\"darkgrid\",{\"font.sans-serif\":['simhei', 'Arial']})\n",
    "#plt.style.use('ggplot')\n",
    "mpl.rc('xtick', labelsize=20) \n",
    "mpl.rc('ytick', labelsize=20) \n",
    "%matplotlib inline"
   ]
  },
  {
   "cell_type": "code",
   "execution_count": 133,
   "metadata": {
    "collapsed": false
   },
   "outputs": [
    {
     "data": {
      "text/plain": [
       "['金额特征.pickle',\n",
       " '金额细节.pickle',\n",
       " '出院诊断病种分词将结果.pickle',\n",
       " '医院个数.pickle',\n",
       " '出院诊断病种的个数.pickle',\n",
       " '周索引.pickle',\n",
       " '天索引.pickle',\n",
       " '交易间隔.pickle',\n",
       " '交易次数.pickle']"
      ]
     },
     "execution_count": 133,
     "metadata": {},
     "output_type": "execute_result"
    }
   ],
   "source": [
    "os.chdir(\"/home/zhh/文档/阿里巴巴/data/7测试表合表/\")\n",
    "os.listdir()"
   ]
  },
  {
   "cell_type": "code",
   "execution_count": 134,
   "metadata": {
    "collapsed": false
   },
   "outputs": [
    {
     "data": {
      "text/html": [
       "<div>\n",
       "<table border=\"1\" class=\"dataframe\">\n",
       "  <thead>\n",
       "    <tr style=\"text-align: right;\">\n",
       "      <th></th>\n",
       "      <th>个人编码</th>\n",
       "      <th>药品费发生金额</th>\n",
       "      <th>贵重药品发生金额</th>\n",
       "      <th>中成药费发生金额</th>\n",
       "      <th>中草药费发生金额</th>\n",
       "      <th>药品费自费金额</th>\n",
       "      <th>药品费申报金额</th>\n",
       "      <th>检查费发生金额</th>\n",
       "      <th>检查费申报金额</th>\n",
       "      <th>治疗费发生金额</th>\n",
       "      <th>...</th>\n",
       "      <th>医用材料发生金额</th>\n",
       "      <th>其它发生金额</th>\n",
       "      <th>一次性医用材料申报金额</th>\n",
       "      <th>起付标准以上自负比例金额</th>\n",
       "      <th>基本医疗保险统筹基金支付金额</th>\n",
       "      <th>可用账户报销金额</th>\n",
       "      <th>基本医疗保险个人账户支付金额</th>\n",
       "      <th>非账户支付金额</th>\n",
       "      <th>本次审批金额</th>\n",
       "      <th>特殊金额</th>\n",
       "    </tr>\n",
       "  </thead>\n",
       "  <tbody>\n",
       "    <tr>\n",
       "      <th>0</th>\n",
       "      <td>352120000001598</td>\n",
       "      <td>9.171610</td>\n",
       "      <td>-13.815511</td>\n",
       "      <td>7.838375</td>\n",
       "      <td>6.543451</td>\n",
       "      <td>5.346965</td>\n",
       "      <td>9.145449</td>\n",
       "      <td>5.594711</td>\n",
       "      <td>5.594711</td>\n",
       "      <td>6.138806</td>\n",
       "      <td>...</td>\n",
       "      <td>5.134621</td>\n",
       "      <td>-13.815511</td>\n",
       "      <td>5.134621</td>\n",
       "      <td>6.934787</td>\n",
       "      <td>9.132010</td>\n",
       "      <td>6.971519</td>\n",
       "      <td>4.893202</td>\n",
       "      <td>7.040913</td>\n",
       "      <td>9.237371</td>\n",
       "      <td>-13.815511</td>\n",
       "    </tr>\n",
       "    <tr>\n",
       "      <th>1</th>\n",
       "      <td>352120000004806</td>\n",
       "      <td>9.154141</td>\n",
       "      <td>-13.815511</td>\n",
       "      <td>7.158031</td>\n",
       "      <td>8.114642</td>\n",
       "      <td>3.510650</td>\n",
       "      <td>9.148880</td>\n",
       "      <td>-13.815511</td>\n",
       "      <td>-13.815511</td>\n",
       "      <td>8.171882</td>\n",
       "      <td>...</td>\n",
       "      <td>-13.815511</td>\n",
       "      <td>-13.815511</td>\n",
       "      <td>-13.815511</td>\n",
       "      <td>7.165779</td>\n",
       "      <td>9.363021</td>\n",
       "      <td>7.178172</td>\n",
       "      <td>5.273000</td>\n",
       "      <td>7.046630</td>\n",
       "      <td>9.468380</td>\n",
       "      <td>-13.815511</td>\n",
       "    </tr>\n",
       "    <tr>\n",
       "      <th>2</th>\n",
       "      <td>352120000005123</td>\n",
       "      <td>9.347537</td>\n",
       "      <td>8.357170</td>\n",
       "      <td>6.363855</td>\n",
       "      <td>7.596473</td>\n",
       "      <td>-13.815511</td>\n",
       "      <td>9.347537</td>\n",
       "      <td>5.099866</td>\n",
       "      <td>5.099866</td>\n",
       "      <td>5.895779</td>\n",
       "      <td>...</td>\n",
       "      <td>-13.815511</td>\n",
       "      <td>2.995732</td>\n",
       "      <td>-13.815511</td>\n",
       "      <td>7.089918</td>\n",
       "      <td>9.287138</td>\n",
       "      <td>7.089918</td>\n",
       "      <td>4.735057</td>\n",
       "      <td>7.008451</td>\n",
       "      <td>9.392499</td>\n",
       "      <td>-13.815511</td>\n",
       "    </tr>\n",
       "    <tr>\n",
       "      <th>3</th>\n",
       "      <td>352120000006659</td>\n",
       "      <td>9.529905</td>\n",
       "      <td>8.758595</td>\n",
       "      <td>8.758595</td>\n",
       "      <td>8.909251</td>\n",
       "      <td>-13.815511</td>\n",
       "      <td>9.529905</td>\n",
       "      <td>-13.815511</td>\n",
       "      <td>-13.815511</td>\n",
       "      <td>4.262680</td>\n",
       "      <td>...</td>\n",
       "      <td>-13.815511</td>\n",
       "      <td>-13.815511</td>\n",
       "      <td>-13.815511</td>\n",
       "      <td>7.232430</td>\n",
       "      <td>9.429693</td>\n",
       "      <td>7.232430</td>\n",
       "      <td>4.553877</td>\n",
       "      <td>7.161296</td>\n",
       "      <td>9.535049</td>\n",
       "      <td>-13.815511</td>\n",
       "    </tr>\n",
       "    <tr>\n",
       "      <th>4</th>\n",
       "      <td>352120000010106</td>\n",
       "      <td>8.960440</td>\n",
       "      <td>-13.815511</td>\n",
       "      <td>7.951408</td>\n",
       "      <td>5.549893</td>\n",
       "      <td>-1.560643</td>\n",
       "      <td>8.957095</td>\n",
       "      <td>4.859812</td>\n",
       "      <td>4.859812</td>\n",
       "      <td>5.065755</td>\n",
       "      <td>...</td>\n",
       "      <td>5.798001</td>\n",
       "      <td>-13.815511</td>\n",
       "      <td>5.798001</td>\n",
       "      <td>6.731018</td>\n",
       "      <td>8.928231</td>\n",
       "      <td>6.761341</td>\n",
       "      <td>4.617593</td>\n",
       "      <td>6.636943</td>\n",
       "      <td>9.033592</td>\n",
       "      <td>-13.815511</td>\n",
       "    </tr>\n",
       "  </tbody>\n",
       "</table>\n",
       "<p>5 rows × 21 columns</p>\n",
       "</div>"
      ],
      "text/plain": [
       "              个人编码   药品费发生金额   贵重药品发生金额  中成药费发生金额  中草药费发生金额    药品费自费金额  \\\n",
       "0  352120000001598  9.171610 -13.815511  7.838375  6.543451   5.346965   \n",
       "1  352120000004806  9.154141 -13.815511  7.158031  8.114642   3.510650   \n",
       "2  352120000005123  9.347537   8.357170  6.363855  7.596473 -13.815511   \n",
       "3  352120000006659  9.529905   8.758595  8.758595  8.909251 -13.815511   \n",
       "4  352120000010106  8.960440 -13.815511  7.951408  5.549893  -1.560643   \n",
       "\n",
       "    药品费申报金额    检查费发生金额    检查费申报金额   治疗费发生金额    ...       医用材料发生金额     其它发生金额  \\\n",
       "0  9.145449   5.594711   5.594711  6.138806    ...       5.134621 -13.815511   \n",
       "1  9.148880 -13.815511 -13.815511  8.171882    ...     -13.815511 -13.815511   \n",
       "2  9.347537   5.099866   5.099866  5.895779    ...     -13.815511   2.995732   \n",
       "3  9.529905 -13.815511 -13.815511  4.262680    ...     -13.815511 -13.815511   \n",
       "4  8.957095   4.859812   4.859812  5.065755    ...       5.798001 -13.815511   \n",
       "\n",
       "   一次性医用材料申报金额  起付标准以上自负比例金额  基本医疗保险统筹基金支付金额  可用账户报销金额  基本医疗保险个人账户支付金额  \\\n",
       "0     5.134621      6.934787        9.132010  6.971519        4.893202   \n",
       "1   -13.815511      7.165779        9.363021  7.178172        5.273000   \n",
       "2   -13.815511      7.089918        9.287138  7.089918        4.735057   \n",
       "3   -13.815511      7.232430        9.429693  7.232430        4.553877   \n",
       "4     5.798001      6.731018        8.928231  6.761341        4.617593   \n",
       "\n",
       "    非账户支付金额    本次审批金额       特殊金额  \n",
       "0  7.040913  9.237371 -13.815511  \n",
       "1  7.046630  9.468380 -13.815511  \n",
       "2  7.008451  9.392499 -13.815511  \n",
       "3  7.161296  9.535049 -13.815511  \n",
       "4  6.636943  9.033592 -13.815511  \n",
       "\n",
       "[5 rows x 21 columns]"
      ]
     },
     "execution_count": 134,
     "metadata": {},
     "output_type": "execute_result"
    }
   ],
   "source": [
    "fee_feature = pd.read_pickle(\"金额特征.pickle\")\n",
    "fee_feature.head()"
   ]
  },
  {
   "cell_type": "code",
   "execution_count": 135,
   "metadata": {
    "collapsed": false
   },
   "outputs": [
    {
     "data": {
      "text/html": [
       "<div>\n",
       "<table border=\"1\" class=\"dataframe\">\n",
       "  <thead>\n",
       "    <tr style=\"text-align: right;\">\n",
       "      <th></th>\n",
       "      <th>个人编码</th>\n",
       "      <th>三目空值</th>\n",
       "      <th>普通门诊</th>\n",
       "      <th>糖尿病门诊</th>\n",
       "      <th>其他门诊</th>\n",
       "      <th>乙肝</th>\n",
       "      <th>肝素钙</th>\n",
       "      <th>脑心通胶囊</th>\n",
       "      <th>通心络胶囊</th>\n",
       "      <th>其他胶囊</th>\n",
       "      <th>三目其他</th>\n",
       "      <th>三目项目总价</th>\n",
       "      <th>三目统计项目总计和</th>\n",
       "    </tr>\n",
       "  </thead>\n",
       "  <tbody>\n",
       "    <tr>\n",
       "      <th>0</th>\n",
       "      <td>352120000001598</td>\n",
       "      <td>128</td>\n",
       "      <td>8</td>\n",
       "      <td>16</td>\n",
       "      <td>0</td>\n",
       "      <td>0</td>\n",
       "      <td>0</td>\n",
       "      <td>0</td>\n",
       "      <td>0</td>\n",
       "      <td>0</td>\n",
       "      <td>2</td>\n",
       "      <td>9.259740</td>\n",
       "      <td>5</td>\n",
       "    </tr>\n",
       "    <tr>\n",
       "      <th>1</th>\n",
       "      <td>352120000004806</td>\n",
       "      <td>161</td>\n",
       "      <td>37</td>\n",
       "      <td>0</td>\n",
       "      <td>0</td>\n",
       "      <td>0</td>\n",
       "      <td>0</td>\n",
       "      <td>5</td>\n",
       "      <td>0</td>\n",
       "      <td>0</td>\n",
       "      <td>0</td>\n",
       "      <td>9.465761</td>\n",
       "      <td>3</td>\n",
       "    </tr>\n",
       "    <tr>\n",
       "      <th>2</th>\n",
       "      <td>352120000005123</td>\n",
       "      <td>176</td>\n",
       "      <td>10</td>\n",
       "      <td>11</td>\n",
       "      <td>0</td>\n",
       "      <td>0</td>\n",
       "      <td>0</td>\n",
       "      <td>0</td>\n",
       "      <td>0</td>\n",
       "      <td>0</td>\n",
       "      <td>0</td>\n",
       "      <td>9.388239</td>\n",
       "      <td>4</td>\n",
       "    </tr>\n",
       "    <tr>\n",
       "      <th>3</th>\n",
       "      <td>352120000006659</td>\n",
       "      <td>192</td>\n",
       "      <td>0</td>\n",
       "      <td>0</td>\n",
       "      <td>0</td>\n",
       "      <td>0</td>\n",
       "      <td>0</td>\n",
       "      <td>0</td>\n",
       "      <td>0</td>\n",
       "      <td>0</td>\n",
       "      <td>0</td>\n",
       "      <td>9.188587</td>\n",
       "      <td>3</td>\n",
       "    </tr>\n",
       "    <tr>\n",
       "      <th>4</th>\n",
       "      <td>352120000010106</td>\n",
       "      <td>120</td>\n",
       "      <td>11</td>\n",
       "      <td>8</td>\n",
       "      <td>0</td>\n",
       "      <td>0</td>\n",
       "      <td>0</td>\n",
       "      <td>0</td>\n",
       "      <td>0</td>\n",
       "      <td>0</td>\n",
       "      <td>0</td>\n",
       "      <td>9.075157</td>\n",
       "      <td>5</td>\n",
       "    </tr>\n",
       "  </tbody>\n",
       "</table>\n",
       "</div>"
      ],
      "text/plain": [
       "              个人编码  三目空值  普通门诊  糖尿病门诊  其他门诊  乙肝  肝素钙  脑心通胶囊  通心络胶囊  其他胶囊  \\\n",
       "0  352120000001598   128     8     16     0   0    0      0      0     0   \n",
       "1  352120000004806   161    37      0     0   0    0      5      0     0   \n",
       "2  352120000005123   176    10     11     0   0    0      0      0     0   \n",
       "3  352120000006659   192     0      0     0   0    0      0      0     0   \n",
       "4  352120000010106   120    11      8     0   0    0      0      0     0   \n",
       "\n",
       "   三目其他    三目项目总价  三目统计项目总计和  \n",
       "0     2  9.259740          5  \n",
       "1     0  9.465761          3  \n",
       "2     0  9.388239          4  \n",
       "3     0  9.188587          3  \n",
       "4     0  9.075157          5  "
      ]
     },
     "execution_count": 135,
     "metadata": {},
     "output_type": "execute_result"
    }
   ],
   "source": [
    "fee_detail = pd.read_pickle(\"金额细节.pickle\")\n",
    "\n",
    "# 修改一下fee_detail的总价和三目统计项目\n",
    "fee_detail = fee_detail.rename(columns = {\"总价\":\"三目项目总价\",\"三目统计项目\":\"三目统计项目总计和\"})\n",
    "fee_detail.head()"
   ]
  },
  {
   "cell_type": "code",
   "execution_count": 136,
   "metadata": {
    "collapsed": false
   },
   "outputs": [
    {
     "data": {
      "text/html": [
       "<div>\n",
       "<table border=\"1\" class=\"dataframe\">\n",
       "  <thead>\n",
       "    <tr style=\"text-align: right;\">\n",
       "      <th></th>\n",
       "      <th>个人编码</th>\n",
       "      <th>药品费发生金额</th>\n",
       "      <th>贵重药品发生金额</th>\n",
       "      <th>中成药费发生金额</th>\n",
       "      <th>中草药费发生金额</th>\n",
       "      <th>药品费自费金额</th>\n",
       "      <th>药品费申报金额</th>\n",
       "      <th>检查费发生金额</th>\n",
       "      <th>检查费申报金额</th>\n",
       "      <th>治疗费发生金额</th>\n",
       "      <th>...</th>\n",
       "      <th>糖尿病门诊</th>\n",
       "      <th>其他门诊</th>\n",
       "      <th>乙肝</th>\n",
       "      <th>肝素钙</th>\n",
       "      <th>脑心通胶囊</th>\n",
       "      <th>通心络胶囊</th>\n",
       "      <th>其他胶囊</th>\n",
       "      <th>三目其他</th>\n",
       "      <th>三目项目总价</th>\n",
       "      <th>三目统计项目总计和</th>\n",
       "    </tr>\n",
       "  </thead>\n",
       "  <tbody>\n",
       "    <tr>\n",
       "      <th>0</th>\n",
       "      <td>352120000001598</td>\n",
       "      <td>9.171610</td>\n",
       "      <td>-13.815511</td>\n",
       "      <td>7.838375</td>\n",
       "      <td>6.543451</td>\n",
       "      <td>5.346965</td>\n",
       "      <td>9.145449</td>\n",
       "      <td>5.594711</td>\n",
       "      <td>5.594711</td>\n",
       "      <td>6.138806</td>\n",
       "      <td>...</td>\n",
       "      <td>16</td>\n",
       "      <td>0</td>\n",
       "      <td>0</td>\n",
       "      <td>0</td>\n",
       "      <td>0</td>\n",
       "      <td>0</td>\n",
       "      <td>0</td>\n",
       "      <td>2</td>\n",
       "      <td>9.259740</td>\n",
       "      <td>5</td>\n",
       "    </tr>\n",
       "    <tr>\n",
       "      <th>1</th>\n",
       "      <td>352120000004806</td>\n",
       "      <td>9.154141</td>\n",
       "      <td>-13.815511</td>\n",
       "      <td>7.158031</td>\n",
       "      <td>8.114642</td>\n",
       "      <td>3.510650</td>\n",
       "      <td>9.148880</td>\n",
       "      <td>-13.815511</td>\n",
       "      <td>-13.815511</td>\n",
       "      <td>8.171882</td>\n",
       "      <td>...</td>\n",
       "      <td>0</td>\n",
       "      <td>0</td>\n",
       "      <td>0</td>\n",
       "      <td>0</td>\n",
       "      <td>5</td>\n",
       "      <td>0</td>\n",
       "      <td>0</td>\n",
       "      <td>0</td>\n",
       "      <td>9.465761</td>\n",
       "      <td>3</td>\n",
       "    </tr>\n",
       "    <tr>\n",
       "      <th>2</th>\n",
       "      <td>352120000005123</td>\n",
       "      <td>9.347537</td>\n",
       "      <td>8.357170</td>\n",
       "      <td>6.363855</td>\n",
       "      <td>7.596473</td>\n",
       "      <td>-13.815511</td>\n",
       "      <td>9.347537</td>\n",
       "      <td>5.099866</td>\n",
       "      <td>5.099866</td>\n",
       "      <td>5.895779</td>\n",
       "      <td>...</td>\n",
       "      <td>11</td>\n",
       "      <td>0</td>\n",
       "      <td>0</td>\n",
       "      <td>0</td>\n",
       "      <td>0</td>\n",
       "      <td>0</td>\n",
       "      <td>0</td>\n",
       "      <td>0</td>\n",
       "      <td>9.388239</td>\n",
       "      <td>4</td>\n",
       "    </tr>\n",
       "    <tr>\n",
       "      <th>3</th>\n",
       "      <td>352120000006659</td>\n",
       "      <td>9.529905</td>\n",
       "      <td>8.758595</td>\n",
       "      <td>8.758595</td>\n",
       "      <td>8.909251</td>\n",
       "      <td>-13.815511</td>\n",
       "      <td>9.529905</td>\n",
       "      <td>-13.815511</td>\n",
       "      <td>-13.815511</td>\n",
       "      <td>4.262680</td>\n",
       "      <td>...</td>\n",
       "      <td>0</td>\n",
       "      <td>0</td>\n",
       "      <td>0</td>\n",
       "      <td>0</td>\n",
       "      <td>0</td>\n",
       "      <td>0</td>\n",
       "      <td>0</td>\n",
       "      <td>0</td>\n",
       "      <td>9.188587</td>\n",
       "      <td>3</td>\n",
       "    </tr>\n",
       "    <tr>\n",
       "      <th>4</th>\n",
       "      <td>352120000010106</td>\n",
       "      <td>8.960440</td>\n",
       "      <td>-13.815511</td>\n",
       "      <td>7.951408</td>\n",
       "      <td>5.549893</td>\n",
       "      <td>-1.560643</td>\n",
       "      <td>8.957095</td>\n",
       "      <td>4.859812</td>\n",
       "      <td>4.859812</td>\n",
       "      <td>5.065755</td>\n",
       "      <td>...</td>\n",
       "      <td>8</td>\n",
       "      <td>0</td>\n",
       "      <td>0</td>\n",
       "      <td>0</td>\n",
       "      <td>0</td>\n",
       "      <td>0</td>\n",
       "      <td>0</td>\n",
       "      <td>0</td>\n",
       "      <td>9.075157</td>\n",
       "      <td>5</td>\n",
       "    </tr>\n",
       "  </tbody>\n",
       "</table>\n",
       "<p>5 rows × 33 columns</p>\n",
       "</div>"
      ],
      "text/plain": [
       "              个人编码   药品费发生金额   贵重药品发生金额  中成药费发生金额  中草药费发生金额    药品费自费金额  \\\n",
       "0  352120000001598  9.171610 -13.815511  7.838375  6.543451   5.346965   \n",
       "1  352120000004806  9.154141 -13.815511  7.158031  8.114642   3.510650   \n",
       "2  352120000005123  9.347537   8.357170  6.363855  7.596473 -13.815511   \n",
       "3  352120000006659  9.529905   8.758595  8.758595  8.909251 -13.815511   \n",
       "4  352120000010106  8.960440 -13.815511  7.951408  5.549893  -1.560643   \n",
       "\n",
       "    药品费申报金额    检查费发生金额    检查费申报金额   治疗费发生金额    ...      糖尿病门诊  其他门诊  乙肝  肝素钙  \\\n",
       "0  9.145449   5.594711   5.594711  6.138806    ...         16     0   0    0   \n",
       "1  9.148880 -13.815511 -13.815511  8.171882    ...          0     0   0    0   \n",
       "2  9.347537   5.099866   5.099866  5.895779    ...         11     0   0    0   \n",
       "3  9.529905 -13.815511 -13.815511  4.262680    ...          0     0   0    0   \n",
       "4  8.957095   4.859812   4.859812  5.065755    ...          8     0   0    0   \n",
       "\n",
       "   脑心通胶囊  通心络胶囊  其他胶囊  三目其他    三目项目总价  三目统计项目总计和  \n",
       "0      0      0     0     2  9.259740          5  \n",
       "1      5      0     0     0  9.465761          3  \n",
       "2      0      0     0     0  9.388239          4  \n",
       "3      0      0     0     0  9.188587          3  \n",
       "4      0      0     0     0  9.075157          5  \n",
       "\n",
       "[5 rows x 33 columns]"
      ]
     },
     "execution_count": 136,
     "metadata": {},
     "output_type": "execute_result"
    }
   ],
   "source": [
    "# 金额特征和金额细节合并成fee表\n",
    "fee = pd.merge(fee_feature,fee_detail,how='left',left_on=['个人编码'],right_on=['个人编码'])\n",
    "fee.head()"
   ]
  },
  {
   "cell_type": "code",
   "execution_count": 137,
   "metadata": {
    "collapsed": false
   },
   "outputs": [
    {
     "data": {
      "text/html": [
       "<div>\n",
       "<table border=\"1\" class=\"dataframe\">\n",
       "  <thead>\n",
       "    <tr style=\"text-align: right;\">\n",
       "      <th></th>\n",
       "      <th>个人编码</th>\n",
       "      <th>挂号</th>\n",
       "      <th>空值</th>\n",
       "      <th>肾病</th>\n",
       "      <th>门特</th>\n",
       "      <th>心血管病</th>\n",
       "      <th>脑血管病</th>\n",
       "      <th>癌症</th>\n",
       "      <th>肺病</th>\n",
       "      <th>糖尿病</th>\n",
       "      <th>...</th>\n",
       "      <th>精神病</th>\n",
       "      <th>高血压</th>\n",
       "      <th>病变</th>\n",
       "      <th>偏瘫</th>\n",
       "      <th>心脏病</th>\n",
       "      <th>肺心病</th>\n",
       "      <th>肾性</th>\n",
       "      <th>合并</th>\n",
       "      <th>肾病1</th>\n",
       "      <th>其他</th>\n",
       "    </tr>\n",
       "  </thead>\n",
       "  <tbody>\n",
       "    <tr>\n",
       "      <th>0</th>\n",
       "      <td>352120000001598</td>\n",
       "      <td>1</td>\n",
       "      <td>1</td>\n",
       "      <td>1</td>\n",
       "      <td>1</td>\n",
       "      <td>1</td>\n",
       "      <td>0</td>\n",
       "      <td>0</td>\n",
       "      <td>0</td>\n",
       "      <td>4</td>\n",
       "      <td>...</td>\n",
       "      <td>0</td>\n",
       "      <td>0</td>\n",
       "      <td>2</td>\n",
       "      <td>0</td>\n",
       "      <td>0</td>\n",
       "      <td>0</td>\n",
       "      <td>0</td>\n",
       "      <td>2</td>\n",
       "      <td>0</td>\n",
       "      <td>0</td>\n",
       "    </tr>\n",
       "    <tr>\n",
       "      <th>1</th>\n",
       "      <td>352120000004806</td>\n",
       "      <td>1</td>\n",
       "      <td>1</td>\n",
       "      <td>0</td>\n",
       "      <td>0</td>\n",
       "      <td>4</td>\n",
       "      <td>5</td>\n",
       "      <td>0</td>\n",
       "      <td>0</td>\n",
       "      <td>0</td>\n",
       "      <td>...</td>\n",
       "      <td>0</td>\n",
       "      <td>2</td>\n",
       "      <td>0</td>\n",
       "      <td>4</td>\n",
       "      <td>0</td>\n",
       "      <td>0</td>\n",
       "      <td>0</td>\n",
       "      <td>0</td>\n",
       "      <td>0</td>\n",
       "      <td>0</td>\n",
       "    </tr>\n",
       "    <tr>\n",
       "      <th>2</th>\n",
       "      <td>352120000005123</td>\n",
       "      <td>1</td>\n",
       "      <td>1</td>\n",
       "      <td>0</td>\n",
       "      <td>1</td>\n",
       "      <td>1</td>\n",
       "      <td>0</td>\n",
       "      <td>0</td>\n",
       "      <td>0</td>\n",
       "      <td>2</td>\n",
       "      <td>...</td>\n",
       "      <td>0</td>\n",
       "      <td>0</td>\n",
       "      <td>0</td>\n",
       "      <td>0</td>\n",
       "      <td>1</td>\n",
       "      <td>0</td>\n",
       "      <td>0</td>\n",
       "      <td>0</td>\n",
       "      <td>0</td>\n",
       "      <td>0</td>\n",
       "    </tr>\n",
       "    <tr>\n",
       "      <th>3</th>\n",
       "      <td>352120000006659</td>\n",
       "      <td>1</td>\n",
       "      <td>1</td>\n",
       "      <td>0</td>\n",
       "      <td>0</td>\n",
       "      <td>0</td>\n",
       "      <td>0</td>\n",
       "      <td>1</td>\n",
       "      <td>0</td>\n",
       "      <td>0</td>\n",
       "      <td>...</td>\n",
       "      <td>0</td>\n",
       "      <td>0</td>\n",
       "      <td>0</td>\n",
       "      <td>0</td>\n",
       "      <td>0</td>\n",
       "      <td>0</td>\n",
       "      <td>0</td>\n",
       "      <td>0</td>\n",
       "      <td>0</td>\n",
       "      <td>0</td>\n",
       "    </tr>\n",
       "    <tr>\n",
       "      <th>4</th>\n",
       "      <td>352120000010106</td>\n",
       "      <td>1</td>\n",
       "      <td>1</td>\n",
       "      <td>1</td>\n",
       "      <td>0</td>\n",
       "      <td>1</td>\n",
       "      <td>0</td>\n",
       "      <td>0</td>\n",
       "      <td>0</td>\n",
       "      <td>1</td>\n",
       "      <td>...</td>\n",
       "      <td>0</td>\n",
       "      <td>0</td>\n",
       "      <td>0</td>\n",
       "      <td>0</td>\n",
       "      <td>1</td>\n",
       "      <td>0</td>\n",
       "      <td>0</td>\n",
       "      <td>0</td>\n",
       "      <td>1</td>\n",
       "      <td>0</td>\n",
       "    </tr>\n",
       "  </tbody>\n",
       "</table>\n",
       "<p>5 rows × 21 columns</p>\n",
       "</div>"
      ],
      "text/plain": [
       "              个人编码  挂号  空值  肾病  门特  心血管病  脑血管病  癌症  肺病  糖尿病 ...  精神病  高血压  病变  \\\n",
       "0  352120000001598   1   1   1   1     1     0   0   0    4 ...    0    0   2   \n",
       "1  352120000004806   1   1   0   0     4     5   0   0    0 ...    0    2   0   \n",
       "2  352120000005123   1   1   0   1     1     0   0   0    2 ...    0    0   0   \n",
       "3  352120000006659   1   1   0   0     0     0   1   0    0 ...    0    0   0   \n",
       "4  352120000010106   1   1   1   0     1     0   0   0    1 ...    0    0   0   \n",
       "\n",
       "   偏瘫  心脏病  肺心病  肾性  合并  肾病1  其他  \n",
       "0   0    0    0   0   2    0   0  \n",
       "1   4    0    0   0   0    0   0  \n",
       "2   0    1    0   0   0    0   0  \n",
       "3   0    0    0   0   0    0   0  \n",
       "4   0    1    0   0   0    1   0  \n",
       "\n",
       "[5 rows x 21 columns]"
      ]
     },
     "execution_count": 137,
     "metadata": {},
     "output_type": "execute_result"
    }
   ],
   "source": [
    "cyzd = pd.read_pickle(\"出院诊断病种分词将结果.pickle\")\n",
    "cyzd.head()"
   ]
  },
  {
   "cell_type": "code",
   "execution_count": 138,
   "metadata": {
    "collapsed": true
   },
   "outputs": [],
   "source": [
    "cyzd.columns=['个人编码','挂号次数和','空值次数和','肾病次数和','门特次数和','心血管病次数和',\n",
    " '脑血管病次数和','癌症次数和','肺病次数和','糖尿病次数和','神经病次数和','精神病次数和','高血压次数和',\n",
    " '病变次数和','偏瘫次数和','心脏病次数和','肺心病次数和', '肾性次数和','合并次数和','肾病1次数和','其他次数和']"
   ]
  },
  {
   "cell_type": "code",
   "execution_count": 139,
   "metadata": {
    "collapsed": true
   },
   "outputs": [],
   "source": [
    "# 合并出院诊断病种\n",
    "fee_cyzd = pd.merge(fee,cyzd,how='left')"
   ]
  },
  {
   "cell_type": "code",
   "execution_count": 140,
   "metadata": {
    "collapsed": true
   },
   "outputs": [],
   "source": [
    "hs_cont = pd.read_pickle(\"出院诊断病种的个数.pickle\")"
   ]
  },
  {
   "cell_type": "code",
   "execution_count": 141,
   "metadata": {
    "collapsed": true
   },
   "outputs": [],
   "source": [
    "#合并出院诊断病种个数\n",
    "fee_hs_cyzd=pd.merge(fee_cyzd,hs_cont,how ='left')"
   ]
  },
  {
   "cell_type": "code",
   "execution_count": 142,
   "metadata": {
    "collapsed": true
   },
   "outputs": [],
   "source": [
    "zhou = pd.read_pickle('周索引.pickle')\n",
    "tian = pd.read_pickle('天索引.pickle')\n",
    "jyjg=pd.read_pickle('交易间隔.pickle')\n",
    "jycs = pd.read_pickle('交易次数.pickle')"
   ]
  },
  {
   "cell_type": "code",
   "execution_count": 144,
   "metadata": {
    "collapsed": false
   },
   "outputs": [],
   "source": [
    "data0 = pd.merge(fee_hs_cyzd,zhou,how='left')\n",
    "\n",
    "data1 =pd.merge(data0,tian[[\"个人编码\",\"上中下旬\"]],how = 'left')\n",
    "\n",
    "data2 = pd.merge(data1,jyjg,how='left')\n",
    "\n",
    "data3 = pd.merge(data2,jycs,how='left')\n",
    "\n",
    "data3.to_pickle(\"测试集总表v1.pickle\")"
   ]
  },
  {
   "cell_type": "code",
   "execution_count": 146,
   "metadata": {
    "collapsed": false
   },
   "outputs": [
    {
     "data": {
      "text/plain": [
       "(4000, 59)"
      ]
     },
     "execution_count": 146,
     "metadata": {},
     "output_type": "execute_result"
    }
   ],
   "source": [
    "data3.shape"
   ]
  },
  {
   "cell_type": "code",
   "execution_count": 147,
   "metadata": {
    "collapsed": true
   },
   "outputs": [],
   "source": [
    "hs_count=pd.read_pickle(\"医院个数.pickle\")"
   ]
  },
  {
   "cell_type": "code",
   "execution_count": 148,
   "metadata": {
    "collapsed": true
   },
   "outputs": [],
   "source": [
    "data4 = pd.merge(data3,hs_count,how='left')"
   ]
  },
  {
   "cell_type": "code",
   "execution_count": 149,
   "metadata": {
    "collapsed": true
   },
   "outputs": [],
   "source": [
    "data4.to_pickle(\"测试集总表v2.pickle\")"
   ]
  },
  {
   "cell_type": "markdown",
   "metadata": {
    "collapsed": true
   },
   "source": [
    "# 20170810 --23:39删除旧周表，添加新周表"
   ]
  },
  {
   "cell_type": "code",
   "execution_count": 22,
   "metadata": {
    "collapsed": true
   },
   "outputs": [],
   "source": [
    "data4 = pd.read_pickle(\"/home/zhh/文档/阿里巴巴/data/7测试表合表/测试集总表v2.pickle\")\n",
    "new_weekname = pd.read_pickle(\"/home/zhh/文档/阿里巴巴/data/7测试表合表/新周表.pickle\")"
   ]
  },
  {
   "cell_type": "code",
   "execution_count": 25,
   "metadata": {
    "collapsed": false
   },
   "outputs": [],
   "source": [
    "data4.drop([\"一周星期几\"],axis=1,inplace=True)"
   ]
  },
  {
   "cell_type": "code",
   "execution_count": 27,
   "metadata": {
    "collapsed": false
   },
   "outputs": [],
   "source": [
    "data5 = pd.merge(data4,new_weekname,how='left')"
   ]
  },
  {
   "cell_type": "code",
   "execution_count": 30,
   "metadata": {
    "collapsed": false
   },
   "outputs": [],
   "source": [
    "data5.head()\n",
    "data5.to_pickle(\"/home/zhh/文档/阿里巴巴/data/7测试表合表/测试集总表v3.pickle\")"
   ]
  },
  {
   "cell_type": "code",
   "execution_count": null,
   "metadata": {
    "collapsed": true
   },
   "outputs": [],
   "source": []
  }
 ],
 "metadata": {
  "kernelspec": {
   "display_name": "Python 3",
   "language": "python",
   "name": "python3"
  },
  "language_info": {
   "codemirror_mode": {
    "name": "ipython",
    "version": 3
   },
   "file_extension": ".py",
   "mimetype": "text/x-python",
   "name": "python",
   "nbconvert_exporter": "python",
   "pygments_lexer": "ipython3",
   "version": "3.6.0"
  }
 },
 "nbformat": 4,
 "nbformat_minor": 2
}
